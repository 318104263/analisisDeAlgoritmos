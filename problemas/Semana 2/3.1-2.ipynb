{
 "cells": [
  {
   "cell_type": "markdown",
   "id": "d3c47d94-1854-4066-81d5-6ba01a271fda",
   "metadata": {},
   "source": [
    "# Ejercicio 3.1-2\n",
    "\n",
    "## Enunciado:\n",
    "\n",
    "**Usando un razonamiento similar al que usamos para la ordenación por inserción, analiza el tiempo de ejecución del algoritmo de selección (selection sort) del Ejercicio 2.2-2.**\n",
    "\n",
    "\n",
    "En pseudocódigo, el algoritmo sería:"
   ]
  },
  {
   "cell_type": "markdown",
   "id": "5dfd0cbc-3b00-465a-ac28-5620b33ca01a",
   "metadata": {},
   "source": [
    "```pseudo\n",
    "SELECTION-SORT(A, n)\n",
    "  for i = 1 to n - 1\n",
    "    min_index = i\n",
    "    for j = i + 1 to n\n",
    "      if A[j] < A[min_index]\n",
    "        min_index = j\n",
    "    swap A[i] with A[min_index]"
   ]
  },
  {
   "cell_type": "markdown",
   "id": "babb377b-f687-4a51-a6cb-4492e0a57f23",
   "metadata": {},
   "source": [
    "### **Análisis del tiempo de ejecución**\n",
    "\n",
    "Al igual que en el caso de la ordenación por inserción, el algoritmo de selección tiene dos bucles anidados:\n",
    "\n",
    "- **Bucle de afuera**: Recorre todo el arreglo desde la primera posición hasta la penúltima. Se ejecuta $n - 1$ veces.\n",
    "- **Bucle de adentro**: Busca el elemento mínimo en el subarreglo desde la posición $i + 1$ hasta el final, lo que implica comparaciones en cada iteración del bucle externo.\n",
    "\n",
    "#### **Comparaciones:**\n",
    "\n",
    "1. En la primera iteración, el bucle de adentro realiza $n - 1$ comparaciones para encontrar el mínimo en el subarreglo $A[2:n]$.\n",
    "2. En la segunda iteración, realiza $n - 2$ comparaciones para encontrar el siguiente mínimo en el subarreglo $A[3:n]$.\n",
    "3. Esto continúa hasta que en la última iteración realiza una sola comparación.\n",
    "\n",
    "Entonces, el número total de comparaciones es:\n",
    "\n",
    "$$\n",
    "(n - 1) + (n - 2) + (n - 3) + \\dots + 2 + 1 = \\frac{(n - 1)n}{2}\n",
    "$$\n",
    "\n",
    "Esto es aproximadamente $n^2 / 2$, lo que significa que el número de comparaciones en el peor caso es $O(n^2)$.\n",
    "\n",
    "#### **Número total de intercambios:**\n",
    "\n",
    "- Cada vez que se encuentra el elemento mínimo en el subarreglo, el algoritmo realiza un intercambio para colocarlo en la posición correcta.\n",
    "- Dado que el bucle externo se ejecuta $n - 1$ veces, el número de intercambios es como máximo $n - 1$.\n",
    "\n",
    "Sin embargo, los intercambios ocurren en una cantidad lineal de veces ($O(n)$), por lo que no afectan el orden de crecimiento del tiempo de ejecución.\n",
    "\n",
    "El tiempo de ejecución del algoritmo de selección está dominado por el número de comparaciones, que es $O(n^2)$. Aunque el número de intercambios es $O(n)$, este término es insignificante en comparación con el número de comparaciones.\n",
    "\n",
    "Entonces, el tiempo de ejecución en el peor caso del algoritmo de selección es **$O(n^2)$**.\n"
   ]
  },
  {
   "cell_type": "code",
   "execution_count": null,
   "id": "fd9f71d8-075a-4617-9cfe-9e25c0a80b02",
   "metadata": {},
   "outputs": [],
   "source": []
  }
 ],
 "metadata": {
  "kernelspec": {
   "display_name": "Julia 1.10.4",
   "language": "julia",
   "name": "julia-1.10"
  },
  "language_info": {
   "file_extension": ".jl",
   "mimetype": "application/julia",
   "name": "julia",
   "version": "1.10.4"
  }
 },
 "nbformat": 4,
 "nbformat_minor": 5
}
