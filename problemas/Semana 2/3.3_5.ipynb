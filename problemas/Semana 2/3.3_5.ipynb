{
 "cells": [
  {
   "cell_type": "markdown",
   "id": "037ce398-1188-4b4b-bb4e-8bc217901147",
   "metadata": {},
   "source": [
    "## Enunciado"
   ]
  },
  {
   "cell_type": "markdown",
   "id": "513ce8bc-a9cf-46a5-99f7-57736cccd2e7",
   "metadata": {},
   "source": [
    "¿Es la función $\\lceil \\lg n \\rceil !$ acotada polinómicamente? ¿Es la función $\\lceil \\lg \\lg n\\rceil!$ acotada polinómicamente?"
   ]
  },
  {
   "cell_type": "markdown",
   "id": "ebb21792-6e00-4ea8-a5ba-7a783e597512",
   "metadata": {},
   "source": [
    "## Solución"
   ]
  },
  {
   "cell_type": "markdown",
   "id": "28edc6d3-d006-4360-9c55-e03dee2a86b5",
   "metadata": {},
   "source": [
    "Notemos que"
   ]
  },
  {
   "cell_type": "markdown",
   "id": "ff79f19e-304b-489b-9ed2-20095537917d",
   "metadata": {},
   "source": [
    "$$\n",
    "    \\begin{equation*}\\begin{split}\n",
    "        \\lg (m!) &= \\lg [(1)(2)\\dots (m)]\\\\\n",
    "                 &= \\lg 1 + \\lg 2 + \\dots + \\lg m\\\\\n",
    "                 &= \\sum_{k=1}^m \\lg k\n",
    "    \\end{split}\\end{equation*}\n",
    "$$"
   ]
  },
  {
   "cell_type": "markdown",
   "id": "e91c2499-6feb-485c-b7fd-c61ddf4af77d",
   "metadata": {},
   "source": [
    "Podemos aproximar esta suma con una integral, sobre todo para valores grandes de $m$"
   ]
  },
  {
   "cell_type": "markdown",
   "id": "bd66122a-48d8-4128-b100-c59538574f03",
   "metadata": {},
   "source": [
    "$$\n",
    "    \\begin{equation*}\\begin{split}\n",
    "        \\lg(m!) &= \\sum_{k=1}^m \\lg k\\\\\n",
    "                &\\approx \\int_1^m \\lg k\\,dk\\\\\n",
    "                &\\approx \\frac{1}{\\ln 2} \\int_1^m \\ln k \\, dk\\\\\n",
    "                &\\approx \\frac{1}{\\ln 2} [k \\ln k - k]\\bigg|_1^m\\\\\n",
    "                &\\approx c_1 m\\lg m + o(m \\lg m)\n",
    "    \\end{split}\\end{equation*}\n",
    "$$"
   ]
  },
  {
   "cell_type": "markdown",
   "id": "0135ef10-3916-45f6-ad66-eadd0fc35912",
   "metadata": {},
   "source": [
    "Podemos ver que $\\lg(m!)=\\Theta(m\\lg m)$ para todo valor $m>1$, además"
   ]
  },
  {
   "cell_type": "markdown",
   "id": "b292976b-a8cd-4b01-9b73-f86d689a8224",
   "metadata": {},
   "source": [
    "$$\n",
    "    \\begin{equation*}\\begin{split}\n",
    "        \\lg(m!) = c_1 m \\lg m + o(m \\lg m) &\\implies 2^{\\lg(m!)} = c_2 2^{m \\lg m} + o(2^{m \\lg m})\\\\\n",
    "                                           &\\implies m! = c_2 m 2^m + o(m 2^m)\n",
    "    \\end{split}\\end{equation*}\n",
    "$$"
   ]
  },
  {
   "cell_type": "markdown",
   "id": "c84559f5-73ac-4cdb-a5b2-efdd905d0b7f",
   "metadata": {},
   "source": [
    "La función $m!$ es al menos de crecimiento exponencial para $m>1$, por lo que $\\lceil \\lg n \\rceil !$ y $\\lceil \\lg \\lg n\\rceil!$ no están acotadas polinómicamente."
   ]
  }
 ],
 "metadata": {
  "kernelspec": {
   "display_name": "Julia 1.10.5",
   "language": "julia",
   "name": "julia-1.10"
  },
  "language_info": {
   "file_extension": ".jl",
   "mimetype": "application/julia",
   "name": "julia",
   "version": "1.10.5"
  }
 },
 "nbformat": 4,
 "nbformat_minor": 5
}
