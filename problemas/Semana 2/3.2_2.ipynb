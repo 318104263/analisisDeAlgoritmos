{
 "cells": [
  {
   "cell_type": "markdown",
   "id": "1dd95f99-2b78-4b17-b349-14013adc028f",
   "metadata": {},
   "source": [
    "## Enunciado"
   ]
  },
  {
   "cell_type": "markdown",
   "id": "36f6b3fe-fb05-4759-89c1-7983744d2459",
   "metadata": {},
   "source": [
    "Explica por qué el enunciado \"El tiempo de ejecución del algoritmo $A$ es al menos $O(n^2)$\" es insignificante."
   ]
  },
  {
   "cell_type": "markdown",
   "id": "b734f8ee-429b-41cd-9436-ad677ed06bde",
   "metadata": {},
   "source": [
    "## Solución"
   ]
  },
  {
   "cell_type": "markdown",
   "id": "25fff331-e768-4f2d-adf3-c18db40ee57a",
   "metadata": {},
   "source": [
    "Porque la notacion $O(n^2)$ da una cota superior al tiempo de ejecucion, y decir que la cota superior es al menos eso significa que no sabemos donde se ubica realmente"
   ]
  }
 ],
 "metadata": {
  "kernelspec": {
   "display_name": "Julia 1.10.5",
   "language": "julia",
   "name": "julia-1.10"
  },
  "language_info": {
   "file_extension": ".jl",
   "mimetype": "application/julia",
   "name": "julia",
   "version": "1.10.5"
  }
 },
 "nbformat": 4,
 "nbformat_minor": 5
}
