{
 "cells": [
  {
   "cell_type": "markdown",
   "id": "fcd0c527-e11d-44a6-aac0-cb8976fcfe01",
   "metadata": {},
   "source": [
    "# Ejercicio 3.3-2\n",
    "\n",
    "## Enunciado:\n",
    "Demostrar :\n",
    "\n",
    "$$\n",
    "\\lfloor \\alpha n \\rfloor + \\lfloor (1 - \\alpha) n \\rfloor = n\n",
    "$$\n",
    "\n",
    "para cualquier entero $ n $ y número real $ \\alpha $ en el rango $ 0 \\leq \\alpha \\leq 1 $.\n",
    "\n",
    "Podemos escribir $ \\alpha n $ como la suma de su parte entera y su parte fraccionaria:\n",
    "\n",
    "$$\n",
    "\\alpha n = \\lfloor \\alpha n \\rfloor + \\{ \\alpha n \\},\n",
    "$$\n",
    "\n",
    "donde $ \\lfloor \\alpha n \\rfloor $ es la parte entera de $ \\alpha n $ y $ \\{ \\alpha n \\} $ es la parte fraccionaria.\n",
    "\n",
    "Tambien, podemos escribir $ (1 - \\alpha) n $ como:\n",
    "\n",
    "$$\n",
    "(1 - \\alpha) n = \\lfloor (1 - \\alpha) n \\rfloor + \\{ (1 - \\alpha) n \\}.\n",
    "$$\n",
    "\n",
    "Queremos demostrar que la suma de las partes enteras de $ \\alpha n $ y $ (1 - \\alpha) n $ es igual a $ n $, lo que significa, demostrar que:\n",
    "\n",
    "$$\n",
    "\\lfloor \\alpha n \\rfloor + \\lfloor (1 - \\alpha) n \\rfloor = n.\n",
    "$$\n",
    "\n",
    "Sabemos que:\n",
    "\n",
    "$$\n",
    "\\alpha n + (1 - \\alpha) n = n.\n",
    "$$\n",
    "\n",
    "Entonces:\n",
    "\n",
    "$$\n",
    "\\lfloor \\alpha n \\rfloor + \\lfloor (1 - \\alpha) n \\rfloor \\leq \\alpha n + (1 - \\alpha) n = n.\n",
    "$$\n",
    "\n",
    "La diferencia entre la suma de las partes enteras y $ n $ puede ser 0 o 1, dependiendo de las partes fraccionarias. Específicamente, si la suma de las partes fraccionarias $ \\{ \\alpha n \\} + \\{ (1 - \\alpha) n \\} $ es menor que 1, entonces la suma de las partes enteras es exactamente $ n $. Si la suma de las partes fraccionarias es mayor o igual a 1, las partes fraccionarias contribuyen con un \"sobrante\" que se redondea hacia abajo, y la suma de las partes enteras sigue siendo $ n $.\n",
    "\n",
    "\n",
    "Dado que $ \\lfloor \\alpha n \\rfloor + \\lfloor (1 - \\alpha) n \\rfloor $ no puede ser mayor que $ n $ y siempre es al menos $ n $, concluimos que:\n",
    "\n",
    "$$\n",
    "\\lfloor \\alpha n \\rfloor + \\lfloor (1 - \\alpha) n \\rfloor = n.\n",
    "$$\n",
    "\n",
    "\n",
    "\n"
   ]
  },
  {
   "cell_type": "code",
   "execution_count": null,
   "id": "90e091a9-47d3-4fd2-85e9-df9000ca8296",
   "metadata": {},
   "outputs": [],
   "source": []
  }
 ],
 "metadata": {
  "kernelspec": {
   "display_name": "Julia 1.10.4",
   "language": "julia",
   "name": "julia-1.10"
  },
  "language_info": {
   "file_extension": ".jl",
   "mimetype": "application/julia",
   "name": "julia",
   "version": "1.10.4"
  }
 },
 "nbformat": 4,
 "nbformat_minor": 5
}
