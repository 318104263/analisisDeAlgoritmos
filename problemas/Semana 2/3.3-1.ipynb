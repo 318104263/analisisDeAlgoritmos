{
 "cells": [
  {
   "cell_type": "markdown",
   "id": "71dfb854-26d9-480e-8561-1bfeb3d3d2f1",
   "metadata": {},
   "source": [
    "# Ejercicio 3.3-1"
   ]
  },
  {
   "cell_type": "markdown",
   "id": "b6f76d21-e045-445e-b5c7-c14b6118f7dd",
   "metadata": {},
   "source": [
    "Demostrar que si $f(n)$ y $g(n)$ son funciones monótonamente crecientes, entonces también lo son las funciones $f(n) + g(n)$ y $f(g(n))$, y si $f(n) y g(n)$ son además no negativas, entonces $f(n) \\cdot g(n)$ es monótonamente creciente."
   ]
  },
  {
   "cell_type": "markdown",
   "id": "a5fe34d1-a298-430f-b7f9-228e3bc817e3",
   "metadata": {},
   "source": [
    "Sabemos que una función es monótonamente creciente si $ m \\leq n $ implica que $ f(m) \\leq f(n) $ de manera análoga aplica para $ g(n) $."
   ]
  },
  {
   "cell_type": "markdown",
   "id": "f0abe930-b79f-40bd-8b2f-55a7c45bd4bd",
   "metadata": {},
   "source": [
    "### 1. Demostrar que $ f(n) + g(n) $ es monótonamente creciente."
   ]
  },
  {
   "cell_type": "markdown",
   "id": "789f5e8b-b1af-4c2b-9e1e-bccf6b7383e3",
   "metadata": {},
   "source": [
    "Dado que $ f(n) $ y $ g(n) $, por definición, son funciones monótonamente crecientes. tenemos que: $ f(m) \\leq f(n) $ y $ g(m) \\leq g(n) $ para todo $ m < n $.\n",
    "\n",
    "Al sumar las dos desigualdades obtendemos lo siguiente:\n",
    "\n",
    "$ f(m) + g(m) \\leq f(n) + g(n) $\n",
    "\n",
    "$ \\therefore f(n) + g(n) $ son monótonamente crecientes. "
   ]
  },
  {
   "cell_type": "markdown",
   "id": "516abe32-6239-45d6-8a0f-bc7946dcad41",
   "metadata": {},
   "source": [
    "### 2. Demostrar que $ f(g(n)) $ es monótonamente creciente."
   ]
  },
  {
   "cell_type": "markdown",
   "id": "01ac0d9b-461b-49ce-8195-2f46b663b6fc",
   "metadata": {},
   "source": [
    "Dado que $ g(n) $ es monótonamente creciente, es decir, si $ m < n $, entonces $ g(m) \\leq g(n) $, y de manera análoga lo es $ f(n) $, por transitividad nos da lo siguiente:\n",
    "\n",
    "$ f(g(m)) \\leq f(g(n)) $, siempre que $ g(m) < g(n) $.\n",
    "\n",
    "$ \\therefore f(g(n)) $ es monótonamente creciente."
   ]
  },
  {
   "cell_type": "markdown",
   "id": "33749de8-7fe8-40ec-885a-4cbc5241b8ea",
   "metadata": {},
   "source": [
    "### 3. Demostrar que $ f(n) \\cdot g(n) $ es monótonamente creciente, siempre que $ f(n), g(n) \\geq 0 $."
   ]
  },
  {
   "cell_type": "markdown",
   "id": "3264831b-8ca7-42bf-b034-d2f5f49ee1f0",
   "metadata": {},
   "source": [
    "Dado que $ f(n) $ y $ g(n) $ son funciones no negativas y monótonamente crecientes, tendremos lo siguiente:\n",
    "\n",
    "Para $ m < n $, sabemos que $ f(m) \\leq f(n) $ y $ g(m) \\leq g(n) $.\n",
    "\n",
    "Como ambas funciones son no negativos al multiplicar las desigualdades se mantendrá la relación de orden:\n",
    "\n",
    "$ f(m) \\cdot g(m) \\leq f(n) \\cdot g(n) $\n",
    "\n",
    "$ \\therefore f(n) \\cdot g(n) $ es monótonamente creciente."
   ]
  }
 ],
 "metadata": {
  "kernelspec": {
   "display_name": "Julia 1.10.4",
   "language": "julia",
   "name": "julia-1.10"
  },
  "language_info": {
   "file_extension": ".jl",
   "mimetype": "application/julia",
   "name": "julia",
   "version": "1.10.4"
  }
 },
 "nbformat": 4,
 "nbformat_minor": 5
}
