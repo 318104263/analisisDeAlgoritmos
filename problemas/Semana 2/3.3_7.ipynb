{
 "cells": [
  {
   "cell_type": "markdown",
   "id": "ca8d7d77-b46f-43d7-ba1f-1c2ac4333be1",
   "metadata": {},
   "source": [
    "# Enunciado\n",
    "Muestra que el radio dorado $\\phi$ y su conjugado $\\hat\\phi$ satisfacen la ecuación $x^2=x+1$."
   ]
  },
  {
   "cell_type": "markdown",
   "id": "6cf19a45-a1b2-4f69-84cb-f0fd3ec8664f",
   "metadata": {},
   "source": [
    "# Solución\n",
    "Tenemos que \n",
    "$$\n",
    "\\phi = \\frac{1+\\sqrt{5}}{2} \\quad \\wedge \\quad \\hat\\phi = \\frac{1-\\sqrt{5}}{2}\n",
    "$$\n",
    "Y debemos demostrar que satisfacen la ecuación $x^2-x=1$. Así, para $\\phi$:\n",
    "$$\n",
    "\\begin{align*}\n",
    "x^2-x &= (\\frac{1+\\sqrt{5}}{2} )^2-\\frac{1+\\sqrt{5}}{2} \\\\\n",
    "&= \\frac{1+2\\sqrt{5}+5}{4} -\\frac{1+\\sqrt{5}}{2}\\\\\n",
    "&= \\frac{6+2\\sqrt{5}}{4} -\\frac{1+\\sqrt{5}}{2}\\\\\n",
    "&= \\frac{3+\\sqrt{5}}{2} -\\frac{1+\\sqrt{5}}{2}\\\\\n",
    "&= \\frac{3+\\sqrt{5}-1-\\sqrt{5}}{2}\\\\\n",
    "&= \\frac{2}{2}\\\\\n",
    "&=1\n",
    "\\end{align*}\n",
    "$$\n",
    "Por tanto $\\phi$ satisface la ecuación. Luego, para $\\hat\\phi$:\n",
    "$$\n",
    "\\begin{align*}\n",
    "x^2-x &= (\\frac{1-\\sqrt{5}}{2} )^2-\\frac{1-\\sqrt{5}}{2} \\\\\n",
    "&= \\frac{1-2\\sqrt{5}+5}{4} -\\frac{1-\\sqrt{5}}{2}\\\\\n",
    "&= \\frac{6-2\\sqrt{5}}{4} -\\frac{1-\\sqrt{5}}{2}\\\\\n",
    "&= \\frac{3-\\sqrt{5}}{2} -\\frac{1-\\sqrt{5}}{2}\\\\\n",
    "&= \\frac{3-\\sqrt{5}-1+\\sqrt{5}}{2}\\\\\n",
    "&= \\frac{2}{2}\\\\\n",
    "&=1\n",
    "\\end{align*}\n",
    "$$\n",
    "Por tanto $\\hat\\phi$ satisface la ecuación.\n"
   ]
  }
 ],
 "metadata": {
  "kernelspec": {
   "display_name": "Julia 1.10.4",
   "language": "julia",
   "name": "julia-1.10"
  },
  "language_info": {
   "file_extension": ".jl",
   "mimetype": "application/julia",
   "name": "julia",
   "version": "1.10.4"
  }
 },
 "nbformat": 4,
 "nbformat_minor": 5
}
