{
 "cells": [
  {
   "cell_type": "markdown",
   "id": "ca6e7c98-d7b4-499a-84d5-41a9eb9b8a88",
   "metadata": {},
   "source": [
    "## Enunciado"
   ]
  },
  {
   "cell_type": "markdown",
   "id": "ceb50dcb-f940-4640-b5ae-b356229694c0",
   "metadata": {},
   "source": [
    "¿Cuál es asintóticamente mayor: $lg(lg\\text{*}n)$ ó $lg\\text{*}(lgn)$?"
   ]
  },
  {
   "cell_type": "markdown",
   "id": "19b67bc3-a8d4-425a-8154-3eb81bf76186",
   "metadata": {},
   "source": [
    "## Solución"
   ]
  },
  {
   "cell_type": "markdown",
   "id": "4918a2cc-0f41-4eeb-827c-be8390a5511f",
   "metadata": {},
   "source": [
    "- $lg(lg\\text{*}n)$ es una función que disminuye conforme n crece, porque el valor de $lg\\text{*}n$ es muy pequeño (generalmente entre 1 y 5).\n",
    "- $lg\\text{*}(lgn)$ crece extremadamente lentamente, pero aun asi crece conforme n aumenta, ya que el valor de $lgn$ puede llegar a ser muy grande para valores grandes de n."
   ]
  },
  {
   "cell_type": "markdown",
   "id": "ea35d3e8-ca3b-45b7-aa13-4ec612fd050b",
   "metadata": {},
   "source": [
    "$$\\therefore \\text{ } lg(lg\\text{*}n)=O(lg\\text{*}(lgn))$$"
   ]
  }
 ],
 "metadata": {
  "kernelspec": {
   "display_name": "Julia 1.10.4",
   "language": "julia",
   "name": "julia-1.10"
  },
  "language_info": {
   "file_extension": ".jl",
   "mimetype": "application/julia",
   "name": "julia",
   "version": "1.10.4"
  }
 },
 "nbformat": 4,
 "nbformat_minor": 5
}
