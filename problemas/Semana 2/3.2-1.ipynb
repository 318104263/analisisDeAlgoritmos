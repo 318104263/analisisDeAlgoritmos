{
 "cells": [
  {
   "cell_type": "markdown",
   "id": "8219bdbe-6e11-415f-915a-1c7bae75e94e",
   "metadata": {},
   "source": [
    "# Ejercicio 3.2-1"
   ]
  },
  {
   "cell_type": "markdown",
   "id": "f8c1d05b-7530-41c6-a201-67402bfd2486",
   "metadata": {},
   "source": [
    "Sean $f(n)$ y $g(n)$ funciones asintóticamente no negativas. Utilizando la definición básica de la notación $\\Theta $, demuestre que $máx \\{ f(n), g(n) \\} = \\Theta(f(n) + g(n)) $."
   ]
  },
  {
   "cell_type": "markdown",
   "id": "091c67c0-e7ab-437d-8ad6-25ffdaa470e6",
   "metadata": {},
   "source": [
    "Sabemos que $ \\Theta (g(n)) = f(n) :$ existen constantes positivas $ c_{1}, \\ c_{2} $ y $ n_{0} $ tales que $ 0 \\leq c_{1}g(n) \\leq f(n) \\leq c_{2}g(n) $ para todo $ n \\geq n_{0} $"
   ]
  },
  {
   "cell_type": "markdown",
   "id": "7f46e555-bb2d-4780-b283-67462cbb1317",
   "metadata": {},
   "source": [
    "Por demostrar: $ máx \\{ f(n), g(n) \\} = \\Theta (f(n) + g(n)) $.\n",
    "\n",
    "Dado que $ f(n) $ y $ g(n) $ son funcinoes no negativas asintóticamente, debemos probar que:\n",
    "\n",
    "$ c_{1}(f(n) + g(n)) \\leq máx \\{ f(n), g(n) \\leq c_{2}(f(n) + g(n)) $"
   ]
  },
  {
   "cell_type": "markdown",
   "id": "b02c1d18-d9fc-4941-af8e-94df216ef394",
   "metadata": {},
   "source": [
    "Demostración:\n",
    "Lado inferior ($ máx \\{ f(n),g(n) \\} \\geq c_{1} (f(n)+g(n)) $)"
   ]
  },
  {
   "cell_type": "markdown",
   "id": "37e0e451-5443-4b63-940e-89bdd947e3cb",
   "metadata": {},
   "source": [
    "Notemos que:\n",
    "\n",
    "$c_{1} = \\frac{1}{2} $\n",
    "\n",
    "Entonces, \n",
    "\n",
    "$ máx \\{ f(n),g(n) \\} \\geq \\frac{1}{2}(f(n)+g(n)) $"
   ]
  },
  {
   "cell_type": "markdown",
   "id": "422a7f4c-55d0-4c9f-8aba-1572cabec507",
   "metadata": {},
   "source": [
    "Sabemos que es verdadero, debido a que por definición, el máximo de dos números siempre es mayor o igual que su promedio, por lo tanto satisface la primera condición de la definición de la notación $ \\Theta $"
   ]
  },
  {
   "cell_type": "markdown",
   "id": "a0d8307c-e748-4c54-97be-07a9e2fce1b0",
   "metadata": {},
   "source": [
    "De manera análoga buscamos una $c_{2}$ para el lado superior.\n",
    "\n",
    "$ c_{2} = 1 $\n",
    "\n",
    "Entonces, \n",
    "\n",
    "$ máx \\{ f(n),g(n) \\} \\leq 1 \\cdot (f(n)+g(n)) $"
   ]
  },
  {
   "cell_type": "markdown",
   "id": "42bad92d-d1fe-4cff-93f7-4e065dfec0af",
   "metadata": {},
   "source": [
    "Lo cual cumple porque el máximo entre dos números nunca puede ser mayor que la suma de esos dos números.\n",
    "\n",
    "Lo que implica que:\n",
    "\n",
    "$ máx \\{ f(n), g(n) \\} = \\Theta (f(n) + g(n)) $"
   ]
  },
  {
   "cell_type": "code",
   "execution_count": null,
   "id": "0c0e2e59-407a-49e9-8a0e-53f7e2d32608",
   "metadata": {},
   "outputs": [],
   "source": []
  }
 ],
 "metadata": {
  "kernelspec": {
   "display_name": "Julia 1.10.4",
   "language": "julia",
   "name": "julia-1.10"
  },
  "language_info": {
   "file_extension": ".jl",
   "mimetype": "application/julia",
   "name": "julia",
   "version": "1.10.4"
  }
 },
 "nbformat": 4,
 "nbformat_minor": 5
}
