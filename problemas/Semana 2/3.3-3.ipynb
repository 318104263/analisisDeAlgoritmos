{
 "cells": [
  {
   "cell_type": "markdown",
   "id": "7b0ea57e-a825-4b45-bff8-8d7b6368cd3b",
   "metadata": {},
   "source": [
    "## Enunciado\n",
    "\n",
    "Usar la ecuación 3.14 o cualquier otra para mostrar que $(n+o(n))^k=\\Theta(n^k)$ para cualquier k constante. Concluyendo que $\\lceil n \\rceil^k =\\Theta(n^k)$ y $\\lfloor n \\rfloor^k=\\Theta(n^k)$"
   ]
  },
  {
   "cell_type": "markdown",
   "id": "51d0ffdc-e4e6-48c8-a211-3eab27198b3e",
   "metadata": {},
   "source": [
    "## Solución \n",
    "\n",
    "$o(n)$ implica que estamos acotando una función $f(n)$ tal que $f(n) \\leq cn$, por lo tanto $(n+o(n))^k \\leq (n+cn)k = n^k(1+c)^k$. Notemos que $(1+c)^k$ es constante, podremos re-expresarlo como $bn^k$\\\n",
    "Observemos que $n^k \\leq \\lceil n^k \\rceil \\leq (1+n)^k=O(n^k)$\\\n",
    "Por otro lado $n^k \\geq \\lfloor n^k \\rfloor \\leq \\left( \\frac{n}{2} \\right)^k = \\frac{n^k}{2^k} = \\Omega(n^k)$\\\n",
    "Gracias al teorema 3.1 podemos conluir que $\\lceil n \\rceil^k =\\Theta(n^k)$ y $\\lfloor n \\rfloor^k=\\Theta(n^k)$"
   ]
  }
 ],
 "metadata": {
  "kernelspec": {
   "display_name": "Julia 1.10.4",
   "language": "julia",
   "name": "julia-1.10"
  },
  "language_info": {
   "file_extension": ".jl",
   "mimetype": "application/julia",
   "name": "julia",
   "version": "1.10.4"
  }
 },
 "nbformat": 4,
 "nbformat_minor": 5
}
