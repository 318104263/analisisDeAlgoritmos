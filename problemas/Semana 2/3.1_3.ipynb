{
 "cells": [
  {
   "cell_type": "markdown",
   "id": "7fc46a75-ecce-49d6-9826-16d2f9e598a5",
   "metadata": {},
   "source": [
    "## Enunciado\n",
    "\n",
    "Suponga que $\\alpha$ es una fracción en el rango $\\alpha  \\in (0,1)$. Mostrar como generalizar el argumento de cota inferior para *insertion sort* considerando una entrada donde los $\\alpha n$ valores más grandes empiezan en las primeras $\\alpha n$ posiciones. ¿Que restricciones adicionales necesitamos poner en $\\alpha$? ¿Que valor de $\\alpha$ maximizan el numero de veces que los $\\alpha n$ valores más grandes deben pasar por cada una de las $(1-2\\alpha)n$ posiciones intermedias del array?"
   ]
  },
  {
   "cell_type": "markdown",
   "id": "5e16bc0a-45e5-416c-a2e1-f72962e723c9",
   "metadata": {},
   "source": [
    "## Solución\n",
    "\n",
    "Antes de llegar las últimas $\\alpha n$ posiciones los $\\alpha n$ valores más grandes deben pasar por las $(1-2\\alpha )n$ intermpedias posiciones, cada uno de estos valores debe moverese por estas $(1-2\\alpha )n$, un paso a la vez, por lo tanto los movimientos totales etan dados por $\\alpha n(1-2\\alpha )n = \\alpha (1-2\\alpha )n^2$. Esto implica que $1-2\\alpha>0 \\rightarrow \\alpha<\\frac{1}{2}$\n",
    "\n",
    "Para maximizar el número de movimientos, podemos encontrar el máximo de $\\alpha(1-2\\alpha)$, al derivarla tenemos que $\\frac{d}{d\\alpha}(\\alpha-2\\alpha^2)=1-4\\alpha$, igualando la derivada con 0 tenemos que $\\alpha=\\frac{1}{4}$. tenemos el maximo número de veces que los valores deben parar por las posiciones intermedias"
   ]
  },
  {
   "cell_type": "code",
   "execution_count": null,
   "id": "4f0a7693-60b3-4b61-b9c3-ed1a799736ff",
   "metadata": {},
   "outputs": [],
   "source": []
  }
 ],
 "metadata": {
  "kernelspec": {
   "display_name": "Julia 1.10.4",
   "language": "julia",
   "name": "julia-1.10"
  },
  "language_info": {
   "file_extension": ".jl",
   "mimetype": "application/julia",
   "name": "julia",
   "version": "1.10.4"
  }
 },
 "nbformat": 4,
 "nbformat_minor": 5
}
