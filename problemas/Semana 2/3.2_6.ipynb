{
 "cells": [
  {
   "cell_type": "markdown",
   "id": "0715d213-3d9e-4a99-9480-3f201440341e",
   "metadata": {},
   "source": [
    "## Enunciado"
   ]
  },
  {
   "cell_type": "markdown",
   "id": "6a608634-3a60-4b3e-a288-c1c5bc53e329",
   "metadata": {},
   "source": [
    "Demostrar que $\\omicron(g(n))\\cap\\omega(g(n))$ es el conjunto vacío"
   ]
  },
  {
   "cell_type": "markdown",
   "id": "fe83dec1-6f85-4095-b950-91abfa981e4a",
   "metadata": {},
   "source": [
    "## Solución"
   ]
  },
  {
   "cell_type": "markdown",
   "id": "4d748d18-5ad5-4ace-a243-cc228f4ce499",
   "metadata": {},
   "source": [
    "Sabemos que<br> $f(n)=\\omicron(g(n))$, $c>0$, $n>n_0$ tal que $\\lvert f(n) \\rvert < c\\lvert g(n) \\rvert$\n",
    "<br>$f(n)=\\omega(g(n))$, $c>0$, $n>n_0$, tal que $\\lvert f(n) \\rvert > c\\lvert g(n) \\rvert$\n",
    "<br>Si $f(n)\\in\\omicron(g(n))$ entonces $f(n)$ crece más lentamente que $g(n)$<br>y\n",
    "<br>Si $f(n)\\in\\omega(g(n))$ entonces $f(n)$ crece más rápido que $g(n)$\n",
    "<br>Es imposible que una función crezca tanto más lentamente como más rápidamente que $g(n)$ al mismo tiempo cuando n tiende a $\\infty$ por lo tanto no hay función que pueda estár en ambos conjuntos $\\omicron(g(n))$ y $\\omega(g(n))$ simúltaneamente.\n",
    "<br>$\\therefore \\omicron(g(n))\\cap\\omega(g(n))=\\emptyset$ "
   ]
  }
 ],
 "metadata": {
  "kernelspec": {
   "display_name": "Julia 1.10.4",
   "language": "julia",
   "name": "julia-1.10"
  },
  "language_info": {
   "file_extension": ".jl",
   "mimetype": "application/julia",
   "name": "julia",
   "version": "1.10.4"
  }
 },
 "nbformat": 4,
 "nbformat_minor": 5
}
