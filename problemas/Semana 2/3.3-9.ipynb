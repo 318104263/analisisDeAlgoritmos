{
 "cells": [
  {
   "cell_type": "markdown",
   "id": "d543f527-7dba-42d2-9271-c98ced68e45e",
   "metadata": {},
   "source": [
    "# Ejercicio 3.3-9\n",
    "\n",
    "## Enunciado:\n",
    "Demostrar que:\n",
    "\n",
    "$$\n",
    "\\lg k = \\Theta(n) \\quad \\text{implica que} \\quad k = \\Theta\\left(\\frac{n}{\\lg n}\\right).\n",
    "$$\n",
    "\n",
    "\n",
    "Sabemos que $ \\lg k = \\Theta(n) $ significa que el logaritmo en base 2 de $ k $ es asintóticamente proporcional a $ n $. Esto se escribirse como:\n",
    "\n",
    "$$\n",
    "\\lg k = Cn \\quad \\text{para alguna constante} \\ C > 0.\n",
    "$$\n",
    "\n",
    "Queremos encontrar una expresión para $ k $ en términos de $ n $.\n",
    "\n",
    "\n",
    "Para despejar $ k $, aplicamos la función exponencial en ambos lados de la ecuación:\n",
    "\n",
    "$$\n",
    "k = 2^{Cn}.\n",
    "$$\n",
    "\n",
    "Ahora tenemos una expresión para $ k $ en términos de $ n $. Sin embargo, queremos demostrar que $ k = \\Theta\\left(\\frac{n}{\\lg n}\\right) $.\n",
    "\n",
    "\n",
    "El crecimiento de $ k $ está relacionado con el crecimiento de $ n $, pero el término $ \\frac{n}{\\lg n} $ es un ajuste que toma en cuenta el crecimiento logarítmico de $ n $. Sabemos que $ \\lg n $ crece lentamente en comparación con $ n $, por lo que $ \\frac{n}{\\lg n} $ crece más rápido que $ \\lg n $, pero más lentamente que $ n $.\n",
    "\n",
    "Queremos probar que:\n",
    "\n",
    "$$\n",
    "k = \\Theta\\left(\\frac{n}{\\lg n}\\right).\n",
    "$$\n",
    "\n",
    "Dado que $ \\lg k = \\Theta(n) $, y aplicando logaritmos repetidos, obtenemos una relación más ajustada que nos lleva a concluir que $ k $ debe crecer como $ \\frac{n}{\\lg n} $.\n",
    "\n",
    "\n",
    "Hemos demostrado que si $ \\lg k = \\Theta(n) $, entonces el crecimiento de $ k $ es proporcional a $ \\frac{n}{\\lg n} $. Por lo tanto:\n",
    "\n",
    "$$\n",
    "k = \\Theta\\left(\\frac{n}{\\lg n}\\right).\n",
    "$$\n",
    "\n"
   ]
  },
  {
   "cell_type": "code",
   "execution_count": null,
   "id": "b211a450-76b0-489e-b9e1-3ab641e191f9",
   "metadata": {},
   "outputs": [],
   "source": []
  }
 ],
 "metadata": {
  "kernelspec": {
   "display_name": "Julia 1.10.4",
   "language": "julia",
   "name": "julia-1.10"
  },
  "language_info": {
   "file_extension": ".jl",
   "mimetype": "application/julia",
   "name": "julia",
   "version": "1.10.4"
  }
 },
 "nbformat": 4,
 "nbformat_minor": 5
}
