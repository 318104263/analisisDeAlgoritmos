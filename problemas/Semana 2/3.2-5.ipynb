{
 "cells": [
  {
   "cell_type": "markdown",
   "id": "5dba7cc5-8f1d-4ac4-9207-1f6a475027ff",
   "metadata": {},
   "source": [
    "# Ejercicio 3.2-5\n",
    "\n",
    "## Enunciado:\n",
    "Demostrar:\n",
    "\n",
    "**El tiempo de ejecución de un algoritmo es $ \\Theta(g(n)) $ si y solo si su tiempo de ejecución en el peor caso es $ O(g(n)) $ y su tiempo de ejecución en el mejor caso es $ \\Omega(g(n)) $.**\n",
    "\n",
    "### Definición de $ \\Theta(g(n)) $\n",
    "\n",
    "Sabemos que $ f(n) = \\Theta(g(n)) $ significa que el tiempo de ejecución está acotado tanto por arriba como por abajo por una constante multiplicada por $ g(n) $. Entonces existen constantes positivas $ c_1 $, $ c_2 $ y un valor $ n_0 $, tales que para todo $ n \\geq n_0 $:\n",
    "\n",
    "$$\n",
    "c_1 g(n) \\leq f(n) \\leq c_2 g(n).\n",
    "$$\n",
    "\n",
    "\n",
    "El mejor caso de un algoritmo es el tiempo de ejecución más rápido posible que se puede obtener para alguna entrada del algoritmo. La notación $ f(n) = \\Omega(g(n)) $ implica que el tiempo de ejecución en el mejor caso está acotado por debajo por $ g(n) $. Esto significa que existe una constante positiva $ c_1 $ y un valor $ n_0 $, tales que para todo $ n \\geq n_0 $:\n",
    "\n",
    "$$\n",
    "f(n) \\geq c_1 g(n).\n",
    "$$\n",
    "\n",
    "Esto describe una cota inferior del tiempo de ejecución, que coincide con la parte inferior de la definición de $ \\Theta(g(n)) $.\n",
    "\n",
    "### Peor caso $ O(g(n)) $\n",
    "\n",
    "El peor caso de un algoritmo es el tiempo de ejecución más lento que puede ocurrir para alguna entrada del algoritmo. La notación $ f(n) = O(g(n)) $ implica que el tiempo de ejecución en el peor caso está acotado por arriba por $ g(n) $. Significa que existe una constante positiva $ c_2 $ y un valor $ n_0 $, tales que para todo $ n \\geq n_0 $:\n",
    "\n",
    "$$\n",
    "f(n) \\leq c_2 g(n).\n",
    "$$\n",
    "\n",
    "Esto describe una cota superior del tiempo de ejecución, que coincide con la parte superior de la definición de $ \\Theta(g(n)) $.\n",
    "\n",
    "### Demostración de \"si\" ($ \\Rightarrow $)\n",
    "\n",
    "Si el tiempo de ejecución de un algoritmo es $ \\Theta(g(n)) $, esto significa que tanto el mejor caso como el peor caso del tiempo de ejecución están acotados por $ g(n) $. En otras palabras, si $ f(n) = \\Theta(g(n)) $, entonces también $ f(n) = O(g(n)) $ (para el peor caso) y $ f(n) = \\Omega(g(n)) $ (para el mejor caso).\n",
    "\n",
    "### Demostración de \"solo si\" ($ \\Leftarrow $)\n",
    "\n",
    "Si sabemos que el tiempo de ejecución en el peor caso es $ O(g(n)) $ y el tiempo de ejecución en el mejor caso es $ \\Omega(g(n)) $, entonces podemos combinar estas dos cotas para deducir que el tiempo de ejecución está acotado tanto por arriba como por abajo por $ g(n) $. Esto implica que el tiempo de ejecución es $ \\Theta(g(n)) $.\n",
    "\n",
    "\n",
    "\n",
    "Hemos demostrado que el tiempo de ejecución de un algoritmo es $ \\Theta(g(n)) $ si y solo si su tiempo de ejecución en el peor caso es $ O(g(n)) $ y su tiempo de ejecución en el mejor caso es $ \\Omega(g(n)) $.\n"
   ]
  },
  {
   "cell_type": "code",
   "execution_count": null,
   "id": "8eeba771-c158-46e5-ba6c-c4c2242b58c2",
   "metadata": {},
   "outputs": [],
   "source": []
  }
 ],
 "metadata": {
  "kernelspec": {
   "display_name": "Julia 1.10.4",
   "language": "julia",
   "name": "julia-1.10"
  },
  "language_info": {
   "file_extension": ".jl",
   "mimetype": "application/julia",
   "name": "julia",
   "version": "1.10.4"
  }
 },
 "nbformat": 4,
 "nbformat_minor": 5
}
