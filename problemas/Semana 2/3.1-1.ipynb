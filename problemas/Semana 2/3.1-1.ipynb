{
 "cells": [
  {
   "cell_type": "markdown",
   "id": "81d23154-edbf-4033-91d8-2cee8d56fbec",
   "metadata": {},
   "source": [
    "# Ejercicio 3.1-1"
   ]
  },
  {
   "cell_type": "markdown",
   "id": "a9f3f1c2-68c1-40dd-be93-cbea2229d7f0",
   "metadata": {},
   "source": [
    "Modifique el argumento de límite inferior para Insertion Sort para manejar tamaños de entrada que no sean necesariamente múltiplos de 3."
   ]
  },
  {
   "cell_type": "markdown",
   "id": "0bf3e31c-4cf8-49d7-8aac-a3aff17b58c7",
   "metadata": {},
   "source": [
    "Para esto se realiza en siguientes pasos:\n",
    "1. Dividir la entrada en grupos de 3 elementos, si es posible:\n",
    "    - Si $n$ es divisible entre 3, se divide el arreglo en grupos de 3. Por ejemplo, si $n = 15$ se dividirá el arreglo en 5 grupos de 3.\n",
    "    - Si $n$ no es divisible entre 3, tendrpas un sobrante de 1 o 2 elementos tras agrupaar en grupos de 3. Por ejemplo, si $n = 16$, se tendrá 5 grupos de 3 y 1 elemento sobrante; si $n = 17$, se tendrá 5 grupos de 3 y 2 elementos sobrantes."
   ]
  },
  {
   "cell_type": "markdown",
   "id": "d1e78cd4-3cf2-4364-a3bc-c92f1c16d06e",
   "metadata": {},
   "source": [
    "2. Manejar los elementos restantes por separado:\n",
    "   - Si $n$ no es divisible entre 3, los últimos 1 o 2 elementos se comparan con la parte ya ordenada y se insertan en la posición correcta."
   ]
  },
  {
   "cell_type": "markdown",
   "id": "2606bbe0-c308-4f3c-a9ff-803966e6a2b8",
   "metadata": {},
   "source": [
    "3. Contar las inversiones para todos los elementos:\n",
    "   - El límite inferior de comparaciones en Insertion Sort está relacionado con el número de inversiones en el arreglo.\n",
    "   - Una inversión ocurre cuando un par de elementos está fuera de orden. En un arreglo de tamaño $n$, el número máximo de inversiones es $\\frac{n(n-1)}{2}$ (para un arreglo completamente invertido)."
   ]
  },
  {
   "cell_type": "markdown",
   "id": "4db765f8-80d9-467e-8afb-69b45f6f2a02",
   "metadata": {},
   "source": [
    "4. Número total de comparaciones:\n",
    "   - El número exacto de comparaciones en el peor de los casos seguirá siendo proporcional a $\\frac{n(n-1)}{2}$, sin importar si $n$ es múltiplo de 3 o no.\n",
    "   - La presencia de un sobrante de 1 o 2 elementos no cambia este argumento general. Estos últimos elementos también requieren comparaciones. pero el límite inferior sigue siendo cuadrático."
   ]
  },
  {
   "cell_type": "markdown",
   "id": "38aed9bb-5b1a-4ccf-9967-65ebc0894fad",
   "metadata": {},
   "source": [
    "Por lo tanto el límite inferior para Insertion Sort sigue siendo $ \\Omega (n^2) $ independientemente de si el tamaño de la entrada es múltiplon de 3."
   ]
  },
  {
   "cell_type": "code",
   "execution_count": null,
   "id": "479868a8-5b26-4282-be23-887a7a0bb558",
   "metadata": {},
   "outputs": [],
   "source": []
  }
 ],
 "metadata": {
  "kernelspec": {
   "display_name": "Julia 1.10.4",
   "language": "julia",
   "name": "julia-1.10"
  },
  "language_info": {
   "file_extension": ".jl",
   "mimetype": "application/julia",
   "name": "julia",
   "version": "1.10.4"
  }
 },
 "nbformat": 4,
 "nbformat_minor": 5
}
