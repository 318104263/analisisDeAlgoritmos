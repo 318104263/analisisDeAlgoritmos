{
 "cells": [
  {
   "cell_type": "markdown",
   "id": "1fee60a4-d462-4f5f-829c-8d68a9235a55",
   "metadata": {},
   "source": [
    "## Enunciado"
   ]
  },
  {
   "cell_type": "markdown",
   "id": "f225d288-94a6-440f-b883-f4e47d8e95fd",
   "metadata": {},
   "source": [
    "Podemos ampliar nuestra notación al caso de dos parametros n y m que pueden pasar a $\\infty$ independientemente a ritmos diferentes. Para una función $g(n,m)$ dada, denotamos por $O(g(n,m))$ el conjunto de funciones <br>\n",
    "$O(g(n,m)=(f(n,m):\\text{ existen constantes positivas }c, n_0 \\text{ y } m_0 \\text{ tales que } 0\\leq f(n,m)\\leq cg(n,m) \\text{ para todo } n\\geq n_0 \\text{ o } m\\geq m_0 )$<br>\n",
    "Dar definiciones correspondientes para $\\Omega(g(n,m))$ y $\\Theta(g(n,m))$"
   ]
  },
  {
   "cell_type": "markdown",
   "id": "3b1ec9f9-949b-49e0-bde6-aad065366f56",
   "metadata": {},
   "source": [
    "## Solución"
   ]
  },
  {
   "cell_type": "markdown",
   "id": "fc859660-5975-42a9-9b93-24147276353a",
   "metadata": {},
   "source": [
    "- $\\Omega(g(n,m)=(f(n,m):\\text{ existen constantes positivas }c, n_0 \\text{ y } m_0 \\text{ tales que } 0\\leq cg(n,m)\\leq f(n,m) \\text{ para todo } n\\geq n_0 \\text{ o } m\\geq m_0 )$<br>"
   ]
  },
  {
   "cell_type": "markdown",
   "id": "8f8e9841-2225-48f1-bb50-8475e3fd3595",
   "metadata": {},
   "source": [
    "- $\\Theta(g(n,m)=(f(n,m):\\text{ existen constantes positivas }c_1, c_2, n_0 \\text{ y } m_0 \\text{ tales que } 0\\leq c_1g(n,m)\\leq f(n,m) \\leq c_2g(n,m) \\text{ para todo } n\\geq n_0 \\text{ o } m\\geq m_0 )$<br>"
   ]
  }
 ],
 "metadata": {
  "kernelspec": {
   "display_name": "Julia 1.10.4",
   "language": "julia",
   "name": "julia-1.10"
  },
  "language_info": {
   "file_extension": ".jl",
   "mimetype": "application/julia",
   "name": "julia",
   "version": "1.10.4"
  }
 },
 "nbformat": 4,
 "nbformat_minor": 5
}
