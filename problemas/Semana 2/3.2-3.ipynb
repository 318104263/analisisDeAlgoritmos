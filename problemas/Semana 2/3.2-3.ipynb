{
 "cells": [
  {
   "cell_type": "markdown",
   "id": "06cdc9ea-4ff8-45c7-b822-964d52f2f5f5",
   "metadata": {},
   "source": [
    "## Enunciado\n",
    "\n",
    "Es $2^{n + 1} = O(2^n)$? \\\n",
    "Es $2^{2n} = O(2^n)$?"
   ]
  },
  {
   "cell_type": "markdown",
   "id": "bac399fb-2826-4077-bddd-ca7c819daeda",
   "metadata": {},
   "source": [
    "## Solucion\n",
    "Para que $2^{n+1} = O(2^n)$ debemos encontrar una constante $c$ tal que $2^{n+1} \\leq c2^n$, para toda $n\\geq n_0$. Dividiendo ambos lados entre $2^n$ tenemos que $2\\leq c$, por lo tanto $2^{n+1} = O(2^n)$ es correcto\n",
    "\n",
    "Para que $2^{2n} = O(2^n)$ debemos encontrar una constante $b$ tal que $2^{n+1} \\leq b2^n$, para toda $n\\geq n_0$. Dividiendo ambos lados entre $2^n$ tenemos que $2^n\\leq b$, pero no importa que tan grande sea b, siempre sera posible encontrar un numero n que logre superar a $b$, por lo tanto $2^{2n} \\neq O(2^n)$\n"
   ]
  }
 ],
 "metadata": {
  "kernelspec": {
   "display_name": "Julia 1.10.4",
   "language": "julia",
   "name": "julia-1.10"
  },
  "language_info": {
   "file_extension": ".jl",
   "mimetype": "application/julia",
   "name": "julia",
   "version": "1.10.4"
  }
 },
 "nbformat": 4,
 "nbformat_minor": 5
}
