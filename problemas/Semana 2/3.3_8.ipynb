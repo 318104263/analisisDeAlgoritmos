{
 "cells": [
  {
   "cell_type": "markdown",
   "id": "191c1e4c-d0a9-42d1-9ebf-7eaeda9cd2a3",
   "metadata": {},
   "source": [
    "## Enunciado"
   ]
  },
  {
   "cell_type": "markdown",
   "id": "eb9ac83e-e3d3-4040-9d08-543a01ac0fda",
   "metadata": {},
   "source": [
    "Demuestre por inducción que el i-ésimo número de Fibonacci satisface la ecuación<br>\n",
    "$$F_i=\\frac{(\\phi^i - \\hat{\\phi}^i)}{\\sqrt{5}}$$<br>\n",
    "donde $\\phi$ es la proporción áurea y $\\hat{\\phi}$ su conjugado."
   ]
  },
  {
   "cell_type": "markdown",
   "id": "fe2f4595-0c04-438c-bcb8-788cd6db4f45",
   "metadata": {},
   "source": [
    "## Solución"
   ]
  },
  {
   "cell_type": "markdown",
   "id": "7d69307f-7c38-43fb-b5ba-33effd132ce0",
   "metadata": {},
   "source": [
    "Caso base<br>\n",
    "Para $i=0$<br>\n",
    "$$F_0 = 0$$\n",
    "$$\\frac{\\phi^0 - \\hat{\\phi}^0}{\\sqrt{5}} = \\frac{1-1}{\\sqrt{5}} = \\frac{0}{\\sqrt{5}} = 0$$<br>\n",
    "Para $i=1$<br>\n",
    "$$F_1=1$$\n",
    "$$\\frac{\\phi^1 - \\hat{\\phi}^1}{\\sqrt{5}} = \\frac{\\phi - \\hat{\\phi}}{\\sqrt{5}} = \\frac{\\frac{1 + \\sqrt{5}}{2} - \\frac{1 - \\sqrt{5}}{2}}{\\sqrt{5}} = \\frac{\\sqrt{5}}{\\sqrt{5}} = 1$$<br>\n",
    "Paso inductivo<br>\n",
    "$i=k \\text{ y } i=k-1$\n",
    "$$F_k = \\frac{\\phi^k - \\hat{\\phi}^k}{\\sqrt{5}}$$\n",
    "$$F_{k-1} = \\frac{\\phi^{k-1} - \\hat{\\phi}^{k-1}}{\\sqrt{5}}$$\n",
    "$i=k+1$\n",
    "$$F_{k+1} = \\frac{\\phi^{k+1} - \\hat{\\phi}^{k+1}}{\\sqrt{5}}$$\n",
    "Sabemos que la recurrencia de Fibonacci es \n",
    "$$F_{k+1} = F_k + F_{k-1}$$\n",
    "Sustituyendo\n",
    "$$F_{k+1} = \\frac{\\phi^k - \\hat{\\phi}^k}{\\sqrt{5}} + \\frac{\\phi^{k-1} - \\hat{\\phi}^{k-1}}{\\sqrt{5}} $$\n",
    "$$F_{k+1} = \\frac{\\phi^{k-1} (\\phi + 1) - \\hat{\\phi}^{k-1} (\\hat{\\phi} + 1)}{\\sqrt{5}}$$\n",
    "Sabemos que $\\phi + 1 = \\phi^2 \\text{ y } \\hat{\\phi} + 1 = \\hat{\\phi}^2$ <br>\n",
    "Tenemos \n",
    "$$F_{k+1} = \\frac{\\phi^{k+1} - \\hat{\\phi}^{k+1}}{\\sqrt{5}}$$\n",
    "$$\\therefore \\text{ } F_i=\\frac{\\phi^i - \\hat{\\phi}^i}{\\sqrt{5}}$$"
   ]
  }
 ],
 "metadata": {
  "kernelspec": {
   "display_name": "Julia 1.10.4",
   "language": "julia",
   "name": "julia-1.10"
  },
  "language_info": {
   "file_extension": ".jl",
   "mimetype": "application/julia",
   "name": "julia",
   "version": "1.10.4"
  }
 },
 "nbformat": 4,
 "nbformat_minor": 5
}
