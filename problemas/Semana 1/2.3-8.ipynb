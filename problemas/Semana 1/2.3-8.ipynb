{
 "cells": [
  {
   "cell_type": "markdown",
   "id": "35ba4a43-eb15-495a-bcef-93d63407cdc0",
   "metadata": {},
   "source": [
    "# Ejercicio 2.3-8\n",
    "\n",
    "## Enunciado:\n",
    "Describe un algoritmo que, dado un conjunto $S$ de $n$ enteros y otro entero  $x$ , determine si $S$ contiene dos elementos que suman $x$ . Tu algoritmo debe ejecutarse en el tiempo $ \\Theta(n \\log n) $ en el peor caso.\n",
    "\n",
    "## Idea inicial del problema\n"
   ]
  },
  {
   "cell_type": "markdown",
   "id": "69dbc5e7-6326-4420-aaa7-f3868c1caf91",
   "metadata": {},
   "source": [
    "El problema nos pide verificar si en el conjunto $ S $ de $ n $ enteros existen dos elementos $ a $ y $ b $ tales que $ a + b = x $. Debemos hacerlo con un tiempo de ejecución $ \\Theta(n \\log n) $, lo que indica que debemos usar un enfoque más eficiente que una búsqueda doble anidada, que tendría un tiempo $ O(n^2)$.\n",
    "\n",
    "La clave está en **ordenar el conjunto** y luego usar un enfoque eficiente de búsqueda, como el uso de dos punteros o búsqueda binaria. Ordenar un conjunto toma $ O(n \\log n) $, y luego usar búsqueda binaria o un enfoque de punteros puede hacer que el problema se resuelva en tiempo lineal $ O(n) $.\n"
   ]
  },
  {
   "cell_type": "markdown",
   "id": "5e8f6248-0050-45a9-9852-4b1c8e0e2885",
   "metadata": {},
   "source": [
    "## Algoritmo usando el enfoque de dos punteros\n",
    "\n",
    "1. Primero, **ordenamos** el conjunto $ S $.\n",
    "2. Luego, usamos dos punteros, uno al inicio y otro al final del conjunto, para encontrar dos números que sumen $ x $.\n",
    "    - Si la suma de los dos números es igual a $ x $, hemos encontrado la solución.\n",
    "    - Si la suma es menor que $ x $, movemos el puntero izquierdo hacia la derecha para aumentar la suma.\n",
    "    - Si la suma es mayor que $ x $, movemos el puntero derecho hacia la izquierda para reducir la suma.\n"
   ]
  },
  {
   "cell_type": "markdown",
   "id": "fcd7d876-4097-45f9-ab7f-d554cb0d6496",
   "metadata": {},
   "source": [
    "```plaintext\n",
    "DOS-SUM(S, x)\n",
    "1.  Ordenar S de forma ascendente  // Nos toma O(n log n)\n",
    "2.  Inicializar dos punteros: izq = 1 (primera posición), der = n (última posición)\n",
    "3.  Mientras izq < der hacer:\n",
    "4.      sum = S[izq] + S[der]\n",
    "5.      Si sum == x\n",
    "6.          Retornar TRUE  // Hemos encontrado dos números que suman x\n",
    "7.      Si sum < x\n",
    "8.          izq = izq + 1  // Mover el puntero izquierdo a la derecha para aumentar la suma\n",
    "9.      Si sum > x\n",
    "10.         der = der - 1  // Mover el puntero derecho a la izquierda para reducir la suma\n",
    "11. Retornar FALSE  // No hay dos números que sumen x\n"
   ]
  },
  {
   "cell_type": "markdown",
   "id": "b4bcb8e4-927c-4ede-8258-f325d616ad10",
   "metadata": {},
   "source": [
    "### Explicación del pseudocódigo:\n",
    "\n",
    "1. **Ordenar el conjunto**: El primer paso es ordenar el conjunto $ S$. Esto toma $O(n \\log n)$, que es el tiempo requerido para la ordenación.\n",
    "2. **Dos punteros**:\n",
    "    - Inicializamos el puntero izquierdo $izq$ en la primera posición del conjunto, es decir, $ izq = 1 $.\n",
    "    - Inicializamos el puntero derecho \\( der \\) en la última posición del conjunto, es decir, $ der = n $.\n",
    "3. **Bucle principal**:\n",
    "    - Mientras $ izq $ sea menor que $ der $, calculamos la suma de los valores en $ S[izq] $ y $ S[der]$.\n",
    "    - Si la suma es igual a $ x $, retornamos `TRUE`, lo que indica que hemos encontrado dos números que suman $ x $.\n",
    "    - Si la suma es menor que $ x $, movemos el puntero izquierdo hacia la derecha, porque necesitamos una suma más grande.\n",
    "    - Si la suma es mayor que $ x $, movemos el puntero derecho hacia la izquierda, porque necesitamos una suma más pequeña.\n",
    "4. **Si no encontramos dos números** que sumen $ x $ después de que los punteros se crucen, retornamos `FALSE`, lo que significa que no existen dos números en $ S $ que sumen $ x $).\n",
    "\n",
    "### Paso 4: **Análisis del tiempo de ejecución**\n",
    "\n",
    "El tiempo de ejecución del algoritmo es:\n",
    "\n",
    "1. **Ordenar el conjunto $ S $**: Ordenar un conjunto de $ n $ elementos toma $ O(n \\log n) $.\n",
    "2. **Bucle con dos punteros**: Después de ordenar el conjunto, recorremos el conjunto una vez con dos punteros, lo que toma tiempo lineal $ O(n) $.\n",
    "\n",
    "Por lo tanto, el tiempo total del algoritmo es:\n",
    "\n",
    "$$\n",
    "T(n) = O(n \\log n) + O(n) = O(n \\log n).\n",
    "$$\n",
    "\n",
    "Este tiempo cumple con la condición de ejecutar el algoritmo en $ \\Theta(n \\log n) $.\n",
    "\n",
    "### Paso 5: **Ejemplo paso a paso**\n",
    "\n",
    "\n",
    "Supongamos que tenemos el conjunto $S = [1, 4, 5, 6, 8]$ y queremos verificar si hay dos números que sumen $x = 9$.\n",
    "\n",
    "1. **Ordenamos** $S$ (ya está ordenado en este caso):\n",
    "    $S = [1, 4, 5, 6, 8]$\n",
    "2. **Inicializamos dos punteros**:\n",
    "    - $izq = 1$ (primer elemento, valor 1).\n",
    "    - $der = 5$ (último elemento, valor 8).\n",
    "3. **Primera iteración**:\n",
    "    - Calculamos la suma $sum = S[1] + S[5] = 1 + 8 = 9$.\n",
    "    - Como $sum = 9$, retornamos `TRUE`, ya que encontramos dos números que suman $x = 9$.\n",
    "\n",
    "### Otro ejemplo:\n",
    "\n",
    "Para el conjunto $S = [2, 3, 7, 11, 15]$ y $x = 10$:\n",
    "\n",
    "1. **Ordenamos** $S$ (ya está ordenado):\n",
    "    $S = [2, 3, 7, 11, 15]$\n",
    "2. **Inicializamos dos punteros**:\n",
    "    - $izq = 1$, valor 2.\n",
    "    - $der = 5$, valor 15.\n",
    "3. **Primera iteración**:\n",
    "    - $sum = 2 + 15 = 17$, que es mayor que $10$, por lo que movemos el puntero derecho $der = 4$.\n",
    "4. **Segunda iteración**:\n",
    "    - $sum = 2 + 11 = 13$, que es mayor que $10$, por lo que movemos el puntero derecho $der = 3$.\n",
    "5. **Tercera iteración**:\n",
    "    - $sum = 2 + 7 = 9$, que es menor que $10$, por lo que movemos el puntero izquierdo $izq = 2$.\n",
    "6. **Cuarta iteración**:\n",
    "    - $sum = 3 + 7 = 10$, que es igual a $10$, retornamos `TRUE`.\n",
    "\n",
    "\n"
   ]
  },
  {
   "cell_type": "code",
   "execution_count": null,
   "id": "6bfb779f-6a1d-42b9-b5fd-6b64cb153211",
   "metadata": {},
   "outputs": [],
   "source": []
  }
 ],
 "metadata": {
  "kernelspec": {
   "display_name": "Julia 1.10.4",
   "language": "julia",
   "name": "julia-1.10"
  },
  "language_info": {
   "file_extension": ".jl",
   "mimetype": "application/julia",
   "name": "julia",
   "version": "1.10.4"
  }
 },
 "nbformat": 4,
 "nbformat_minor": 5
}
