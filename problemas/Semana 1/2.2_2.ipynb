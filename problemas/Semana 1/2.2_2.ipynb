{
 "cells": [
  {
   "cell_type": "markdown",
   "id": "9f60626d-a00d-48ac-9e96-965266a8380f",
   "metadata": {},
   "source": [
    "## Enunciado\n",
    "Consider sorting $n$ numbers stored in array $A[1:n]$ by first finding the smallest element of $A[1:n]$ and exchanging it with the element in $A[1]$. Then find the smallest element of $A[2:n]$, and exchange it with $A[2]$. Then find the smallest element of $A[3:n]$, and exchange it with $A[3]$. Continue in this manner for the first $n-1$ elements of $A$. Write pseudocode for this algorithm, which is known as ***selection sort***. What\n",
    "loop invariant does this algorithm maintain? Why does it need to run for only the first $n – 1$ elements, rather than for all $n$ elements? Give the\n",
    "worst-case running time of selection sort in $\\Theta$-notation. Is the best-case running time any better?\n",
    "\n"
   ]
  },
  {
   "cell_type": "markdown",
   "id": "0f7f62d8-c3c3-4999-b0de-7f1f02b4ea26",
   "metadata": {},
   "source": [
    "## Solución\n"
   ]
  },
  {
   "cell_type": "markdown",
   "id": "c57ff2df-256d-44e5-9ce1-c8853daad39a",
   "metadata": {},
   "source": [
    "### 1. Write pseudocode for this algorithm\n",
    "```\n",
    "SELECTION-SORT(A)\n",
    "1    for j=1 to n-1\n",
    "2        m = j\n",
    "3        i=j+1\n",
    "4        while i<n:\n",
    "5            if A[i]<A[m]:\n",
    "6                m=i\n",
    "7            i=i+1\n",
    "8        exchange(A[j],A[m])\n",
    "\n",
    "```\n"
   ]
  },
  {
   "cell_type": "markdown",
   "id": "513b3f34-ab37-4091-b904-018a5cc01682",
   "metadata": {},
   "source": [
    "### 2. What loop invariant does this algorithm maintain?\n",
    "#### Inicialización\n",
    "Antes de la primera iteración del bulce el subarreglo $A[1]$ está ordenado. \n",
    "\n",
    "#### Mantenimiento\n",
    "Durante cada iteración del bucle, el algoritmo identifica el elemento más pequeño en el subarreglo $A[j]$ a $A[n]$ y lo intercambia con $A[j]$. Esto asegura que después del intercambio, el subarreglo $A[1]$ a $A[j]$ contenga los $j$ elementos más pequeños en orden ascendente. El subarreglo $A[1]$ a $A[j-1]$ permanece ordenado y sin cambios, manteniendo el invariante.\n",
    "\n",
    "#### Terminación\n",
    "Cuando el bucle termina, $j = n$, por lo que el subarreglo $A[1]$ a $A[n-1]$ contiene todo el arreglo, y dado que el invariante se cumple, todo el arreglo está ordenado.\n",
    "\n"
   ]
  },
  {
   "cell_type": "markdown",
   "id": "0d0de27b-b629-4729-ab68-234c570fa38b",
   "metadata": {},
   "source": [
    "### 3. Why does it need to run for only the first $n-1$ elements, rather than for all $n$ elements?\n",
    "En cada iteración del bucle `for`, el algoritmo selecciona el elemento más pequeño del subarreglo que comienza en $A[j]$ y lo coloca en la posición $j$. Como resultado, después de la iteración con $j = n-1$, los primeros $n-1$ elementos del arreglo ya estarán en orden ascendente."
   ]
  },
  {
   "cell_type": "markdown",
   "id": "c0531bc5-c4e7-49d2-bcf3-2dd2bb8da32d",
   "metadata": {},
   "source": [
    "### 4. Give the worst-case running time of selection sort in $\\Theta$-notation.\n",
    "- El bucle exterior `for` se ejecuta $ n-1 $ veces.\n",
    "- En cada iteración del bucle exterior, el bucle `while` (o el bucle interno que busca el elemento más pequeño) realiza aproximadamente $ n-j $ comparaciones, donde $ j $ es el índice actual del bucle exterior.\n",
    "\n",
    "El número total de comparaciones realizadas por el algoritmo es la suma de las comparaciones realizadas en cada iteración del bucle exterior:\n",
    "\n",
    "\\\\[\n",
    "(n-1) + (n-2) + \\dots + 2 + 1 = \\sum_{j=1}^{n-1} j = \\frac{(n-1) \\cdot n}{2}\n",
    "\\\\]\n",
    "\n",
    "Esto se simplifica a:\n",
    "\n",
    "\\\\[\n",
    "\\frac{n^2 - n}{2}\n",
    "\\\\]\n",
    "Luego, el término dominante en esta expresión es $ \\frac{n^2}{2} $, que es de orden \\( \\Theta(n^2) \\). Por lo tanto, el tiempo de ejecución en el peor caso del algoritmo de ordenamiento por selección es:\n",
    "\n",
    "\\\\[\n",
    "\\Theta(n^2)\n",
    "\\\\]\n"
   ]
  },
  {
   "cell_type": "markdown",
   "id": "ad2222c8-ac6c-46cd-bb03-7441b8d592fe",
   "metadata": {},
   "source": [
    "### 5. Is the best-case running time any better?\n",
    "No, el tiempo de ejecución en el mejor caso no es mejor que en el caso promedio o el peor caso. El tiempo de ejecución en el mejor caso también es $\\Theta(n^2)$, ya que el número total de comparaciones es el mismo, independientemente del estado inicial del arreglo."
   ]
  },
  {
   "cell_type": "code",
   "execution_count": null,
   "id": "cbc17984-13f6-4299-8c0c-64ba0a5959e1",
   "metadata": {},
   "outputs": [],
   "source": []
  }
 ],
 "metadata": {
  "kernelspec": {
   "display_name": "Julia 1.10.4",
   "language": "julia",
   "name": "julia-1.10"
  },
  "language_info": {
   "file_extension": ".jl",
   "mimetype": "application/julia",
   "name": "julia",
   "version": "1.10.4"
  }
 },
 "nbformat": 4,
 "nbformat_minor": 5
}
