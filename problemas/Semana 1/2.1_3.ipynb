{
 "cells": [
  {
   "cell_type": "markdown",
   "id": "e3ff5127-c074-4bbc-9089-9cf515f02ed6",
   "metadata": {},
   "source": [
    "## Enunciado"
   ]
  },
  {
   "cell_type": "markdown",
   "id": "e4487947-aeec-4204-be23-9bd963fb6f50",
   "metadata": {},
   "source": [
    "Reescribe el procedimiento INSERTION-SORT para ordenar monótonamente decreciente en vez de monóticamente creciente"
   ]
  },
  {
   "cell_type": "markdown",
   "id": "7ddc56bc-db80-4545-817f-3a3c6b29003a",
   "metadata": {},
   "source": [
    "## Solución"
   ]
  },
  {
   "cell_type": "markdown",
   "id": "8c11ff61-cd71-466e-bdae-8e201588a771",
   "metadata": {},
   "source": [
    "Para ordenar de forma descendente solo necesitamos usar desigualdades en la dirección contraria."
   ]
  },
  {
   "cell_type": "markdown",
   "id": "ab7c24b6-abf5-4399-97bc-3fb92ef85109",
   "metadata": {},
   "source": [
    "## Pseudocódigo"
   ]
  },
  {
   "cell_type": "markdown",
   "id": "b7fdb97a-88bb-4dfd-a613-5fee1af6ff2a",
   "metadata": {},
   "source": [
    "```\n",
    "INSERTION-SORT-DESC(A, n)\n",
    "    for i=2 hasta n\n",
    "        key = A[i]\n",
    "        j = i-1\n",
    "        while j > 0 and A[j] < key\n",
    "            A[j+1] = A[j]\n",
    "            j = j-1\n",
    "        A[j+1] = key\n",
    "    return A\n",
    "```"
   ]
  }
 ],
 "metadata": {
  "kernelspec": {
   "display_name": "Julia 1.10.5",
   "language": "julia",
   "name": "julia-1.10"
  },
  "language_info": {
   "file_extension": ".jl",
   "mimetype": "application/julia",
   "name": "julia",
   "version": "1.10.5"
  }
 },
 "nbformat": 4,
 "nbformat_minor": 5
}
