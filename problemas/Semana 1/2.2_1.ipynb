{
 "cells": [
  {
   "cell_type": "markdown",
   "metadata": {},
   "source": [
    "# Analyzing algorithms"
   ]
  },
  {
   "cell_type": "markdown",
   "metadata": {},
   "source": [
    "## Ejercicio 2.2.1"
   ]
  },
  {
   "cell_type": "markdown",
   "metadata": {},
   "source": [
    "Express the function $n^3/1000 + 100n^2 – 100n + 3$ in terms of $\\Theta $ -\r\n",
    "notation."
   ]
  },
  {
   "cell_type": "markdown",
   "metadata": {},
   "source": [
    "Nos piden expresar la función: $n^3/1000 + 100n^2 – 100n + 3$ en términos de la notación: $\\Theta $."
   ]
  },
  {
   "cell_type": "markdown",
   "metadata": {},
   "source": [
    "De acuerdo a lo descrito en la sección de análisis de algoritmos describe un crecimiento asintótico de una función, la cual nos dará el tiempo de ejecución de un algoritmo."
   ]
  },
  {
   "cell_type": "markdown",
   "metadata": {},
   "source": [
    "La función dada es: \n",
    "\n",
    "$ f(n) = \\frac{n^3}{1000} + 100n^2 -100n + 3 $"
   ]
  },
  {
   "cell_type": "markdown",
   "metadata": {},
   "source": [
    "En términos de ejecución el término que crece más rápido es $ n^3 $ independientemente de que cuente con una constante de $ frac{1}{1000} $, ya que al contar con un término exponencial más grande el resto de los términos se vuelve insignificante comparado con la constante que tiene el término cubico."
   ]
  },
  {
   "cell_type": "markdown",
   "metadata": {},
   "source": [
    "Por lo tanto la función en términos de notación de $ \\Theta $ se vería de la siguiente forma:\n",
    "\n",
    "$ f(n) = \\frac{n^3}{1000} + 100n^2 -100n + 3 = \\Theta \\big( \\frac{n^3}{1000} \\big) $\n",
    "\n",
    "Pero en la notación de $ \\Theta $ las constantes se omiten, por lo tanto queda de la siguiente forma:\n",
    "\n",
    "$  f(n) = \\Theta (n^3) $"
   ]
  }
 ],
 "metadata": {
  "kernelspec": {
   "display_name": "Julia 1.10.5",
   "language": "julia",
   "name": "julia-1.10"
  },
  "language_info": {
   "file_extension": ".jl",
   "mimetype": "application/julia",
   "name": "julia",
   "version": "1.10.5"
  }
 },
 "nbformat": 4,
 "nbformat_minor": 4
}
