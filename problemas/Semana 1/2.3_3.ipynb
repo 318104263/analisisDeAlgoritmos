{
 "cells": [
  {
   "cell_type": "markdown",
   "id": "414db633-86a8-47cc-82e3-3ce4f3c7ea38",
   "metadata": {},
   "source": [
    "## Enunciado"
   ]
  },
  {
   "cell_type": "markdown",
   "id": "9933e0b0-416a-4336-933e-85c4698cbb77",
   "metadata": {},
   "source": [
    "Indique una invariante de bucle para el bucle WHILE de las líneas 12-18 del procedimiento MERGE. Demuestre como usarlo junto con los bucles WHILE de las líneas 20-23 y 24-27, para probar que el procedimiento MERGE es correcto. "
   ]
  },
  {
   "cell_type": "markdown",
   "id": "dc1f3d74-079d-4cc5-b231-73d5b33726d3",
   "metadata": {},
   "source": [
    "## Solución"
   ]
  },
  {
   "cell_type": "markdown",
   "id": "14c6d5a0-8646-406a-ad75-2e8497f83366",
   "metadata": {},
   "source": [
    "<div style=\"text-align: center;\">\n",
    "    <img src=\"algoritmoMerge.png\" alt=\"Descripción de la imagen\" />\n",
    "</div>"
   ]
  },
  {
   "cell_type": "markdown",
   "id": "c2cc045a-dadb-4631-a54b-fc7529c37c6a",
   "metadata": {},
   "source": [
    "Una invariante del bucle WHILE 12-18 es que al principio y final de cada iteración del bucle WHILE, $A[p:k]$ contiene los elementos más pequeños de los subarreglos $L$ y $R$ en orden no decreciente. <br>\n",
    "**Demostración** <br>\n",
    "Antes de la primera iteración $k=p \\therefore A[p:k]$ es vacío, lo que satisface la invariante $i,j$ están inicializadas a $0$. <br>\n",
    "En cada iteración se compara $L[i]$ con $R[j]$<br>\n",
    "* Si $L[i] \\leq R[j]$ se coloca $L[i]$ en $A[k]$ se incrementa $i$ y $k$\n",
    "* Si $R[j] \\leq L[i]$ se coloca $R[j]$ en $A[k]$ se incrementa $j$ y $k$\n",
    "\n",
    "Se termina el bucle WHILE 12-18 cuando uno de los subarreglos $L$ o $R$ ha sido completamente procesado $i=n_L$ o $j=n_r$ <br>\n",
    "Después, aún queda por copiar el resto del subarreglo no procesado.<br>\n",
    "**Bucle 20-23**<br>\n",
    "Si $R$ ha sido completamente copiado, copiamos los elementos restantes de $L$ a $A$<br>\n",
    "**Bucle 24-27**<br>\n",
    "Si $L$ ha sido completamente copiado, copiamos los elementos restantes de $R$ a $A$<br><br>\n",
    "Es correcto **MERGE** porque la invariante del bucle 12-18 garantiza que en cada iteración estamos colocando el menor de los elementos restantes de $L$ y $R$ en $A$. <br>\n",
    "Los bucles 20-23 y 24-27 aseguran que, una vez que un subarreglo (L o R) haya sido completado, los elementos restantes del otro subarreglo se copian en $A$, completando el proceso de fusión. AL final el arreglo $A[p:r]$ esta ordenado correctamente porque se fusionan dos subarreglos ordenados. "
   ]
  }
 ],
 "metadata": {
  "kernelspec": {
   "display_name": "Julia 1.10.4",
   "language": "julia",
   "name": "julia-1.10"
  },
  "language_info": {
   "file_extension": ".jl",
   "mimetype": "application/julia",
   "name": "julia",
   "version": "1.10.4"
  }
 },
 "nbformat": 4,
 "nbformat_minor": 5
}
