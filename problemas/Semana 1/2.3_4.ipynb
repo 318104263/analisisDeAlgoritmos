{
 "cells": [
  {
   "cell_type": "markdown",
   "id": "76bb6c57-4d5b-4ccf-bfbe-76ed639b14b3",
   "metadata": {},
   "source": [
    "# Enunciado\n",
    "Use mathematical induction to show that when $ n \\geq 2$ is an exact power of 2, the solution of the recurrence\n",
    "\n",
    "\\\\[\n",
    "T(n)=\n",
    "\\begin{cases}\n",
    "    2 \\quad &\\text{if } n=2 \\\\\n",
    "    2T(n/2)+n \\quad &\\text{if } n>2\n",
    "\\end{cases}\n",
    "\\\\]\n",
    "is $T(n)=n \\lg{n}$"
   ]
  },
  {
   "cell_type": "markdown",
   "id": "59fd5308-74d3-42ad-920d-0d34fe0bd1b9",
   "metadata": {},
   "source": [
    "# Solución\n",
    "### Caso base: para $n=1$\n",
    "Por un lado $T(2)=2$ por definición. Por otro lado:\n",
    "\\\\[\n",
    "\\begin{align}\n",
    "    T(2) &= (2) \\lg (2) \\\\\n",
    "         &= (2) (1)\\\\\n",
    "         &= 2 \\\\\n",
    "\\end{align}\n",
    "\\\\]\n",
    "\\\\[\n",
    "\\therefore T(2)=2\n",
    "\\\\]\n",
    "Por tanto se cumple para el caso base.\n",
    "### Hipótesis\n",
    "Af. $T(k)=ck\\lg k + o(k \\lg(k) = \\Theta(n\\lg n)$ paraq toda $k$ tal que $2\\leq k < n$.\n",
    "\n",
    "### Inducción\n",
    "Como $T(n)=2T(\\frac{n}{2})+2$, entonces\n",
    "\\\\[\n",
    "\\begin{align}\n",
    "T(n) &= 2(c\\frac{n}{2}\\lg \\frac{n}{2}+o(\\frac{n}{2}\\lg (\\frac{n}{2}))+2\\\\\n",
    "    &= cn(\\lg(n)-1) + o(n(\\lg(n)-1))+2 \\\\\n",
    "    &= cn\\lg n - cn + o(n(\\lg(n)-1))+2 \\\\\n",
    "    &= cn\\lg n + o(n(\\lg n)) \\\\\n",
    "    &= \\Theta(n \\lg n)\n",
    "\\end{align}\n",
    "\\\\]\n",
    "Q.E.D.\n"
   ]
  }
 ],
 "metadata": {
  "kernelspec": {
   "display_name": "Julia 1.10.4",
   "language": "julia",
   "name": "julia-1.10"
  },
  "language_info": {
   "file_extension": ".jl",
   "mimetype": "application/julia",
   "name": "julia",
   "version": "1.10.4"
  }
 },
 "nbformat": 4,
 "nbformat_minor": 5
}
