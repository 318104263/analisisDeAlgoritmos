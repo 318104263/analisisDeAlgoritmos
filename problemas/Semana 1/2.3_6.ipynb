{
 "cells": [
  {
   "cell_type": "markdown",
   "id": "b6db63b6-6c0c-46a4-8686-b6d41962ac1f",
   "metadata": {},
   "source": [
    "# Enunciado\n",
    "Referring back to the searching problem (see Exercise 2.1-4), observe that if the subarray being searched is already sorted, the searching algorithm can check the midpoint of the subarray against $v$ and eliminate half of the subarray from further consideration. The binary search algorithm repeats this procedure, halving the size of the remaining portion of the subarray each time. Write pseudocode, either iterative or recursive, for binary search. Argue that the worst-case running time of binary search is $Θ(\\lg n)$."
   ]
  },
  {
   "cell_type": "markdown",
   "id": "faabc987-7339-4f20-a31b-56c1d83fdf35",
   "metadata": {},
   "source": [
    "# Solución\n"
   ]
  },
  {
   "cell_type": "markdown",
   "id": "5801119f-94d0-4c65-80b3-bff73bdb9124",
   "metadata": {
    "jp-MarkdownHeadingCollapsed": true
   },
   "source": [
    "## Código"
   ]
  },
  {
   "cell_type": "code",
   "execution_count": 4,
   "id": "00c1458a-2db6-411b-a323-4e2065ab9dd0",
   "metadata": {},
   "outputs": [
    {
     "data": {
      "text/plain": [
       "busqueda_binaria (generic function with 1 method)"
      ]
     },
     "execution_count": 4,
     "metadata": {},
     "output_type": "execute_result"
    }
   ],
   "source": [
    "function busqueda_binaria_recursiva(A, x, bajo, alto)\n",
    "    if bajo > alto\n",
    "        return -1  \n",
    "    end\n",
    "\n",
    "    medio = div(bajo + alto, 2)\n",
    "\n",
    "    if A[medio] == x\n",
    "        return medio  \n",
    "    elseif A[medio] < x\n",
    "        return busqueda_binaria_recursiva(A, x, medio + 1, alto)  \n",
    "    else\n",
    "        return busqueda_binaria_recursiva(A, x, bajo, medio - 1)  \n",
    "    end\n",
    "end\n",
    "\n",
    "function busqueda_binaria(A, x)\n",
    "    return busqueda_binaria_recursiva(A, x, 1, length(A))\n",
    "end"
   ]
  },
  {
   "cell_type": "code",
   "execution_count": 7,
   "id": "d722eb38-4896-404e-9eec-5535898edd8d",
   "metadata": {},
   "outputs": [
    {
     "name": "stdout",
     "output_type": "stream",
     "text": [
      "Elemento encontrado en el índice 6\n"
     ]
    }
   ],
   "source": [
    "A = [1, 3, 5, 5, 9, 7, 13, 15]\n",
    "x = 7\n",
    "resultado = busqueda_binaria(A, x)\n",
    "\n",
    "if resultado != -1\n",
    "    println(\"Elemento encontrado en el índice $resultado\")\n",
    "else\n",
    "    println(\"Elemento no encontrado\")\n",
    "end"
   ]
  },
  {
   "cell_type": "markdown",
   "id": "7c8ace0a-2aa5-44e1-b710-970c675d3347",
   "metadata": {
    "jp-MarkdownHeadingCollapsed": true
   },
   "source": [
    "## Pseudcódigo"
   ]
  },
  {
   "cell_type": "markdown",
   "id": "224f8286-7ca4-4a10-a30f-e47cb2529b40",
   "metadata": {},
   "source": [
    "```\n",
    "BUSQUEDA-BINARIA(i,j,A,x)\n",
    "1   mitad = (i+j-1)/2\n",
    "2   if x = A[mitad]:\n",
    "3      return mitad\n",
    "4   else if x < A[mitad] and i < mitad:\n",
    "5      BUSQUEDA-BINARIA(i,mitad-1,A,x)\n",
    "6   else if x > A[mitad} and j > mitad:\n",
    "7      BUSQUEDA-BINARIA(mitad+1,j,A,x)\n",
    "8   else:\n",
    "9      return -1\n",
    "\n",
    "```"
   ]
  },
  {
   "cell_type": "markdown",
   "id": "c9a91a5b-5583-42e0-8de8-b43a0e07744a",
   "metadata": {},
   "source": [
    "## Tiempo de ejecución\n",
    "Primero, identificamos los tiempos de ejecución de cada línea:\n",
    "```\n",
    "BUSQUEDA-BINARIA(i,j,A,x)\n",
    "1   mitad = (i+j-1)/2                    \n",
    "2   if x = A[mitad]:\n",
    "3      return mitad\n",
    "4   else if x < A[mitad] and i < mitad:\n",
    "5      BUSQUEDA-BINARIA(i,mitad-1,A,x)\n",
    "6   else if x > A[mitad} and j > mitad:\n",
    "7      BUSQUEDA-BINARIA(mitad+1,j,A,x)\n",
    "8   else:\n",
    "9      return -1\n",
    "\n",
    "```\n",
    "El tiempo de ejecución de las líneas 1-4, 6, 8, y 9 es $\\Theta(1)$. Por otro lado, el tiempo de ejecución de las líneas 5 y 7 es $T(\\frac{n}{2})$. Cabe destacar que, debido a las condiciones en cada llamada, sólo se ejecutará una de estas líneas, ya que nunca se ejecutarán ambas simultáneamente. Por lo tanto, al calcular el tiempo total de ejecución, sólo se debe considerar una vez $T(\\frac{n}{2})$. Así, al hacer los cálculos correspondientes nos da como resultado $T(n)=T(\\frac{n}{2})+\\Theta(1)$.\n",
    "\n",
    "Luego encontramos el tiempo de ejecución por el método de sustitución. Tenemos que $T(n)=T(\\frac{n}{2})+\\Theta(1)$. Por tanto:\n",
    "\\\\[\n",
    "T(\\frac{n}{2}) = T(\\frac{n}{2^2})+\\Theta(1)\n",
    "\\\\]\n",
    "Así:\n",
    "\\\\[\n",
    "\\begin{align}\n",
    "    T(n) &= T(\\frac{n}{2})+\\Theta(1)\\\\\n",
    "        &= (T(\\frac{n}{2^2})+\\Theta(1))+\\Theta(1)\\\\\n",
    "         &= T(\\frac{n}{2^2})+2\\Theta(1)\n",
    "\\end{align}\n",
    "\\\\]\n",
    "Y generalizando, tenemos que \n",
    "\\\\[\n",
    "T(n) = T(\\frac{n}{2^k})+k\\Theta(1)\n",
    "\\\\]\n",
    "Por otro lado, el algoritmo se detendrá cuando $\\frac{n}{2^k} = 1$, es decir, $\\lg n = k$. Y sustituyendo:\n",
    "\\\\[\n",
    "\\begin{align}\n",
    "    T(n) &= T(1)+\\lg (n)\\Theta(1) \\\\\n",
    "        &= \\Theta(\\lg (n))\n",
    "\\end{align}\n",
    "\\\\]\n"
   ]
  },
  {
   "cell_type": "markdown",
   "id": "a89c382d-9ccd-493a-8a65-804052bb8fbb",
   "metadata": {},
   "source": [
    "### Comprobación por inducción sobre $n$\n",
    "Dada la forma recursiva $T(n)=T(n/2)+\\Theta(1)$, $T(2)=\\Theta(1)$\n",
    "\n",
    "Af. $T(n)=\\Theta(\\lg n)$\n",
    "\n",
    "**Caso base:** para $n=2$ tenemos $T(2)=\\Theta(\\lg (2))=\\Theta(1)$. Por tanto se cumple para el caso base.\n",
    "\n",
    "**Hipótesis:** $T(k)= c\\lg k +o(\\lg k) = \\Theta(\\lg n)$, $\\forall k$ con $2 \\leq k < n$\n",
    "\n",
    "**Inducción:** \n",
    "\\\\[\n",
    "\\begin{align}\n",
    "    T(n) &= T(n/2)+\\Theta(1) \\\\\n",
    "          &= (c\\lg (n/2) +o(\\lg (n/2))) + \\Theta(1)\\\\\n",
    "          &= c(\\lg (n)-\\lg(2)) +o(\\lg (n)-\\lg(2)) + \\Theta(1)\\\\\n",
    "          &= c\\lg (n)-c\\lg(2) +o(\\lg (n)-\\lg(2)) + \\Theta(1)\\\\\n",
    "          &= c\\lg (n) +o(\\lg (n))\\\\\n",
    "          &= \\Theta(\\lg n)\n",
    "\\end{align}\n",
    "\\\\]\n",
    "\n",
    "\n",
    "\n",
    "\n",
    "\n",
    "\n",
    "\n",
    "\n",
    "\n"
   ]
  }
 ],
 "metadata": {
  "kernelspec": {
   "display_name": "Julia 1.10.4",
   "language": "julia",
   "name": "julia-1.10"
  },
  "language_info": {
   "file_extension": ".jl",
   "mimetype": "application/julia",
   "name": "julia",
   "version": "1.10.4"
  }
 },
 "nbformat": 4,
 "nbformat_minor": 5
}
