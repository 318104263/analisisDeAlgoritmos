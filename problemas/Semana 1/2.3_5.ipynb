{
 "cells": [
  {
   "cell_type": "markdown",
   "id": "d0335d6a-7807-4243-ae87-f20fb1413129",
   "metadata": {},
   "source": [
    "## Enunciado"
   ]
  },
  {
   "cell_type": "markdown",
   "id": "b220a87b-ae42-410b-aef2-c2b9bc3d7adf",
   "metadata": {},
   "source": [
    "También se puede considerar INSERTION SORT como un algoritmo recursivo. Para ordenar $A[1:n]$, ordena recursivamente la submatriz $A[1:n-1]$. Escribe el pseudocodigo de esta versión recursiva de INSERTION SORT. Dar una recurrencia para su peor caso. "
   ]
  },
  {
   "cell_type": "markdown",
   "id": "eb89a7de-5192-42ed-b047-cbd01c015581",
   "metadata": {},
   "source": [
    "## Solución"
   ]
  },
  {
   "cell_type": "markdown",
   "id": "d8f0f66b-8317-40c4-bd24-37e8bf872c70",
   "metadata": {},
   "source": [
    "```plaintext\n",
    "Recursivo_insertion_sort (A,n)\n",
    "1. if n <= 1\n",
    "2.     return   #Caso base\n",
    "3. Recursivo_insertion_sort(A,n-1)\n",
    "4. Insertion_sort(A,n)\n",
    "```"
   ]
  },
  {
   "cell_type": "markdown",
   "id": "dc48fb8f-3a82-4cfa-b3fb-ea98eba38431",
   "metadata": {},
   "source": [
    "```plaintext\n",
    "Insertion_sort(A,n)\n",
    "1. key = A[n]  #pequeño cambio de Insertion Sort\n",
    "2. j = n-1\n",
    "3. while j > 0 and A[j] > key\n",
    "4.     A[j+1] = A[j]\n",
    "5.     j=j-1\n",
    "6. A[j+1] = key\n",
    "```"
   ]
  },
  {
   "cell_type": "markdown",
   "id": "5387f5d2-76fb-4c61-898e-b02c63f820c0",
   "metadata": {},
   "source": [
    "Tiempo de ejecución en el peor de los casos.<br>\n",
    "* Caso base: Si el tamaño del subarreglo es $n=1$ entonces no se realiza las demás líneas.\n",
    "$$T(1)=O(1)$$<br>\n",
    "* Paso recursivo: Para un subarreglo de tamaño $n>1$ el algoritmo realiza el trabajo de ordenar el subarreglo de tamaño $n-1$ $(T(n-1))$, y luego llama a la función $Insertion_sort(A,n)$ para realizar la función del último elemento. Insertion_Sort tiene un tiempo lineal en el peor caso de hasta n-1 elementos, lo que da $O(n)$ en el peor caso. <br>\n",
    "$$\\therefore\\text{ }T(n-1)+O(n)$$<br>\n",
    "Solución<br>\n",
    "$$T(n)=T(n-1)+n$$<br>\n",
    "$$T(n-1)=T(n-2)+(n-1)$$<br>\n",
    "$$T(n-2)=T(n-3)+(n-2)$$<br>\n",
    "$$.$$<br>\n",
    "$$T(2)=T(1)+2$$<br>\n",
    "Sumando todas estas ecuaciones tenemos<br>\n",
    "$$T(n)=T(1)+2+3+...+n$$<br>\n",
    "Dado que $T(1)=O(1)$, la suma es una serie aritmética, y su valor es<br>\n",
    "$$T(n)+O(1)+O(n(n+1)/2)=O(n^2)$$<br>\n",
    "$$T(n)=O(n^2)$$\n"
   ]
  }
 ],
 "metadata": {
  "kernelspec": {
   "display_name": "Julia 1.10.4",
   "language": "julia",
   "name": "julia-1.10"
  },
  "language_info": {
   "file_extension": ".jl",
   "mimetype": "application/julia",
   "name": "julia",
   "version": "1.10.4"
  }
 },
 "nbformat": 4,
 "nbformat_minor": 5
}
