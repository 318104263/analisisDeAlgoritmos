{
 "cells": [
  {
   "cell_type": "markdown",
   "id": "b6633883-540a-4e91-beca-a51bd1a4d977",
   "metadata": {},
   "source": [
    "## Enunciado"
   ]
  },
  {
   "cell_type": "markdown",
   "id": "b4573139-3c02-4f5c-b579-eac7922503b0",
   "metadata": {},
   "source": [
    "¿Como se puede modificar cualquier algoritmo de clasificación para tener un buen tiempo de ejecución en el mejor de los casos?"
   ]
  },
  {
   "cell_type": "markdown",
   "id": "d12ee02b-6ac8-4a10-a44b-92b96f26ce0b",
   "metadata": {},
   "source": [
    "## Solución"
   ]
  },
  {
   "cell_type": "markdown",
   "id": "f3221e30-02a1-465f-8381-d651e10a2346",
   "metadata": {},
   "source": [
    "Modificar el algoritmo para que primero compruebe si el arreglo de entrada ya está ordenada, lo que lleva $\\theta$(n) de tiempo para un arreglo de n elementos. Si el arreglo ya esta ordenado, el algoritmo ha terminado. En caso contrario ordena el arreglo con el algoritmo de clasificación. EL tiempo de ejecución en el mejor de los casos no suele ser una buena medida de la eficiencia de un algoritmo.\n"
   ]
  },
  {
   "cell_type": "code",
   "execution_count": null,
   "id": "e7c3ef28-ed57-44dd-aaf8-28a5ea359c32",
   "metadata": {},
   "outputs": [],
   "source": []
  },
  {
   "cell_type": "code",
   "execution_count": null,
   "id": "fa7d44cc-95f1-4118-9887-b6bbf7791379",
   "metadata": {},
   "outputs": [],
   "source": []
  }
 ],
 "metadata": {
  "kernelspec": {
   "display_name": "Julia 1.10.4",
   "language": "julia",
   "name": "julia-1.10"
  },
  "language_info": {
   "file_extension": ".jl",
   "mimetype": "application/julia",
   "name": "julia",
   "version": "1.10.4"
  }
 },
 "nbformat": 4,
 "nbformat_minor": 5
}
