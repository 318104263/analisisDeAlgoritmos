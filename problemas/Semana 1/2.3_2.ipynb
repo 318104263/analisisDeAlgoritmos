{
 "cells": [
  {
   "cell_type": "markdown",
   "id": "fc0a0dbb-5b4d-4b1e-955b-d5de3db348c7",
   "metadata": {},
   "source": [
    "## Enunciado \n",
    "\n",
    "\n",
    "La prueba en la linea 1 de procedimiento MERGE-SORT se lee \"Si P$\\geq$ r\" en lugar de \"si p$\\neq$r\". Si MERGE-SORT se llama cuando p>r, entonces el subarreglo A[p:r] esta vacio. Argumentar que mientras la llamada inicial de MERGE-SORT(A,1,n) contenga $n \\geq 1$, la prueba \"si p$\\neq$r\" es suficiente para asegurar que ninguna llamada recursiva tenga p>r"
   ]
  },
  {
   "cell_type": "markdown",
   "id": "c10d9167-45db-45d3-835c-a4d55060cb13",
   "metadata": {},
   "source": [
    "## Solución \n",
    "\n",
    "Por hipotesis tenemos que $p_0=1$ y $r_0=n$, con n el número de elementos en el array original. \n",
    "\n",
    "Supongamos que $p_i > r_i$ para alguna $i < n$, por las lineas 3 y 4 del algoritmo esto implicaría $(p_{i-1}+r_{i-1})/2<p_{i-1} \\rightarrow p_{i-1}+r_{i-1}<2p_{i-1} \\rightarrow r_{i-1}<p_{i-1}$, siguiendo este caso hasta que $i=0$ tendriamos que $r_0<p_0$, es decir $n<1$, lo cual es una contradicción. Q.E.D."
   ]
  },
  {
   "cell_type": "code",
   "execution_count": null,
   "id": "573d61e9-a707-4651-a714-7c349ec71d48",
   "metadata": {},
   "outputs": [],
   "source": []
  }
 ],
 "metadata": {
  "kernelspec": {
   "display_name": "Python 3 (ipykernel)",
   "language": "python",
   "name": "python3"
  },
  "language_info": {
   "codemirror_mode": {
    "name": "ipython",
    "version": 3
   },
   "file_extension": ".py",
   "mimetype": "text/x-python",
   "name": "python",
   "nbconvert_exporter": "python",
   "pygments_lexer": "ipython3",
   "version": "3.10.12"
  }
 },
 "nbformat": 4,
 "nbformat_minor": 5
}
