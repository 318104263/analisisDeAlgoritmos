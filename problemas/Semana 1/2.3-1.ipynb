{
 "cells": [
  {
   "cell_type": "markdown",
   "id": "fbb4ade6-a68a-453d-81f4-6c25bc65ed23",
   "metadata": {},
   "source": [
    "# Ejercicio 2.3-1"
   ]
  },
  {
   "cell_type": "markdown",
   "id": "d4482fb6-a05f-458b-878b-2aa38cf7664d",
   "metadata": {},
   "source": [
    "Utilizando la figura 2.4 como modelo, ilustre la operación de ordenamiento por fusión en una matriz que contiene inicialmente la secuencia (3, 41, 52, 26, 38, 57, 9, 49)."
   ]
  },
  {
   "cell_type": "markdown",
   "id": "84211e31-b21b-455a-9ded-9bbddb797fa2",
   "metadata": {},
   "source": [
    "<img src=\"Imagen.jpeg\">"
   ]
  },
  {
   "cell_type": "code",
   "execution_count": null,
   "id": "7741b471-a97c-47a7-b1ef-34953bf2f847",
   "metadata": {},
   "outputs": [],
   "source": []
  }
 ],
 "metadata": {
  "kernelspec": {
   "display_name": "Julia 1.10.4",
   "language": "julia",
   "name": "julia-1.10"
  },
  "language_info": {
   "file_extension": ".jl",
   "mimetype": "application/julia",
   "name": "julia",
   "version": "1.10.4"
  }
 },
 "nbformat": 4,
 "nbformat_minor": 5
}
