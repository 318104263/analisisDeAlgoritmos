{
 "cells": [
  {
   "cell_type": "markdown",
   "id": "71e5be09-d50d-40ec-9f2c-e88eb0772c79",
   "metadata": {},
   "source": [
    "## Enunciado"
   ]
  },
  {
   "cell_type": "markdown",
   "id": "6d2890ea-ebe2-4bc0-ac10-fb4377591337",
   "metadata": {},
   "source": [
    "Considera el problema de búsqueda:\n",
    "\n",
    "Input: Una secuencia de $n$ números $\\langle a_1, a_2, \\dots , a_n\\rangle$ guardados en un arreglo $A[1 : n]$ y un valor $x$\n",
    "\n",
    "Output: Un índice $i$ tal que $x$ es igual a $A[i]$ or el valor especial NIL si $x$ no está en $A$.\n",
    "\n",
    "Escribe pseudocódigo para búsqueda linear, que escanee el arreglo de inicio a fin buscando a $x$. Usando un loop invariante, prueba que el algoritmo es correcto. Asegúrate que el loop invariante cumpla las tres condiciones necesarias."
   ]
  },
  {
   "cell_type": "markdown",
   "id": "35414681-f69c-4de7-a307-c874991e040c",
   "metadata": {},
   "source": [
    "## Solución: Pseudocódigo"
   ]
  },
  {
   "cell_type": "markdown",
   "id": "d479c28b-e6ac-4710-8662-bad01df44f45",
   "metadata": {},
   "source": [
    "```\n",
    "LINEAR-SEARCH(A, n, x)\n",
    "    for i=1 hasta n\n",
    "        if A[i]==x\n",
    "            return i\n",
    "    return NIL\n",
    "```"
   ]
  },
  {
   "cell_type": "markdown",
   "id": "af6e7db2-6aff-434f-8ea2-eedebcc25784",
   "metadata": {},
   "source": [
    "## Demostración"
   ]
  },
  {
   "cell_type": "markdown",
   "id": "8f54e479-5543-4c9f-afdd-9be706548e9b",
   "metadata": {},
   "source": [
    "Por inducción sobre los elementos del arreglo.\n",
    "\n",
    "El caso inicial, donde un solo elemento está en el arreglo. Se inicia el código y entra al ciclo for, luego compara el elemento en la entrada 1 con el elemento buscado. Si está, regresa la posición: 1. Si no está, itera de nuevo y al no cumplirse la condición del ciclo sale y ejecuta la linea 7, donde regresa NIL.\n",
    "\n",
    "La hipótesis: suponemos que para todo natural $k<n$ el algoritmo es correcto. Eso significa que si se encontró el elemento, devuelve la posición. Si no lo encontró, sigue con otra iteración.\n",
    "\n",
    "La inducción: dado un arreglo de $n$ elementos, se realiza el ciclo hasta llegar a $k=n-1$, por hipótesis se ejecutó correctamente hasta ese ciclo. Si se encontró el elemento, se devolvió la posición y acabó la ejecución. Si no, se itera nuevamente y comienza el ciclo $n$. Si el elemento se encuentra en la posición $n$, se devuelve dicha posición. Si no se encuentra, se avanza a la siguiente iteración, pero como ya no se cumple la condición, se termina el ciclo y se devuelve NIL."
   ]
  }
 ],
 "metadata": {
  "kernelspec": {
   "display_name": "Julia 1.10.5",
   "language": "julia",
   "name": "julia-1.10"
  },
  "language_info": {
   "file_extension": ".jl",
   "mimetype": "application/julia",
   "name": "julia",
   "version": "1.10.5"
  }
 },
 "nbformat": 4,
 "nbformat_minor": 5
}
