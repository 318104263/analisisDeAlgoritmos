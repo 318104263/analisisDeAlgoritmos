{
 "cells": [
  {
   "cell_type": "markdown",
   "id": "c21c3fd3-24f2-46f1-83a2-5a94add2f519",
   "metadata": {},
   "source": [
    "## Enunciado\n",
    "\n",
    "Considera el problema de subar dos binarios enteros de n-bits $a$ y $b$, almacenados en dos arrays de n-elementos $A[1:n]$ y $B[1:n]$, donde cada elemento es 0 o 1, $a=\\sum_{i=1}^{n}A[i]\\cdot 2^i$, y $b=\\sum_{i=1}^{n}B[i]\\cdot 2^i$. La suma $c=a+b$ de dos enteros debe almacenarse en forma binaria, en el array $C[1:n+1]$ de $(n+1)$-elementos, donde $c=\\sum_{i=1}^{n+1}C[i]\\cdot 2^i$. \n",
    "\n",
    "Escribir un procedimiento **ADD-BINARY-INTEGERS** que tome los como entrada a A y B, junto con la longitud n, y retorne un array C que contenga la suma. "
   ]
  },
  {
   "cell_type": "markdown",
   "id": "4d3b62e9-1f5b-41e3-b0c3-1dfdd9ed43a0",
   "metadata": {},
   "source": [
    "## Solución  \n",
    "\n",
    "Por la forma en la que se define $a$ y $b$ sabemos que el bit menos significativo esta en $A[1]$ y el más representativo esta en $A[n]$. \n",
    "\n",
    "Sabemos que la suma de dos enteros en forma binaria puede realizarse con operaciónes lógicas, donde, si ambos elementos son 1 escribiremos 0 en esa posición y llevaremos un residuo a la siguiente posición; por la forma en la que esta organizado el arreglo, al residuo i se le efectuara la operación *and* del resultado en $i-1$, cuando $i=0$ el residuo sera 0 y cuando $i=n+1$, $C[n+1]=$residuo. \n",
    "\n",
    "## Pseudocodigo\n",
    "\n",
    "```\n",
    "ADD-BINARY-INTEGERS(A,B,n)\n",
    "    Crear C con n+1 elementos\n",
    "    res = 0\n",
    "    for i in 1:n\n",
    "        aux <- (A[i] XOR B[i]) XOR res\n",
    "        res <- (A[i] AND B[I]) OR (res AND (A[i] XOR B[i]))\n",
    "    fin for\n",
    "    C[n+1] <- res\n",
    "    return C\n",
    "```"
   ]
  }
 ],
 "metadata": {
  "kernelspec": {
   "display_name": "Julia 1.10.4",
   "language": "julia",
   "name": "julia-1.10"
  },
  "language_info": {
   "file_extension": ".jl",
   "mimetype": "application/julia",
   "name": "julia",
   "version": "1.10.4"
  }
 },
 "nbformat": 4,
 "nbformat_minor": 5
}
