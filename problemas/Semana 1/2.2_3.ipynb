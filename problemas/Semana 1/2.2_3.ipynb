{
 "cells": [
  {
   "cell_type": "markdown",
   "id": "93d72eb6-6da8-4174-beaa-3e2c8b2943e7",
   "metadata": {},
   "source": [
    "## Enunciado\n",
    "\n",
    "Considera la busqueda linean ¿Cuantos elementos del array de entrada necesitan revisarse en promedio, assumiendo que el elemento que se busca tiene la misma probabilidad de ser cualquier elemento del array? Usando $\\Theta$-notación, dar el caso promedio y peor caso de tiempos de ejecución de la busqueda lineal."
   ]
  },
  {
   "cell_type": "markdown",
   "id": "e76479be-1898-420b-97b6-e949caf6fa91",
   "metadata": {},
   "source": [
    "## Solución\n",
    "\n",
    "El peor de los casos podria significar que el elemento que buscamos esta en la ultima posición o que no aparece en el arreglo, en ambos casos el orden sería de $\\Theta$-(n). \n",
    "\n",
    "Para el caso promedio tenemos que todas las posiciones tienen la misma posibilidad de contener al elemento buscado, es decir $\\frac{1}{n}$; por otro lado, para encontrar un elemento en la posición $i$ tendriamos que revisar $i$ elementos. Ocupando la definición de esperanza para encontrar el promedio tenemos que $E[X]=\\sum_1^n i \\frac{1}{n} = \\frac{1}{n}\\sum_1^n i = \\frac{1}{n}\\frac{n(n+1)}{2} = \\frac{n+1}{2} = \\frac{n}{2} + \\frac{1}{2}$. Es decir el caso promedio es de orden $\\Theta(\\frac{n}{2} + \\frac{1}{2})=\\Theta(n)$"
   ]
  }
 ],
 "metadata": {
  "kernelspec": {
   "display_name": "Julia 1.10.4",
   "language": "julia",
   "name": "julia-1.10"
  },
  "language_info": {
   "file_extension": ".jl",
   "mimetype": "application/julia",
   "name": "julia",
   "version": "1.10.4"
  }
 },
 "nbformat": 4,
 "nbformat_minor": 5
}
