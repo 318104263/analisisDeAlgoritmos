{
 "cells": [
  {
   "cell_type": "markdown",
   "id": "34475eb0-a745-40ee-9a4c-0d94c47e7af6",
   "metadata": {},
   "source": [
    "## Enunciado \n",
    "\n",
    "El bucle while de las lineas 5-7 en el procedimiento INSERTION-SORT usa una busqueda lineal para escanear (para atrás) atraves del sub array $A[1:j-1]$. ¿Que sucederia si ocupara busqueda lineal en lugar de busqueda lineal? ¿Podria mejorar el tiempo de ejecución general en el peor de los casos de la ordenación por insersión $\\Theta(n\\ lgn)$?"
   ]
  },
  {
   "cell_type": "markdown",
   "id": "7403aaf5-90fe-4c7c-aecf-6821c65a3df2",
   "metadata": {},
   "source": [
    "## Solución \n",
    "\n",
    "En lugar de recorrer todo el arreglo con un orden $O(n)$ reducimos el tiempo a $O(lg\\ n)$. Sin embargo, después de encontrar la posición correcta aún es necesario mover todos los elementos posteriores a esa posición, que lleva $O(n)$\n",
    "\n",
    "En el peor el array esta totalmente inverso, aunque la comparación es de orden $O(ln\\ n)$, la operación de insersión domina el tiempo total, manteniendo un tiempo de $O(n^2)$"
   ]
  }
 ],
 "metadata": {
  "kernelspec": {
   "display_name": "Julia 1.10.4",
   "language": "julia",
   "name": "julia-1.10"
  },
  "language_info": {
   "file_extension": ".jl",
   "mimetype": "application/julia",
   "name": "julia",
   "version": "1.10.4"
  }
 },
 "nbformat": 4,
 "nbformat_minor": 5
}
