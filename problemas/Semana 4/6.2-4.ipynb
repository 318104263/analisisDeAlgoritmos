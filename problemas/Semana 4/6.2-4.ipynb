{
 "cells": [
  {
   "cell_type": "markdown",
   "id": "3b9cf7df-cbb8-4eeb-b2e4-83dec66f6448",
   "metadata": {},
   "source": [
    "## Enunciado"
   ]
  },
  {
   "cell_type": "markdown",
   "id": "d1262077-06a1-45cb-9c14-31ee6faf0640",
   "metadata": {},
   "source": [
    "¿Cuál es el efecto de llamar MAX-HEAPIFY$(A,i)$ cuando el elemento $A[i]$ es más grande que sus hijos?"
   ]
  },
  {
   "cell_type": "markdown",
   "id": "bbb52b5a-c79c-4e97-9b11-1125d2b62145",
   "metadata": {},
   "source": [
    "## Solución"
   ]
  },
  {
   "cell_type": "markdown",
   "id": "bca9985c-89ed-4d03-8f88-e55f066f3f8e",
   "metadata": {},
   "source": [
    "El algoritmo corre habitualmente en las primeras 7 líneas, donde $largest=i$. Después la condición de la línea 8 no se cumple, así que termina el algoritmo. Esto es porque al introducir la raíz (el elemento $i$) el árbol ya se encuentra en un MAX-HEAP (los hijos y sus descendientes ya son un MAX-HEAP por hipótesis)."
   ]
  }
 ],
 "metadata": {
  "kernelspec": {
   "display_name": "Julia 1.10.5",
   "language": "julia",
   "name": "julia-1.10"
  },
  "language_info": {
   "file_extension": ".jl",
   "mimetype": "application/julia",
   "name": "julia",
   "version": "1.10.5"
  }
 },
 "nbformat": 4,
 "nbformat_minor": 5
}
