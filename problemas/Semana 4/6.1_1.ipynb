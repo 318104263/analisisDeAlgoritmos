{
 "cells": [
  {
   "cell_type": "markdown",
   "id": "26c7ab94-4b84-43ed-8927-02182f9cf693",
   "metadata": {},
   "source": [
    "## Enunciado"
   ]
  },
  {
   "cell_type": "markdown",
   "id": "50ddd168-622a-423d-88a2-3e65a8003b34",
   "metadata": {},
   "source": [
    "¿Cuál es la cantidad mínima y máxima de elementos en un heap de altura $n$?"
   ]
  },
  {
   "cell_type": "markdown",
   "id": "81822548-19f7-4786-808d-c5c658c60243",
   "metadata": {},
   "source": [
    "## Solución"
   ]
  },
  {
   "cell_type": "markdown",
   "id": "ad1cbebc-6044-46cc-81ea-d8ef13ad5fcc",
   "metadata": {},
   "source": [
    "Por definición, un heap es un árbol completo a excepción de en su último nivel, que está a la altura $n$. Por lo tanto, si es de altura $n$, está lleno hasta el nivel $n-1$, por lo que tiene $2^n-1$ elementos antes del nivel inferior. Entonces, el número de elementos mínimo en un heap de altura $n$ es $2^n$. Además, el número máximo es cuando el árbol está completo, por lo que tiene $2^{n+1}-1$ elementos. "
   ]
  }
 ],
 "metadata": {
  "kernelspec": {
   "display_name": "Julia 1.10.5",
   "language": "julia",
   "name": "julia-1.10"
  },
  "language_info": {
   "file_extension": ".jl",
   "mimetype": "application/julia",
   "name": "julia",
   "version": "1.10.5"
  }
 },
 "nbformat": 4,
 "nbformat_minor": 5
}
