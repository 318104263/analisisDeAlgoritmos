{
 "cells": [
  {
   "cell_type": "markdown",
   "id": "6e0aea71-920e-47fc-8238-0fa13189a2e3",
   "metadata": {},
   "source": [
    "# Enunciado\n",
    "Demuestra que hay como máximo $⌈n/2^{h+ 1}⌉$ nodos de altura $h$ en cualquier heap de $n$ elementos."
   ]
  },
  {
   "cell_type": "markdown",
   "id": "9870cf06-4baf-4663-b3b2-8683d1723d2b",
   "metadata": {},
   "source": [
    "# Solución\n",
    "Sea $H$ la altura del heap. Realizaremos inducción sobre h. "
   ]
  },
  {
   "cell_type": "markdown",
   "id": "72fd4659-a251-498a-94fe-c608b9f0848c",
   "metadata": {},
   "source": [
    "## Base\n",
    "Para $h=0$. Vempos que para cada nivel de profundidad $d<H$ hay $2^d$ nodos, pues todos los niveles estarán completos, excepto quizá el último. Sea $x$ la cantidad de nodos, tenemos que $n-x$ es impar, pues son los nodos del arbol binario completo formado por los nodos en los niveles superiores. Por tanto $x$ es par y $n$ impar o viceversa.\n",
    "\n",
    "* Si $x$ es par.\n",
    "\n",
    "Hay $x/2$ nodos en la profundidad $H-1$ (o bien, de altura $h=1$) que son los padres de los nodos de profundidad $H$, y $2^{H-1}-x/2$ de nodos que no son padres de los nodos de profundidad $H$, por lo que tendrán una altura $h=0$. Además, un árbol de profundidad $H-1$ tendrá $2^{H}-1$ nodos, por lo que $n=2^H-1+x$. Por tanto la cantidad de nodos de altura $h$ está dada por\n",
    "\\begin{align*}\n",
    "x+2^{H-1}+x/2 &= 2^{H-1}+x/2 \\\\\n",
    "&= (2^H+x)/2 \\\\\n",
    "&= ⌈(2^H-1+x)/2⌉ \\quad \\text{pues } x \\text{ es par}\\\\\n",
    "&= ⌈n/2⌉ \\\\\n",
    "&= ⌈n/2^{h+1}⌉\n",
    "\\end{align*}\n",
    "* Si x es impar\n",
    "De forma similar, tenemos que la cantidad de nodos de altura $h$ está dada por\n",
    "\\begin{align*}\n",
    "x+2^{H-1}-(x+1)/2 &= 2^{H-1}+(x-1)/2\\\\\n",
    "&= (2^H-1+x)/2\\\\\n",
    "&= n/2 \\\\\n",
    "&= ⌈n/2⌉ \\quad \\text{pues } x \\text{ es impar}\\\\\n",
    "&= ⌈n/2^{h+1}⌉\n",
    "\\end{align*}\n",
    "Por tanto, se cumple para el caso base"
   ]
  },
  {
   "cell_type": "markdown",
   "id": "3d1567b2-df32-4056-8dbd-59b9bd81b035",
   "metadata": {},
   "source": [
    "## Hipotesis\n",
    "La propiedad se cumple para h-1."
   ]
  },
  {
   "cell_type": "markdown",
   "id": "b4cd21e3-6aa2-4593-b104-580180499fe0",
   "metadata": {},
   "source": [
    "## Inducción\n",
    "Sea $n_h$ el número de nodos de altura $h$ en un árbol $T$ de $n$ nodos. Sea $T'$ el árbol formado al eliminar las hojas de $T$. Obtenemos así $n'=n-n_0$ nodos en $T'$, pero sabemos por el caso base que $n_0=⌈n/2⌉$, por lo que $n'=n-n_0=n-⌈n/2⌉=⌊n/2⌋$. Notemos que los nodos de altura $h$ en $T$ se volverían ahora de altura $h-1$ en $T'$. Denotamos por $n'_{h-1}$ la cantidad de nodos de altura $h-1$ en el árbol $T'$. Tenemos que \n",
    "\\begin{align*}\n",
    "n_h &= n'_{h-1}\\\\\n",
    "& \\leq ⌈n'/2^h⌉ \\quad \\text{por hipótesis}\\\\\n",
    "& = ⌈⌊n/2⌋/2^h⌉ \\\\\n",
    "& = ⌈(n/2)/2^h⌉ \\\\\n",
    "& = ⌈n/2^{h+1}⌉ \\\\\n",
    "\\end{align*}\n",
    "Q.E.D."
   ]
  }
 ],
 "metadata": {
  "kernelspec": {
   "display_name": "Julia 1.10.4",
   "language": "julia",
   "name": "julia-1.10"
  },
  "language_info": {
   "file_extension": ".jl",
   "mimetype": "application/julia",
   "name": "julia",
   "version": "1.10.4"
  }
 },
 "nbformat": 4,
 "nbformat_minor": 5
}
