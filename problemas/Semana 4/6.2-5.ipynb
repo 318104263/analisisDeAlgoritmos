{
 "cells": [
  {
   "cell_type": "markdown",
   "id": "bd7b3884-02a4-4753-930a-a9680d9145d9",
   "metadata": {},
   "source": [
    "## Enunciado\n",
    "\n",
    "¿Cual es el efecto de llamar MAX-HEAPIFY(A, i) cuando el elemento A\\[i\\] es más grande que sus hijos?"
   ]
  },
  {
   "cell_type": "markdown",
   "id": "0ac42011-6c68-4f02-9f33-6dd18eca68fd",
   "metadata": {},
   "source": [
    "## Solución\n",
    "\n",
    "Termina la ejecución, no importa si los sub-arboles no son max-heaps, el procedimiento termina ahí"
   ]
  }
 ],
 "metadata": {
  "kernelspec": {
   "display_name": "Julia 1.10.4",
   "language": "julia",
   "name": "julia-1.10"
  },
  "language_info": {
   "file_extension": ".jl",
   "mimetype": "application/julia",
   "name": "julia",
   "version": "1.10.4"
  }
 },
 "nbformat": 4,
 "nbformat_minor": 5
}
