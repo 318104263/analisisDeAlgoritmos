{
 "cells": [
  {
   "cell_type": "markdown",
   "id": "f584e731-dd0b-4068-88e1-2f4910b78d43",
   "metadata": {},
   "source": [
    "## Enunciado"
   ]
  },
  {
   "cell_type": "markdown",
   "id": "68c9210d-ca12-46a0-93cb-409500f6c30c",
   "metadata": {},
   "source": [
    "Comenzando con el procedimiento MAX-HEAPIFY, escriba el pseudocódigo para el procedimiento MIN-HEAPIFY(A, i), que realiza la manipulación correspondiente en un min-heap. ¿Cómo se compara el tiempo de ejecución de MIN-HEAPIFY con el de MAX-HEAPIFY?"
   ]
  },
  {
   "cell_type": "markdown",
   "id": "e1ea0ed3-6d90-43a4-a587-2265874a2852",
   "metadata": {},
   "source": [
    "## Solución "
   ]
  },
  {
   "cell_type": "markdown",
   "id": "0645b693-ef74-44ee-b300-c1837cd3c36a",
   "metadata": {},
   "source": [
    "```plaintext\n",
    "MIN-HEAPIFY(A,i)\n",
    "1. l=LEFT(i)\n",
    "2. r=RIGHT(i)\n",
    "3. if l <= A.heap-size and A[l] < A[i]\n",
    "4.    smallest = l\n",
    "5. else smallest = i\n",
    "6. if r <= A.heap-size and A[r] < A[smallest]\n",
    "7.    smallest = r\n",
    "8. if smallest =! i\n",
    "9.    exchange A[i] with A[smallest]\n",
    "10.    MIN-HEAPIFY(A, smallest)\n",
    "```"
   ]
  },
  {
   "cell_type": "markdown",
   "id": "3e71957e-79e8-4698-b750-424fdc4894d4",
   "metadata": {},
   "source": [
    "El tiempo de ejecución de MIN-HEAPIFY es el mismo que MAX-HEAPIFY, ya que ambos algoritmos realizan operaciones similares.<br>\n",
    "El tiempo de ejecución de ambos procedimientos es $O(lg(n))$, donde n es el número de nodos del heap, porque en el peor de los casos, se necesita recorrer la altura del árbol para restaurar la propiedad del heap."
   ]
  }
 ],
 "metadata": {
  "kernelspec": {
   "display_name": "Julia 1.10.4",
   "language": "julia",
   "name": "julia-1.10"
  },
  "language_info": {
   "file_extension": ".jl",
   "mimetype": "application/julia",
   "name": "julia",
   "version": "1.10.4"
  }
 },
 "nbformat": 4,
 "nbformat_minor": 5
}
