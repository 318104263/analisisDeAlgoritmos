{
 "cells": [
  {
   "cell_type": "markdown",
   "id": "fc8f70fd-d10b-4ff5-aeb0-21b018623822",
   "metadata": {},
   "source": [
    "## Enunciado"
   ]
  },
  {
   "cell_type": "markdown",
   "id": "c52bba98-e848-43e6-b6e1-ec0eacaf6e43",
   "metadata": {},
   "source": [
    "Muestra que cuando todos los elementos de $A$ son distintos, el tiempo de ejecución del mejor caso con HEAPSORT es $\\Omega(n \\lg n)$"
   ]
  },
  {
   "cell_type": "markdown",
   "id": "e37b105a-fc7e-40ff-a9d3-3a69a8888065",
   "metadata": {},
   "source": [
    "## Solución"
   ]
  },
  {
   "cell_type": "markdown",
   "id": "32ed3965-c190-4155-b0e2-9bfa1fe09c73",
   "metadata": {},
   "source": [
    "Recordemos que se ejecuta el algoritmo de HEAP-SORT primero crea un max-heap, que toma tiempo lineal. Luego por cada elemento del arreglo, toma el mayor y lo intercambia con el de la última hoja y cortando ésta. Luego al aplicar MAX-HEAPIFY, al ser todos elementos diferentes y la raíz siendo uno de los menores elementos posibles, se repite el intercambio $\\lg n$ veces, y como se hace por cada elemento, tenemos que el tiempo del algoritmo es $n \\lg n$."
   ]
  }
 ],
 "metadata": {
  "kernelspec": {
   "display_name": "Julia 1.10.5",
   "language": "julia",
   "name": "julia-1.10"
  },
  "language_info": {
   "file_extension": ".jl",
   "mimetype": "application/julia",
   "name": "julia",
   "version": "1.10.5"
  }
 },
 "nbformat": 4,
 "nbformat_minor": 5
}
