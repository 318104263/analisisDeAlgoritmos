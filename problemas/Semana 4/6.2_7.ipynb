{
 "cells": [
  {
   "cell_type": "markdown",
   "id": "09bbde1a-36b2-4d74-92a3-2aacec2e5ce8",
   "metadata": {},
   "source": [
    "## Enunciado"
   ]
  },
  {
   "cell_type": "markdown",
   "id": "e34903cf-acca-4d50-a212-691023a7123d",
   "metadata": {},
   "source": [
    "Muestra que el tiempo de ejecución en el peor de los casos de $\\textbf{MAX-HEAPIFY}$ en un heap de tamaño n es $\\Omega(lg(n))$. (Sugerencia: para un heap con n nodos, de los valores de los nodos que hacen que $ \\textbf{MAX-HEAPIFY}$ sea llamado recursivamente en cada nodo en un camino simple desde la raíz hasta una hoja)."
   ]
  },
  {
   "cell_type": "markdown",
   "id": "9f48e9c7-9226-4445-aa04-5c3d32c239e6",
   "metadata": {},
   "source": [
    "## Solución"
   ]
  },
  {
   "cell_type": "markdown",
   "id": "26e97adf-af8a-4103-81dc-a56f207b4538",
   "metadata": {},
   "source": [
    "Si se pone un valor en la raíz que es menor que todos los valores en los subárboles izquierdo y derecho, entonces $ \\textbf{MAX-HEAPIFY}$ será llamado recursivamente hasta que se alcance una hoja.<br>\n",
    "Para que las llamadas recursivas recorran el camino más largo hasta una hoja, elija los valores que hagan que $ \\textbf{MAX-HEAPIFY}$ recurra siempre a la rama izquierda. Sigue la rama izquierda cuando el hijo izquierdo es $ \\geq$ que el hijo derecho, por lo que poner 0 en la raíz y 1 en todos los demás nodos, por ejemplo, lo conseguira. Con estos valores $ \\textbf{MAX-HEAPIFY}$ será llamado h veces (donde h es la altura del heap, que es el número de aristas en el camino más largo desde la raíz a una hoja), por lo que su tiempo de ejecución será $ \\Theta(h)$, ya que cada llamada hace $ \\Theta(1)$ trabajo, que es $ \\Theta(lg(n))$. Como tenemos un caso en el que el tiempo de ejecución de $ \\textbf{MAX-HEAPIFY}$ es $ \\Theta(lg(n))$, su tiempo de ejecución en el peor de los casos es $ \\Omega(lg(n))$."
   ]
  }
 ],
 "metadata": {
  "kernelspec": {
   "display_name": "Julia 1.10.4",
   "language": "julia",
   "name": "julia-1.10"
  },
  "language_info": {
   "file_extension": ".jl",
   "mimetype": "application/julia",
   "name": "julia",
   "version": "1.10.4"
  }
 },
 "nbformat": 4,
 "nbformat_minor": 5
}
