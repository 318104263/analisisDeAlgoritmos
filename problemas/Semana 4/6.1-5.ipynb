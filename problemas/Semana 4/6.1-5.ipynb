{
 "cells": [
  {
   "cell_type": "markdown",
   "id": "d0171079-793e-4f3e-9361-c4db52d6c95a",
   "metadata": {},
   "source": [
    "At which level in a max-heap might the $k$ th largest element reside, for $2\\leq k \\leq \\lfloor n/2 \\rfloor$, assuming that all elements are distinct?"
   ]
  },
  {
   "cell_type": "markdown",
   "id": "bf8a4c24-2693-4baf-a245-2f9e599f0a82",
   "metadata": {},
   "source": [
    "### Solución "
   ]
  },
  {
   "cell_type": "markdown",
   "id": "0a4389d9-4d19-4af3-bc7a-1e3143a547b9",
   "metadata": {},
   "source": [
    "Dado que el elmento más grande está en la raíz, el nivel h tiene $2^h$ nodos, en general el $k$-ésimo elemento más grande probablemente esté en los niveles más bajos, para $k\\leq \\lfloor n/2 \\rfloor$, podemos esperar que el $k$-ésimo más grande esté dentro de la primera mitad de los nodos, que se encuentran en los primeros niveles del montículo.Probablemente se encuentre entre el nivel 1 y el nivel 2. Dependiendo del tamaño del montículo y del valor específico de $K$. Sin embargo, a medida que $K$ aumenta, podría encontrarse en niveles ligeramente más profundos."
   ]
  }
 ],
 "metadata": {
  "kernelspec": {
   "display_name": "Julia 1.10.5",
   "language": "julia",
   "name": "julia-1.10"
  },
  "language_info": {
   "file_extension": ".jl",
   "mimetype": "application/julia",
   "name": "julia",
   "version": "1.10.5"
  }
 },
 "nbformat": 4,
 "nbformat_minor": 5
}
