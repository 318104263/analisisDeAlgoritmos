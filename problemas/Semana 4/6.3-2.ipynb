{
 "cells": [
  {
   "cell_type": "markdown",
   "id": "656b03c6-3dc4-42dc-beb8-2c569c1aeb56",
   "metadata": {},
   "source": [
    "## Enunciado"
   ]
  },
  {
   "cell_type": "markdown",
   "id": "50b01d50-f4bd-48a6-9845-24ac1946c8fa",
   "metadata": {},
   "source": [
    "Muestra que $\\lceil n/2^{h+1}\\rceil \\geq \\frac{1}{2}$ para $0\\leq h \\leq \\lfloor \\lg n \\rfloor$"
   ]
  },
  {
   "cell_type": "markdown",
   "id": "41dfb98e-84b9-4d0c-8852-c9d2ff1a88fa",
   "metadata": {},
   "source": [
    "## Solución"
   ]
  },
  {
   "cell_type": "markdown",
   "id": "4cf558f0-3b5f-4b5d-83ac-88ab60b843fa",
   "metadata": {},
   "source": [
    "La demostración es bastante sencilla:"
   ]
  },
  {
   "cell_type": "markdown",
   "id": "29b54223-b7ba-4d67-8967-c8733ae76716",
   "metadata": {},
   "source": [
    "$$\n",
    "\\begin{split}\n",
    "0 \\leq h \\leq \\lfloor \\lg n \\rfloor & \\implies h \\leq \\lg n \\\\\n",
    "    & \\implies 2^h \\leq n \\\\\n",
    "    & \\implies 1 \\leq \\frac{n}{2^h} \\\\\n",
    "    & \\implies \\frac{1}{2} \\leq \\frac{n}{2^{h+1}} \\\\\n",
    "    & \\implies \\frac{1}{2} \\leq \\left\\lceil \\frac{n}{2^{h+1}} \\right\\rceil \\\\\n",
    "\\end{split}\n",
    "$$"
   ]
  }
 ],
 "metadata": {
  "kernelspec": {
   "display_name": "Julia 1.10.5",
   "language": "julia",
   "name": "julia-1.10"
  },
  "language_info": {
   "file_extension": ".jl",
   "mimetype": "application/julia",
   "name": "julia",
   "version": "1.10.5"
  }
 },
 "nbformat": 4,
 "nbformat_minor": 5
}
