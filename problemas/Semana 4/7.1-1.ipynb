{
 "cells": [
  {
   "cell_type": "markdown",
   "id": "a88cb502-c634-4cbe-bc9b-cde1d9496d8e",
   "metadata": {},
   "source": [
    "## Enunciado"
   ]
  },
  {
   "cell_type": "markdown",
   "id": "5146ed06-3a04-4d09-b717-a25efa243dc9",
   "metadata": {},
   "source": [
    "Usando la figura (7.1) como modelo, ilustra la operación de PARTITION en el arreglo $\\langle 13, 19, 9, 5, 12, 8, 7, 4, 21, 2, 6, 11 \\rangle$."
   ]
  },
  {
   "cell_type": "markdown",
   "id": "83b36f29-bdb9-434d-a09a-20bff1710325",
   "metadata": {},
   "source": [
    "## Solución"
   ]
  },
  {
   "cell_type": "markdown",
   "id": "cdf87524-bd76-4844-846c-c9e04b96fb70",
   "metadata": {},
   "source": [
    "<img src=\"7-1-1-Partition.jpg\" alt=\"Ejemplo grafico de uso de PARTITION\" width=\"500\" height=auto>"
   ]
  }
 ],
 "metadata": {
  "kernelspec": {
   "display_name": "Julia 1.10.5",
   "language": "julia",
   "name": "julia-1.10"
  },
  "language_info": {
   "file_extension": ".jl",
   "mimetype": "application/julia",
   "name": "julia",
   "version": "1.10.5"
  }
 },
 "nbformat": 4,
 "nbformat_minor": 5
}
