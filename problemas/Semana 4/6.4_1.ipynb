{
 "cells": [
  {
   "cell_type": "markdown",
   "id": "a7b62b25-c26d-4b47-a7f9-5d1bef1617a2",
   "metadata": {},
   "source": [
    "## Enunciado"
   ]
  },
  {
   "cell_type": "markdown",
   "id": "b9415333-6431-4dd0-9f4d-c6531de71f98",
   "metadata": {},
   "source": [
    "Utilizando la figura 6.4 como un modelo, ilustre el funcionamiento de $ \\textbf{HEAPSORT}$ en el arreglo $$ A=(5, 13, 2, 25, 7, 17, 20, 8, 4)$$"
   ]
  },
  {
   "cell_type": "markdown",
   "id": "fcf6fa35-f979-4794-b4ee-6351ab9b1ee9",
   "metadata": {},
   "source": [
    "## Solución"
   ]
  },
  {
   "cell_type": "markdown",
   "id": "5f04c957-4335-47c0-8a70-3d9e1b1a564a",
   "metadata": {},
   "source": [
    "![Mi imagen](arboles1-6411.png)\n"
   ]
  },
  {
   "cell_type": "markdown",
   "id": "8261e60c-7321-433d-9b7f-3f2b36a08bba",
   "metadata": {},
   "source": [
    "![Mi imagen](arboles2-641.png)"
   ]
  },
  {
   "cell_type": "markdown",
   "id": "c531543e-8722-4795-8755-fba1df28555e",
   "metadata": {},
   "source": [
    "![Mi imagen](arboles3-641.png)"
   ]
  },
  {
   "cell_type": "markdown",
   "id": "a9b77ca8-b887-4d1b-bb4d-bb4c2ebef5e9",
   "metadata": {},
   "source": [
    "$$ A=(2, 4, 5, 7, 8, 13, 17, 20, 25)$$"
   ]
  }
 ],
 "metadata": {
  "kernelspec": {
   "display_name": "Julia 1.10.4",
   "language": "julia",
   "name": "julia-1.10"
  },
  "language_info": {
   "file_extension": ".jl",
   "mimetype": "application/julia",
   "name": "julia",
   "version": "1.10.4"
  }
 },
 "nbformat": 4,
 "nbformat_minor": 5
}
