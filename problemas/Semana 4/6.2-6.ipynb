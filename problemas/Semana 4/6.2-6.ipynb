{
 "cells": [
  {
   "cell_type": "markdown",
   "id": "7bc39ceb-8547-4c7f-a77b-a483feabc235",
   "metadata": {},
   "source": [
    "The code for MAX-HEAPIFY is quite efûcient in terms of constant factors, except\n",
    "possibly for the recursive call in line 10, for which some compilers might produce\n",
    "inefûcient code. Write an efûcient MAX-HEAPIFY that uses an iterative control\n",
    "construct (a loop) instead of recursion."
   ]
  },
  {
   "cell_type": "markdown",
   "id": "e195a55c-1869-43c8-ba7a-67a490c02b5c",
   "metadata": {},
   "source": [
    "MAX-HEAPIFY (A, i) <br>\n",
    "```plaintext\n",
    "1  l = LEFT.(i) \n",
    "2  r = RIGHT (i) \n",
    "3  if l $\\leq$ A.heap-size and A[l]> A[i] \n",
    "4   largest = l \n",
    "5  else largest = i \n",
    "6  if r $\\leq$ A.heap-size and A[r]> A[largest] \n",
    "7      largest = r \n",
    "8   if largest $\\neq$ i \n",
    "9      exchange A[i] with A[largest] \n",
    "10      MAX-HEAPIFY (A.largest)"
   ]
  },
  {
   "cell_type": "markdown",
   "id": "50238ab4-0bf2-4c1d-b46c-6cef6cbaa7d5",
   "metadata": {},
   "source": [
    "### Iterative MAX-HEAPIFY Algorithm:"
   ]
  },
  {
   "cell_type": "markdown",
   "id": "4d509d3b-31a2-461b-a921-907993768e96",
   "metadata": {},
   "source": [
    "\n",
    "\n",
    "```plaintext\n",
    "MAX-HEAPIFY(A, i)\n",
    "1  while true do\n",
    "2      l = LEFT(i)\n",
    "3      r = RIGHT(i)\n",
    "4      if l ≤ A.heap-size and A[l] > A[i]\n",
    "5          largest = l\n",
    "6      else\n",
    "7          largest = i\n",
    "8      if r ≤ A.heap-size and A[r] > A[largest]\n",
    "9          largest = r\n",
    "10     if largest ≠ i\n",
    "11         exchange A[i] with A[largest]\n",
    "12         i = largest\n",
    "13     else\n",
    "14         break\n",
    "\n"
   ]
  },
  {
   "cell_type": "code",
   "execution_count": null,
   "id": "469b8c9d-00b3-4cfe-b5cd-268448678bfa",
   "metadata": {},
   "outputs": [],
   "source": []
  }
 ],
 "metadata": {
  "kernelspec": {
   "display_name": "Julia 1.10.5",
   "language": "julia",
   "name": "julia-1.10"
  },
  "language_info": {
   "file_extension": ".jl",
   "mimetype": "application/julia",
   "name": "julia",
   "version": "1.10.5"
  }
 },
 "nbformat": 4,
 "nbformat_minor": 5
}
