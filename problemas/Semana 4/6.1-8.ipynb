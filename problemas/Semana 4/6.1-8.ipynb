{
 "cells": [
  {
   "cell_type": "markdown",
   "id": "7a89484a-efc8-47c3-9984-ecf2298d89ed",
   "metadata": {},
   "source": [
    "Show that, with the array representation for storing an $n$-element heap, the leaves are the nodes indexed by $⌊n/2⌋+1, ⌊n/2⌋+2 + 2,...,n$"
   ]
  },
  {
   "cell_type": "markdown",
   "id": "7d279bcb-bcde-4ed0-8552-44f2d0479648",
   "metadata": {},
   "source": [
    "\n",
    "En un heap de $n$ elementos almacenado en un arreglo, las hojas son los nodos que no tienen hijos. Vamos a demostrar que las hojas están indexadas por los elementos en el rango:\n",
    "\n",
    "$ \\left\\lfloor \\frac{n}{2} \\right\\rfloor + 1, \\left\\lfloor \\frac{n}{2} \\right\\rfloor + 2, \\dots, n $\n",
    "\n",
    "En un heap binario almacenado como un arreglo:\n",
    "- La raíz del heap está en la posición 1.\n",
    "- Para cualquier nodo en la posición $i$:\n",
    "  - Su hijo izquierdo está en la posición $2i$.\n",
    "  - Su hijo derecho está en la posición $2i + 1$.\n",
    "  - Su padre está en la posición $ \\left\\lfloor \\frac{i}{2} \\right\\rfloor $.\n",
    "\n",
    "\n",
    "\n",
    "\n",
    "\n",
    "El heap tiene un total de $n$ nodos, indexados desde 1 hasta $n$ en el arreglo.\n",
    "\n",
    "### 2. Nodos no-hojas\n",
    "\n",
    "Un nodo no-hoja debe tener al menos un hijo. Dado que el hijo izquierdo de un nodo en la posición $i$ está en la posición $2i$, un nodo puede tener hijos solo si $2i \\leq n$. Esto implica que el índice $i$ debe ser menor o igual a $\\frac{n}{2}$.\n",
    "\n",
    "Por lo tanto, los nodos con índices de 1 a $ \\left\\lfloor \\frac{n}{2} \\right\\rfloor $ son los nodos internos (no-hojas), ya que tienen al menos un hijo.\n",
    "\n",
    "\n",
    "Los nodos hoja son aquellos que no tienen hijos. A partir de la observación anterior, sabemos que solo los nodos con índices mayores a $ \\left\\lfloor \\frac{n}{2} \\right\\rfloor $ no tienen hijos, ya que $2i > n$ para estos índices.\n",
    "\n",
    "Por lo tanto, los nodos hoja están indexados por:\n",
    "\n",
    "$ \\left\\lfloor \\frac{n}{2} \\right\\rfloor + 1, \\left\\lfloor \\frac{n}{2} \\right\\rfloor + 2, \\dots, n $\n",
    "\n",
    "## Conclusión\n",
    "\n",
    "Las hojas en un heap de $n$ elementos, representado como un arreglo, están indexadas por los elementos en el rango:\n",
    "\n",
    "$ \\left\\lfloor \\frac{n}{2} \\right\\rfloor + 1, \\left\\lfloor \\frac{n}{2} \\right\\rfloor + 2, \\dots, n $\n",
    "\n",
    "Estos nodos no tienen hijos, ya que los nodos con índices menores o iguales a $ \\left\\lfloor \\frac{n}{2} \\right\\rfloor $ son nodos internos con al menos un hijo.\n"
   ]
  }
 ],
 "metadata": {
  "kernelspec": {
   "display_name": "Julia 1.10.5",
   "language": "julia",
   "name": "julia-1.10"
  },
  "language_info": {
   "file_extension": ".jl",
   "mimetype": "application/julia",
   "name": "julia",
   "version": "1.10.5"
  }
 },
 "nbformat": 4,
 "nbformat_minor": 5
}
