{
 "cells": [
  {
   "cell_type": "markdown",
   "id": "bf6ed013-79e4-4fbe-8704-6604987868be",
   "metadata": {},
   "source": [
    "## Enunciado"
   ]
  },
  {
   "cell_type": "markdown",
   "id": "95b78399-98c7-44c5-b2b2-e63c3010f870",
   "metadata": {},
   "source": [
    "Utilizando la figura 6.3 como modelo, ilustre el funcionamiento de BUILD-MAX-HEAP en la matriz A = {5, 3, 17, 10, 84, 19, 6, 22, 9}"
   ]
  },
  {
   "cell_type": "markdown",
   "id": "f1a8ff1c-be11-4ec6-b99e-89f9e34c6311",
   "metadata": {},
   "source": [
    "## Solución"
   ]
  },
  {
   "cell_type": "markdown",
   "id": "193c9dae-3c05-4aa2-9155-056f101a9ce6",
   "metadata": {},
   "source": [
    "$$A={5,3,17,10,84,19,6,22,9}$$"
   ]
  },
  {
   "cell_type": "markdown",
   "id": "36a7dcc5-254f-479c-90f7-4c67c729daeb",
   "metadata": {},
   "source": [
    "![Mi imagen](arboles1_631.png)"
   ]
  },
  {
   "cell_type": "markdown",
   "id": "c87dbfc8-9ca4-4130-a2a3-4d306a905384",
   "metadata": {},
   "source": [
    "![Mi imagen](arboles2_631.png)"
   ]
  }
 ],
 "metadata": {
  "kernelspec": {
   "display_name": "Julia 1.10.4",
   "language": "julia",
   "name": "julia-1.10"
  },
  "language_info": {
   "file_extension": ".jl",
   "mimetype": "application/julia",
   "name": "julia",
   "version": "1.10.4"
  }
 },
 "nbformat": 4,
 "nbformat_minor": 5
}
