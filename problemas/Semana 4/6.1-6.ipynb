{
  "nbformat": 4,
  "nbformat_minor": 0,
  "metadata": {
    "colab": {
      "provenance": []
    },
    "kernelspec": {
      "name": "python3",
      "display_name": "Python 3"
    },
    "language_info": {
      "name": "python"
    }
  },
  "cells": [
    {
      "cell_type": "code",
      "execution_count": null,
      "metadata": {
        "id": "hbXeS2B9YJ7S"
      },
      "outputs": [],
      "source": []
    },
    {
      "cell_type": "markdown",
      "source": [
        "**Enunciado**\n",
        "\n",
        "¿Es un arreglo que esta ordenado un min-heap?\n",
        "\n",
        "Respuesta: Recordemos que para que un arreglo se encuentre en min-heap debe de cumplir que, el valor de cada nodo padre es menos o igual al de sus hijos. Tambien debe de ser un árbol binario completo, es decir, cada nodo padre tiene al menos dos hijos, esto a excepción del último nivel.\n",
        "\n",
        "Tanto min-heap como un arreglo inician con su indice en 0, sin embargo un min-heap no necesita que haya un orden dentro de todo el arreglo.\n",
        "\n",
        "En conclusión un arreglo ordenado, forzosamente es un min-heap sin embargo un min-heap no debe estar necesariamente ordenado."
      ],
      "metadata": {
        "id": "356lSRNSYT1V"
      }
    }
  ]
}