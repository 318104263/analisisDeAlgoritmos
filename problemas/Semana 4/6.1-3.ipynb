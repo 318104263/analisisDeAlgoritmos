{
 "cells": [
  {
   "cell_type": "markdown",
   "id": "a3670fac-befb-4079-a4eb-35c6f0640477",
   "metadata": {},
   "source": [
    "## Enunciado \n",
    "\n",
    "Muestra que en cualquier sub-arbol de un max-heap, la raiz de los subarboles contienen el valor más grande en dicho sub-arbol"
   ]
  },
  {
   "cell_type": "markdown",
   "id": "b6ffe091-653a-4c30-94f1-724a9d570658",
   "metadata": {},
   "source": [
    "## Solución\n"
   ]
  },
  {
   "cell_type": "markdown",
   "id": "24f457ee-9bb0-4ceb-a8fe-b0c6e2460f8a",
   "metadata": {},
   "source": [
    "En un max-heap debemos satisface $A[PARENT(i)]\\geq A[i]$, es decir $A[i] \\geq  A[2i] \\land A[i] \\geq  A[2i+1]$\n",
    "\n",
    "Por transitividad lo anterior se cumple que ningun nodo $A[2j]$, sera más grande que la sub-raíz de la cual surge"
   ]
  }
 ],
 "metadata": {
  "kernelspec": {
   "display_name": "Julia 1.10.4",
   "language": "julia",
   "name": "julia-1.10"
  },
  "language_info": {
   "file_extension": ".jl",
   "mimetype": "application/julia",
   "name": "julia",
   "version": "1.10.4"
  }
 },
 "nbformat": 4,
 "nbformat_minor": 5
}
