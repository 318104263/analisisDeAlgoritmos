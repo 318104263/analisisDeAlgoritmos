{
 "cells": [
  {
   "cell_type": "markdown",
   "id": "e6bc855d-092d-4de6-b67d-16fc07b001a5",
   "metadata": {},
   "source": [
    "## Enunciado\n",
    "\n",
    "¿Porque el indice del bucle i en la linea 2 de BUILD-MAX-HEAP decrece desde $\\lfloor n/2 \\rfloor$ en lugar de crecer desde 1 hasta $\\lfloor n/2 \\rfloor$"
   ]
  },
  {
   "cell_type": "markdown",
   "id": "c9eb415f-b1a0-4fd9-b5c4-6ae3f6cb9cc6",
   "metadata": {},
   "source": [
    "## Solución\n",
    "\n",
    "BUILD-MAX-HEAP depende de MAX-HEAPIFY, este último supone que los nodos que estamos comparando son raices de un max-heap. Una hoja es por definición un max-heap de un nivel, por lo tanto el algoritmo trabajara correctamente al empezar a comparar con max-heaps ya existentes"
   ]
  }
 ],
 "metadata": {
  "kernelspec": {
   "display_name": "Julia 1.10.4",
   "language": "julia",
   "name": "julia-1.10"
  },
  "language_info": {
   "file_extension": ".jl",
   "mimetype": "application/julia",
   "name": "julia",
   "version": "1.10.4"
  }
 },
 "nbformat": 4,
 "nbformat_minor": 5
}
