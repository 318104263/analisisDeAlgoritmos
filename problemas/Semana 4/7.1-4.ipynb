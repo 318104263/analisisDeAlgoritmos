{
 "cells": [
  {
   "cell_type": "markdown",
   "id": "35362d0e-0fe6-4b29-a282-b93b37b78e43",
   "metadata": {},
   "source": [
    "## Enunciado"
   ]
  },
  {
   "cell_type": "markdown",
   "id": "67388b9f-eb95-4c57-b253-c099989c35d4",
   "metadata": {},
   "source": [
    "Modifica QUICKSORT para ordenar en orden monótonamente descendiente."
   ]
  },
  {
   "cell_type": "markdown",
   "id": "ecfe72ef-72bc-4553-be2e-da212a3b1a69",
   "metadata": {},
   "source": [
    "## Solución"
   ]
  },
  {
   "cell_type": "markdown",
   "id": "aa8a7ba8-af07-46a5-b458-d5c0a0fa0cba",
   "metadata": {},
   "source": [
    "El único cambio es en la función partition, en la desigualdad dentro del $if$. Aún así se escribirá el algoritmo completo."
   ]
  },
  {
   "cell_type": "markdown",
   "id": "1026642b-3093-4594-822d-13e8ec7e3280",
   "metadata": {},
   "source": [
    "```\n",
    "QUICKSORT(A,p,r)\n",
    "    if p < r\n",
    "        q = PARTITION(A,p,r)\n",
    "        QUICKSORT(A,p,q-1)\n",
    "        QUICKSORT(A,q+1,r)\n",
    "```"
   ]
  },
  {
   "cell_type": "markdown",
   "id": "0c42facb-85ee-42ab-b915-aab5a53ec5e6",
   "metadata": {},
   "source": [
    "```\n",
    "PARTITION(A,p,r)\n",
    "    x = A[r]\n",
    "    i = p-1\n",
    "    for j=p hasta r-1\n",
    "        if A[j] ≥ x\n",
    "            i = i+1\n",
    "            Intercambiar A[i] con A[j]\n",
    "    Intercambiar A[i+1] con A[r]\n",
    "    Return i+1\n",
    "```"
   ]
  }
 ],
 "metadata": {
  "kernelspec": {
   "display_name": "Julia 1.10.5",
   "language": "julia",
   "name": "julia-1.10"
  },
  "language_info": {
   "file_extension": ".jl",
   "mimetype": "application/julia",
   "name": "julia",
   "version": "1.10.5"
  }
 },
 "nbformat": 4,
 "nbformat_minor": 5
}
