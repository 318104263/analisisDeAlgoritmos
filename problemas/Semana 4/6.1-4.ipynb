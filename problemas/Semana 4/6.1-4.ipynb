{
 "cells": [
  {
   "cell_type": "markdown",
   "id": "7d56a388-d575-4a76-b97f-0fa00a82cac7",
   "metadata": {},
   "source": [
    "# Enunciado\n",
    "¿Dónde podría estar el elemento más pequeño en un max-heap, asumiendo que todos los elementos son distintos?"
   ]
  },
  {
   "cell_type": "markdown",
   "id": "66db7093-0136-4f8f-b740-a5558a8f75cf",
   "metadata": {},
   "source": [
    "# Solución\n",
    "Se encontrará en alguna hoja del arbol, es decir, en el nodo final de alguna rama."
   ]
  }
 ],
 "metadata": {
  "kernelspec": {
   "display_name": "Julia 1.10.4",
   "language": "julia",
   "name": "julia-1.10"
  },
  "language_info": {
   "file_extension": ".jl",
   "mimetype": "application/julia",
   "name": "julia",
   "version": "1.10.4"
  }
 },
 "nbformat": 4,
 "nbformat_minor": 5
}
