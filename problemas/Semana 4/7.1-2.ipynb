{
 "cells": [
  {
   "cell_type": "markdown",
   "id": "482ce46d-b87e-4b00-aff5-3322f64af2eb",
   "metadata": {},
   "source": [
    "## Enunciado\n",
    "\n",
    "¿Que valor de *q* retorna PARTITION cuando todos los elementos del subarray A\\[p:r\\] tienen el mismo valor? Modifica PARTITION para que $q=\\lfloor (p+r)/2 \\rfloor$ cuando todos los elementos del subarray A\\[p:r\\] tengan el mismo valor"
   ]
  },
  {
   "cell_type": "markdown",
   "id": "96b1452b-9c73-428d-bbbb-0279159a0b7c",
   "metadata": {},
   "source": [
    "## Solución\n",
    "\n",
    "El valor que Partition retorna es r. \n",
    "\n",
    "```\n",
    "PARTITION(A, p, r)\n",
    "    x = A[r]\n",
    "    i=p–1\n",
    "    for j = p to r – 1\n",
    "        if A[j] ≤ x\n",
    "            i=i+1\n",
    "            exchange A[i] with A[j]\n",
    "    exchange A[i + 1] with A[r]\n",
    "    if A[p] = A[r]\n",
    "        return FLOOR((p+r)/2))\n",
    "    return i + 1\n",
    "```"
   ]
  },
  {
   "cell_type": "markdown",
   "id": "a86f2ec7-695b-4f1c-958c-2bf8fb5d7416",
   "metadata": {},
   "source": []
  }
 ],
 "metadata": {
  "kernelspec": {
   "display_name": "Julia 1.10.4",
   "language": "julia",
   "name": "julia-1.10"
  },
  "language_info": {
   "file_extension": ".jl",
   "mimetype": "application/julia",
   "name": "julia",
   "version": "1.10.4"
  }
 },
 "nbformat": 4,
 "nbformat_minor": 5
}
