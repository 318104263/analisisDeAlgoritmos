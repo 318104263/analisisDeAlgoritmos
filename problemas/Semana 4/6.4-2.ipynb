{
 "cells": [
  {
   "cell_type": "markdown",
   "id": "60325378-4baf-4655-9621-b9429e1001b7",
   "metadata": {},
   "source": [
    "# Enunciado\n",
    "Argumenta la exactitud de ```HEAPSORT``` utilizando el siguiente invariante de bucle: Al inicio de cada iteración del bucle for de las líneas 2–5, el subarreglo $A[1 : i]$ es un max heap que contiene los $i$ elementos más pequeños de $A[1 : n]$, y el subarreglo $A[i + 1 : n]$ contiene los $n– i$ elementos más grandes de $A[1 : n]$, ordenados.\n"
   ]
  }
 ],
 "metadata": {
  "kernelspec": {
   "display_name": "Julia 1.10.4",
   "language": "julia",
   "name": "julia-1.10"
  },
  "language_info": {
   "file_extension": ".jl",
   "mimetype": "application/julia",
   "name": "julia",
   "version": "1.10.4"
  }
 },
 "nbformat": 4,
 "nbformat_minor": 5
}
