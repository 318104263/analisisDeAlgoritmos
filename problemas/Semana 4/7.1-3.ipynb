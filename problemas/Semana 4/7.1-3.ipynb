{
 "cells": [
  {
   "cell_type": "markdown",
   "id": "d47e77a5-247f-4cf1-a01c-1322a2de1105",
   "metadata": {},
   "source": [
    "# Enunciado\n",
    "Argumenta brevemente que el tiempo de ejecucion de ```PARTITION``` en un subarreglo de tamaño $n$ es $\\Theta(n)$."
   ]
  },
  {
   "cell_type": "markdown",
   "id": "d61d996e-4645-44d7-996a-55488a78cb19",
   "metadata": {},
   "source": [
    "# Solución\n",
    "El bucle ```for``` realiza exactamente $r - p$ iteraciones, cada una de las cuales toma, como máximo, un tiempo constante. La parte fuera del bucle ```for``` también toma, como máximo, un tiempo constante. Dado que $r - p$ es el tamaño del subarreglo, el procedimiento de ```PARTITION``` toma un tiempo proporcional al tamaño del subarreglo sobre el cual se ejecuta.\n"
   ]
  }
 ],
 "metadata": {
  "kernelspec": {
   "display_name": "Julia 1.10.4",
   "language": "julia",
   "name": "julia-1.10"
  },
  "language_info": {
   "file_extension": ".jl",
   "mimetype": "application/julia",
   "name": "julia",
   "version": "1.10.4"
  }
 },
 "nbformat": 4,
 "nbformat_minor": 5
}
