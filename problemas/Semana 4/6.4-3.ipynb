{
  "nbformat": 4,
  "nbformat_minor": 0,
  "metadata": {
    "colab": {
      "provenance": []
    },
    "kernelspec": {
      "name": "python3",
      "display_name": "Python 3"
    },
    "language_info": {
      "name": "python"
    }
  },
  "cells": [
    {
      "cell_type": "code",
      "execution_count": null,
      "metadata": {
        "id": "wcwMhZMkaSKJ"
      },
      "outputs": [],
      "source": []
    },
    {
      "cell_type": "markdown",
      "source": [
        "**Enunciado**\n",
        "\n",
        "¿Cuál es el tiempo de ejecución de Heapsort en un arreglo de tamaño n que esta ordenado en orden ascendente? ¿Qué sucede ahora si la matriz esta ordenada en orden descendiente?\n",
        "\n",
        "Respuesta: En ambos casos ya sea que el arreglo este ordenado o no, puesto que el tiempo de ejecucion es $O(n{(logn))}$, esto ya que tiene que hacer el mismo tipo de proceso secuencial para arreglar el Heapsort. En conclusión es indiferente en que orden nos den el arreglo."
      ],
      "metadata": {
        "id": "aNpuLgoRbmuM"
      }
    }
  ]
}