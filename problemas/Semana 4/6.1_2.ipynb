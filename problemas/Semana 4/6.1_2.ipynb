{
 "cells": [
  {
   "cell_type": "markdown",
   "id": "8abd758e-0a52-4658-86c7-2fe026d2ea0f",
   "metadata": {},
   "source": [
    "## Enunciado"
   ]
  },
  {
   "cell_type": "markdown",
   "id": "813de07f-c1ce-4c44-b0cd-e297247c8d8f",
   "metadata": {},
   "source": [
    "Demuestre que un heap de n elementos tiene altura $\\lfloor lg(n) \\rfloor$"
   ]
  },
  {
   "cell_type": "markdown",
   "id": "51b3112c-b48e-4838-9d3e-c826ccd67864",
   "metadata": {},
   "source": [
    "## Solución"
   ]
  },
  {
   "cell_type": "markdown",
   "id": "ca98a48e-1b35-4f3a-8dac-139fb0d0bbc8",
   "metadata": {},
   "source": [
    "Dado un heap de n elementos de altura h, sabemos por el ejercicio 6.1.1 que $$ 2^h \\leq n \\leq 2^{h+1} -1 < 2^{h+1} $$\n",
    "Por lo tanto $$ h\\leq lg(n)<h+1$$ \n",
    "Como h es un número entero $$ h=\\lfloor lg(n) \\rfloor $$\n",
    "$$ \\text{(por definición de}\\lfloor\\rfloor\\text{)}$$"
   ]
  },
  {
   "cell_type": "code",
   "execution_count": null,
   "id": "029a9971-5b6f-4dbe-9d98-c27f791962b7",
   "metadata": {},
   "outputs": [],
   "source": []
  }
 ],
 "metadata": {
  "kernelspec": {
   "display_name": "Julia 1.10.4",
   "language": "julia",
   "name": "julia-1.10"
  },
  "language_info": {
   "file_extension": ".jl",
   "mimetype": "application/julia",
   "name": "julia",
   "version": "1.10.4"
  }
 },
 "nbformat": 4,
 "nbformat_minor": 5
}
