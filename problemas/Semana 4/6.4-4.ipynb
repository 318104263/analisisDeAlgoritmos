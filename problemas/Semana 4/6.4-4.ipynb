{
 "cells": [
  {
   "cell_type": "markdown",
   "id": "c25ed7bd-805f-448a-950c-91a317bec04b",
   "metadata": {},
   "source": [
    "## Enunciado"
   ]
  },
  {
   "cell_type": "markdown",
   "id": "cf420d71-f5b5-48f9-96b3-8c7d17f23f20",
   "metadata": {},
   "source": [
    "Muestra que en el peor de los casos el tiempo de ejecución de HEAPSORT es $\\Omega(n \\lg n)$"
   ]
  },
  {
   "cell_type": "markdown",
   "id": "c844ba03-d27b-4c47-aa9d-cf20f7332ef2",
   "metadata": {},
   "source": [
    "## Solución"
   ]
  },
  {
   "cell_type": "markdown",
   "id": "8bf9de23-33a6-49a4-9d9f-b94e04b675e7",
   "metadata": {},
   "source": [
    "En el algoritmo se realiza el Max Heap con tiempo $\\Theta(n)$, luego se hace el intercambio del elemento raíz con la última hoja, y en el peor de los casos la nueva raíz tiene que bajar hasta el último nivel del Heap, que toma tiempo $\\Theta(\\lg n)$. Este proceso se hace $n$ veces (por el ciclo $for$), así que el tiempo de ejecución es $\\Theta(n \\lg n)$."
   ]
  }
 ],
 "metadata": {
  "kernelspec": {
   "display_name": "Julia 1.10.5",
   "language": "julia",
   "name": "julia-1.10"
  },
  "language_info": {
   "file_extension": ".jl",
   "mimetype": "application/julia",
   "name": "julia",
   "version": "1.10.5"
  }
 },
 "nbformat": 4,
 "nbformat_minor": 5
}
