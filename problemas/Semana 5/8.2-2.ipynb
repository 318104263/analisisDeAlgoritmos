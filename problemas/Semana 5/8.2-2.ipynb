{
 "cells": [
  {
   "cell_type": "markdown",
   "id": "c305b75b-4a26-4eb4-bfe8-5097b3f1981b",
   "metadata": {},
   "source": [
    "Prove that COUNTING-SORT is stable."
   ]
  },
  {
   "cell_type": "markdown",
   "id": "66f00e39-4910-48d3-805f-9912c72c8dc0",
   "metadata": {},
   "source": [
    "```plaintext\n",
    "COUNTING-SORT(A, k):\n",
    "    n = length(A)\n",
    "    C = array of size k+1, initialized to 0\n",
    "    B = array of size n\n",
    "\n",
    "   \n",
    "    for j = 0 to n - 1:\n",
    "        C[A[j]] = C[A[j]] + 1\n",
    "\n",
    "    // Paso 3: Cálculo de Posiciones\n",
    "    for i = 1 to k:\n",
    "        C[i] = C[i] + C[i - 1]\n",
    "\n",
    "    // Paso 4: Construir el Arreglo de Salida\n",
    "    for j = n - 1 down to 0:\n",
    "        x = A[j]\n",
    "        B[C[x] - 1] = x\n",
    "        C[x] = C[x] - 1\n",
    "\n",
    "    // Paso 5: Devolver el Arreglo Ordenado\n",
    "    return B"
   ]
  },
  {
   "cell_type": "markdown",
   "id": "2aff9d55-ec48-4706-98a0-1de25ae803f4",
   "metadata": {},
   "source": [
    "## Solución"
   ]
  },
  {
   "cell_type": "markdown",
   "id": "1b3f1cb4-3a34-4e6d-b6b2-74b650a0f6da",
   "metadata": {},
   "source": [
    "Para demostrar que COUNTING-SORT es un algoritmo estable, debemos mostrar que preserva el orden relativo de los elementos con claves iguales. COUNTING-SORT funciona contando las ocurrencias de cada clave en el arreglo de entrada y luego utiliza esta información para determinar las posiciones en el arreglo de salida. Al construir el arreglo de salida, el algoritmo procesa los elementos en el orden en que aparecen en el arreglo original y los coloca en la posición calculada, decrementar esa posición solo después de insertar el elemento. Esto asegura que, si dos elementos tienen la misma clave, el que aparece primero en el arreglo original se coloca primero en el arreglo de salida. Por lo tanto, COUNTING-SORT preserva el orden relativo de los elementos con claves iguales y, por lo tanto, es un algoritmo de ordenación estable."
   ]
  },
  {
   "cell_type": "code",
   "execution_count": null,
   "id": "0f043185-85f5-4cde-aad2-54742ee6044d",
   "metadata": {},
   "outputs": [],
   "source": []
  }
 ],
 "metadata": {
  "kernelspec": {
   "display_name": "Julia 1.10.5",
   "language": "julia",
   "name": "julia-1.10"
  },
  "language_info": {
   "file_extension": ".jl",
   "mimetype": "application/julia",
   "name": "julia",
   "version": "1.10.5"
  }
 },
 "nbformat": 4,
 "nbformat_minor": 5
}
