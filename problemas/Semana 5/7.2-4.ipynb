{
 "cells": [
  {
   "cell_type": "markdown",
   "id": "48d6aadf-f452-4c98-b1bf-ee0c92e2cecb",
   "metadata": {},
   "source": [
    "Banks often record transactions on an account in order of the times of the trans-\n",
    "actions, but many people like to receive their bank statements with checks listed\n",
    "in order by check number. People usually write checks in order by check num-\n",
    "ber, and merchants usually cash them with reasonable dispatch. The problem of\n",
    "converting time-of-transaction ordering to check-number ordering is therefore the\n",
    "problem of sorting almost-sorted input. Explain persuasively why the procedure\n",
    "I NSERTION-SORT might tend to beat the procedure QUICKSORT on this problem."
   ]
  },
  {
   "cell_type": "code",
   "execution_count": null,
   "id": "4929ce59-8e76-4412-a2b4-f1eac473cc20",
   "metadata": {},
   "outputs": [],
   "source": []
  }
 ],
 "metadata": {
  "kernelspec": {
   "display_name": "Julia 1.10.5",
   "language": "julia",
   "name": "julia-1.10"
  },
  "language_info": {
   "file_extension": ".jl",
   "mimetype": "application/julia",
   "name": "julia",
   "version": "1.10.5"
  }
 },
 "nbformat": 4,
 "nbformat_minor": 5
}
