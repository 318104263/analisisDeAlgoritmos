{
 "cells": [
  {
   "cell_type": "markdown",
   "id": "c95053ad-547f-4334-8959-d24405000c3b",
   "metadata": {},
   "source": [
    "# Enunciado\n",
    "Muestra que el tiempo de ejecución de ```QUICKSORT``` es $\\Theta(n^2)$ cuando el arrelgo $A$ contiene elementos distintos y está ordenado en orden decreciente. "
   ]
  },
  {
   "cell_type": "markdown",
   "id": "94662941-7385-43d0-a4e2-bd85cbcc3c15",
   "metadata": {},
   "source": [
    "# Solución\n",
    "```PARTITION``` realiza una partición en el peor de los casos cuando los elementos están en orden decreciente. Esto reduce el tamaño del subarreglo en solo 1 en cada paso, lo que implica un tiempo de ejecución de $O(n^2)$. Específicamente, dado un subarreglo $A[p .. r]$ con elementos distintos en orden decreciente, ```PARTITION``` produce una partición vacía en $A[p .. q - 1]$, coloca el pivote (originalmente en $A[r]$) en $A[p]$, y genera una partición $A[p + 1 .. r]$ con solo un elemento menos que $A[p .. r]$. La recurrencia para ```QUICKSORT``` se expresa como $T(n) = T(n - 1) + O(n)$, cuya solución es $T(n) = O(n^2)$."
   ]
  }
 ],
 "metadata": {
  "kernelspec": {
   "display_name": "Julia 1.10.4",
   "language": "julia",
   "name": "julia-1.10"
  },
  "language_info": {
   "file_extension": ".jl",
   "mimetype": "application/julia",
   "name": "julia",
   "version": "1.10.4"
  }
 },
 "nbformat": 4,
 "nbformat_minor": 5
}
