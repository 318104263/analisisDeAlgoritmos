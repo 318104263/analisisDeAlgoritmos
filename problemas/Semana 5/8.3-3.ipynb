{
 "cells": [
  {
   "cell_type": "markdown",
   "id": "7ce244f0-45f7-4b11-8260-b7e277db1521",
   "metadata": {},
   "source": [
    "# Enunciado\n",
    "Utiliza inducción para probar que funciona el algoritmo ```radix sort```. ¿Dónde es necesario que tu prueba asuma que el ordenamiento intermedio es estable?"
   ]
  },
  {
   "cell_type": "markdown",
   "id": "af31fc00-b67e-4322-a62a-fee599974f4b",
   "metadata": {},
   "source": [
    "# Solución\n",
    "Por inducción sobre $d$"
   ]
  },
  {
   "cell_type": "markdown",
   "id": "82953d15-61a1-4ef4-ae12-11b70ddfe7fc",
   "metadata": {},
   "source": [
    "## Base\n",
    "Si $d = 1$, solo hay un dígito, por lo que ordenar según ese dígito ordena el arreglo.  "
   ]
  },
  {
   "cell_type": "markdown",
   "id": "e3b2c48f-2d4d-473c-a9a9-cd6f787e0ceb",
   "metadata": {},
   "source": [
    "## Hipótesis\n",
    "Suponiendo que el algoritmo *radix sort* funciona para $d - 1$ dígitos, demostraremos que también funciona para $d$ dígitos."
   ]
  },
  {
   "cell_type": "markdown",
   "id": "9d99772e-cf24-44e2-a51e-924c2efd6392",
   "metadata": {},
   "source": [
    "## Inducción\n",
    "El *radix sort* ordena por separado cada dígito, comenzando desde el primer dígito. Así, ordenar un número de $d$ dígitos, comenzando por el dígito 1 hasta el dígito $d$, es equivalente a ordenar los $d - 1$ dígitos de menor orden, seguido de una ordenación por el dígito $d$.\n",
    "\n",
    "Según nuestra hipótesis de inducción, la ordenación de los $d - 1$ dígitos de menor orden funciona, por lo que justo antes de ordenar por el dígito $d$, los elementos están ordenados según sus $d - 1$ dígitos de menor orden. La ordenación por el dígito $d$ ordenará los elementos según su $d$-ésimo dígito.\n",
    "\n",
    "Consideremos dos elementos, $a$ y $b$, con dígitos $a_d$ y $b_d$, respectivamente:\n",
    "\n",
    "- Si $a_d < b_d$, el algoritmo colocará $a$ antes que $b$, lo cual es correcto, ya que $a < b$ independientemente de los dígitos de menor orden.\n",
    "- Si $a_d > b_d$, el algoritmo colocará $a$ después de $b$, lo cual es correcto, ya que $a > b$ independientemente de los dígitos de menor orden.\n",
    "- Si $a_d = b_d$, el algoritmo dejará a $a$ y $b$ en el mismo orden en que estaban, ya que es estable. Ese orden ya es correcto, dado que el orden correcto de $a$ y $b$ se determina por los $d - 1$ dígitos de menor orden cuando sus $d$-ésimos dígitos son iguales, y los elementos ya estaban ordenados por esos $d - 1$ dígitos.\n",
    "\n",
    "Si la ordenación intermedia no fuera estable, podría reorganizar los elementos cuyos $d$-ésimos dígitos son iguales, aunque ya estuvieran en el orden correcto tras ordenar por los dígitos de menor orden."
   ]
  }
 ],
 "metadata": {
  "kernelspec": {
   "display_name": "Julia 1.10.4",
   "language": "julia",
   "name": "julia-1.10"
  },
  "language_info": {
   "file_extension": ".jl",
   "mimetype": "application/julia",
   "name": "julia",
   "version": "1.10.4"
  }
 },
 "nbformat": 4,
 "nbformat_minor": 5
}
