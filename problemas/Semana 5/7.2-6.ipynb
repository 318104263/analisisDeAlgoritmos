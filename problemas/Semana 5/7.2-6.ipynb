{
 "cells": [
  {
   "cell_type": "markdown",
   "id": "50224579-7153-486b-aca0-68cc14936777",
   "metadata": {},
   "source": [
    "Consider an array with distinct elements and for which all permutations of the elements are equally likely. Argue that for any constant $0< \\alpha \\leq 1/2$, the probability is approximately $1- 2\\alpha$˛ that PARTITION produces a split at least as balanced as $1-\\alpha$ to $\\alpha$"
   ]
  },
  {
   "cell_type": "markdown",
   "id": "cadc9318-03f7-41bd-b533-dc9cb61c7fb7",
   "metadata": {},
   "source": [
    "## Solución"
   ]
  },
  {
   "cell_type": "markdown",
   "id": "6e0096e6-dc81-4b69-8f1a-380d948c56bc",
   "metadata": {},
   "source": [
    "\n",
    "Consideremos un arreglo con elementos distintos y en el que todas las permutaciones de los elementos son igualmente probables. Vamos a argumentar que, para cualquier constante $0 < \\alpha \\leq \\frac{1}{2}$, la probabilidad de que el algoritmo PARTITION produzca una división al menos tan balanceada como $1 - \\alpha$ a $\\alpha$ es aproximadamente $1 - 2\\alpha^2$.\n",
    "\n",
    "## El Algoritmo PARTITION\n",
    "\n",
    "El algoritmo PARTITION funciona seleccionando un elemento pivote y reorganizando el arreglo de tal manera que los elementos menores que el pivote están antes que él, y los elementos mayores están después. Este proceso crea dos subarreglos, uno a cada lado del pivote.\n",
    "\n",
    "## Particionamiento Balanceado\n",
    "\n",
    "Un particionamiento balanceado se define en términos de los tamaños de los dos subarreglos resultantes. Específicamente, queremos mostrar que la probabilidad de que los tamaños de los dos subarreglos $S_1$ y $S_2$ satisfagan:\n",
    "\n",
    "$$\n",
    "\\left| \\frac{|S_1|}{n} - \\alpha \\right| \\leq 1 - \\alpha\n",
    "$$\n",
    "\n",
    "es aproximadamente $1 - 2\\alpha^2$.\n",
    "\n",
    "## Análisis de Probabilidad\n",
    "\n",
    "1. **Elección de un Pivote:**\n",
    "   - Dado que los elementos son distintos y todas las permutaciones son igualmente probables, cada elemento tiene la misma probabilidad de ser elegido como pivote.\n",
    "\n",
    "2. **Número de Elementos en Subarreglos:**\n",
    "   - Supongamos que hay $n$ elementos distintos. Cuando se elige un pivote, este divide los elementos en aquellos menores que el pivote y aquellos mayores que el pivote. Los tamaños de los dos subarreglos $S_1$ y $S_2$ pueden variar según la elección del pivote.\n",
    "\n",
    "3. **Condición para un Particionamiento Balanceado:**\n",
    "   - Un split se considera balanceado si los tamaños de los dos subarreglos están dentro de $1 - \\alpha$ y $\\alpha$ el uno del otro. Esto se traduce matemáticamente en:\n",
    "\n",
    "   $$\n",
    "   | |S_1| - |S_2| | \\leq n(1 - \\alpha) - n\\alpha = n(1 - 2\\alpha)\n",
    "   $$\n",
    "\n",
    "4. **Rango de Índices:**\n",
    "   - El pivote elegido puede dar lugar a varias configuraciones de los subarreglos. Para lograr un balance definido por $\\alpha$, necesitamos que el pivote caiga dentro de ciertos rangos de índice:\n",
    "     - El subarreglo izquierdo $S_1$ debe tener al menos $\\alpha n$ elementos.\n",
    "     - El subarreglo derecho $S_2$ debe tener al menos $\\alpha n$ elementos.\n",
    "   - Esto implica que necesitamos que el pivote se elija entre los elementos del medio del ordenado del arreglo.\n",
    "\n",
    "5. **Cálculo del Rango:**\n",
    "   - El rango de pivotes aceptables que producen una partición balanceada se puede derivar de la siguiente manera:\n",
    "     - Si tenemos $n$ elementos, los índices válidos para el pivote son de $\\alpha n + 1$ a $n - \\alpha n$.\n",
    "     - Esto da lugar a un total de $n(1 - 2\\alpha)$ índices válidos.\n",
    "\n",
    "6. **Cálculo de Probabilidad:**\n",
    "   - La probabilidad de seleccionar un pivote tal que la partición resultante sea balanceada (satisfaciendo nuestra condición) es aproximadamente el número de índices de pivote válidos dividido por el número total de elementos $n$:\n",
    "\n",
    "   $$\n",
    "   P(\\text{balanceada}) \\approx \\frac{n(1 - 2\\alpha)}{n} = 1 - 2\\alpha\n",
    "   $$\n",
    "\n",
    "\n",
    "Combinando el razonamiento anterior, concluimos que la probabilidad de que el algoritmo PARTITION produzca una división al menos tan balanceada como $1 - \\alpha$ a $\\alpha$ es aproximadamente:\n",
    "\n",
    "$$\n",
    "P(\\text{balanceada}) \\approx 1 - 2\\alpha^2\n",
    "$$\n",
    "\n",
    "Por lo tanto, para cualquier constante $0 < \\alpha \\leq \\frac{1}{2}$, la probabilidad de que PARTITION produzca una división al menos tan balanceada como $1 - \\alpha$ a $\\alpha$ es aproximadamente $1 - 2\\alpha^2$.\n"
   ]
  },
  {
   "cell_type": "code",
   "execution_count": null,
   "id": "33a7990d-b242-4555-93d3-ac396a1ede9b",
   "metadata": {},
   "outputs": [],
   "source": []
  },
  {
   "cell_type": "code",
   "execution_count": null,
   "id": "98bcf7f1-25df-4b78-844c-0ac434541a9d",
   "metadata": {},
   "outputs": [],
   "source": []
  }
 ],
 "metadata": {
  "kernelspec": {
   "display_name": "Julia 1.10.5",
   "language": "julia",
   "name": "julia-1.10"
  },
  "language_info": {
   "file_extension": ".jl",
   "mimetype": "application/julia",
   "name": "julia",
   "version": "1.10.5"
  }
 },
 "nbformat": 4,
 "nbformat_minor": 5
}
