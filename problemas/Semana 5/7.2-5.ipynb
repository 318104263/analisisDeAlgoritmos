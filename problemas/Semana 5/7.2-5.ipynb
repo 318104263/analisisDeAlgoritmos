{
 "cells": [
  {
   "cell_type": "markdown",
   "id": "10f4d4db-0d62-4ad8-b2c2-5ea6bbcd9ef9",
   "metadata": {},
   "source": [
    "## Enunciado"
   ]
  },
  {
   "cell_type": "markdown",
   "id": "e614c1f3-0699-493d-bdd2-d4f9232a348b",
   "metadata": {},
   "source": [
    "Suponga que se hacen divisiones en cada nivel de QUICKSORT en una proporción constante $\\alpha$ a $\\beta$, donde $\\alpha + \\beta = 1$ y $0 < \\alpha \\leq \\beta < 1$. Muestra que la profundidad mínima de una hoja en el árbol de recursión es aproximadamente $\\log_{1/\\alpha}n$ y que la máxima profundidad es aproximadamente $\\log_{1/\\beta}n$. (No te preocupes por el redondeo de enteros.)"
   ]
  },
  {
   "cell_type": "markdown",
   "id": "ae33991e-be0a-4eee-b6d4-99c965b6661e",
   "metadata": {},
   "source": [
    "## Solución"
   ]
  },
  {
   "cell_type": "markdown",
   "id": "bda09a54-a707-4b28-b6b7-d3203f694964",
   "metadata": {},
   "source": [
    "La partición se hace siempre en dos mitades, indiquémosla como $P_1=P_\\alpha+P_\\beta$, donde $P_1$ se refiere a la partición que tiene todos ($n$) los elementos, y $P_\\alpha$ es la partición que tiene $\\alpha n$ elementos. Dado que $\\alpha \\leq \\beta$, la partición que converge más rápido a un elemento y, por lo tanto, tiene la hoja a menor profundidad, cuando tomamos la partición que se realiza siempre tomando el lado de $\\alpha$. De forma análoga, la hoja de mayor profundidad es la que se hace siempre sobre el lado $\\beta$. En cuanto a la altura, se llega a la hoja cuando\n",
    "$$\n",
    "    \\alpha^k n= 1 \\implies n=\\left(\\frac{1}{\\alpha}\\right)^k \\implies \\log_{1/\\alpha}n = k\n",
    "$$\n",
    "Siguiendo esta misma lógica, podemos ver que la hoja de mayor profundidad está a la altura $\\log_{1/\\beta}n$."
   ]
  }
 ],
 "metadata": {
  "kernelspec": {
   "display_name": "Julia 1.10.5",
   "language": "julia",
   "name": "julia-1.10"
  },
  "language_info": {
   "file_extension": ".jl",
   "mimetype": "application/julia",
   "name": "julia",
   "version": "1.10.5"
  }
 },
 "nbformat": 4,
 "nbformat_minor": 5
}
