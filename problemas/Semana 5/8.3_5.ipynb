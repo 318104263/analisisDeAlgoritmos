{
 "cells": [
  {
   "cell_type": "markdown",
   "id": "b9b22082-da76-467d-a703-3c9519a5c7a0",
   "metadata": {},
   "source": [
    "## Enunciado \n",
    "\n",
    "Mostrar como ordenar n enteros en un rango de 0 a $n^3-1$ en tiempo $O(n)$"
   ]
  },
  {
   "cell_type": "markdown",
   "id": "8c6a8255-4183-4140-9f58-e3d2b60db331",
   "metadata": {},
   "source": [
    "## Solución \n",
    "\n",
    "Recorremos la lista de enteros y los convertimos a base n, ocupamos radix sort para ordenarlos. cada numero debe tener como máximo $log_n\\ n^3=3$ digitos por lo tanto, debemos pasar máximo 3 veces. Por casa pase hay n posibles valores que se pueden tomar, por lo que podemos usar count sort para ordenar cada digito en O(n)"
   ]
  }
 ],
 "metadata": {
  "kernelspec": {
   "display_name": "Julia 1.10.4",
   "language": "julia",
   "name": "julia-1.10"
  },
  "language_info": {
   "file_extension": ".jl",
   "mimetype": "application/julia",
   "name": "julia",
   "version": "1.10.4"
  }
 },
 "nbformat": 4,
 "nbformat_minor": 5
}
