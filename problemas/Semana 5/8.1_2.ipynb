{
 "cells": [
  {
   "cell_type": "markdown",
   "id": "da1c6035-db3d-44e1-a9d8-f220aff2b413",
   "metadata": {},
   "source": [
    "## Enunciado \n",
    "\n",
    "Obtener limites asintoticamente ajustados para $lg(n!)$ sin usar la aproximaxion de Stirlingh. En su lugar, evalúa la suma $$\\sum_{k=1}^n lg(k)$$ utilizando técnicas de la sección A.2"
   ]
  },
  {
   "cell_type": "markdown",
   "id": "6a036708-b63f-4fec-9364-e7817eb39631",
   "metadata": {},
   "source": [
    "## Solución \n",
    "\n",
    "Por propiedad de logaritmos sabemos que $$lg(n!) = \\sum_{k=1}^n lg(k)$$ \n",
    "\n",
    "Tenemos que para $a_i = log(i)$ se cumple que $a_i < log(a)$, por lo tanto \n",
    "\n",
    "$$\\sum_{k=1}^n lg(k) \\leq n\\ lg(n)$$\n",
    "\n",
    "Por otro lado \n",
    "$$\\sum_{k=1}^n lg(k) = \\sum_{k=1}^{n/2}lg(k) + \\sum_{n/2}^n lg(k)$$ \n",
    "$$\\geq \\sum_{k=1}^{n/2}1+\\sum_{k=n/2}^n lg(n/2)$$ \n",
    "$$ = \\frac{n}{2} + \\frac{n}{2} lg(n/2) $$ \n",
    "$$ = \\frac{n}{2} + \\frac{n}{2} \\left(lg(n)-lg(2) \\right) $$\n",
    "$$ = \\frac{n}{2} + \\frac{n}{2} \\left(lg(n)-1 \\right)$$\n",
    "$$ = \\frac{n}{2} + \\frac{n}{2}lg(n) - \\frac{n}{n}$$ \n",
    "$$ = \\frac{n}{2}lg(n)$$\n",
    "\n",
    "finalmente $lg(n!) = O(n\\ lg(n))$, $lg(n!) = \\Omega\\left(\\frac{n}{2}\\ lg(n)\\right)$"
   ]
  },
  {
   "cell_type": "markdown",
   "id": "dcff6375-4906-4218-86a9-a59fe63fcab4",
   "metadata": {},
   "source": []
  }
 ],
 "metadata": {
  "kernelspec": {
   "display_name": "Python 3 (ipykernel)",
   "language": "python",
   "name": "python3"
  },
  "language_info": {
   "codemirror_mode": {
    "name": "ipython",
    "version": 3
   },
   "file_extension": ".py",
   "mimetype": "text/x-python",
   "name": "python",
   "nbconvert_exporter": "python",
   "pygments_lexer": "ipython3",
   "version": "3.10.12"
  }
 },
 "nbformat": 4,
 "nbformat_minor": 5
}
