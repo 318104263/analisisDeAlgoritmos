{
 "cells": [
  {
   "cell_type": "markdown",
   "id": "19083ce0-f379-47c6-a666-86aa06b86c44",
   "metadata": {},
   "source": [
    "## Enunciado\n",
    "\n",
    "Dada una entrada de n elementos y sabemos de ante mano que esta parcialmente ordenada en el siguiente sentido. Cada elemento i que esta en la posición i, tal que $i\\ mod\\ 4 = 0$, ya esta en su posición correcta o está a un lugar de su posición correcta. Por ejemplo, sabemos que despues de oredera, el elemento de la posición 12 debe estar en la posición 11, 12 o 13. No tenemos información sobre los otros elementos, es decir aquellas posiciones i donde $i\\ mod\\ 4 \\neq 0$. Mostrar que una cota inferior de $\\Omega(n\\ lg(n))$ para la ordenación basada en comparaciones aun se mantiene en este caso. "
   ]
  },
  {
   "cell_type": "markdown",
   "id": "46caa6c9-fb21-47a3-b0f0-3005a814764d",
   "metadata": {},
   "source": [
    "## Solución "
   ]
  },
  {
   "cell_type": "markdown",
   "id": "43ebff77-c90f-44c3-b34e-1159b9dc39f3",
   "metadata": {},
   "source": [
    "En esta ocación tenemos $\\left(\\frac{3n}{4}\\right)!$ permutaciones, el arbol de desición esta dado por l hojas y un altura h, donde $\\left(\\frac{3n}{4}\\right)! \\leq l \\leq 2^h$, aplicando logaritmo base 2 ambos extremos tenemos $$lg\\left(\\frac{3n}{4}\\right)!\\leq h$$ \n",
    "\n",
    "Por lo tanto tenemos que $lg\\left( \\frac{3n}{4} \\right)! = \\Omega \\left( \\frac{3n}{4}  lg\\left( \\frac{3n}{4} \\right) \\right) = \\Omega \\left( \\frac{3n}{4}  (lg (3n) - lg(4)) \\right) =  \\Omega (n\\ lg (n) )$"
   ]
  },
  {
   "cell_type": "markdown",
   "id": "94913d50-eb68-44bf-a3dd-5f3352882aec",
   "metadata": {},
   "source": []
  }
 ],
 "metadata": {
  "kernelspec": {
   "display_name": "Julia 1.10.4",
   "language": "julia",
   "name": "julia-1.10"
  },
  "language_info": {
   "file_extension": ".jl",
   "mimetype": "application/julia",
   "name": "julia",
   "version": "1.10.4"
  }
 },
 "nbformat": 4,
 "nbformat_minor": 5
}
