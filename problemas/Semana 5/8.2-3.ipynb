{
 "cells": [
  {
   "cell_type": "markdown",
   "id": "75af5c64-fc1c-43e4-b4ee-da931d0aa4d8",
   "metadata": {},
   "source": [
    "# Enunciado\n",
    "Suponiendo que debemos reescribir el loop ```for`` en la linea 11 de ```COUNTING-SORT``` como\n",
    "\n",
    "```11   for j = 1 to n ```\n",
    "\n",
    "Muestra que el algoritmo sigue funcionando adecuadamente, pero que no es estable. Luego reescribe el pseudocódigo del algoritmo de tal forma que los elementos con el mismo valor sean escritos en en el arreglo de salida con el orden creciente en sus indices y que el algoritmo sea estable."
   ]
  },
  {
   "cell_type": "markdown",
   "id": "fa45cb37-3644-42ce-a54b-3070c552d683",
   "metadata": {},
   "source": [
    "# Solución\n",
    "Observa que la corrección del algoritmo no depende del orden en que se procesa el arreglo $A$. El algoritmo es correcto sin importar el orden en que se utilice. Sin embargo, al modificar el orden del bucle, el algoritmo deja de ser estable. Como en la versión original, en el último bucle for, un elemento con el mismo valor que otro tomado previamente de $A$ puede ser colocado antes que el original en el arreglo de salida $B$. En la versión original del algoritmo, era estable porque un elemento tomado más tarde de $A$ terminaba en una posición de índice más alto en $B$ que uno tomado antes. En el algoritmo modificado, un elemento tomado más tarde de $A$ puede acabar en una posición más baja. En particular, aunque el algoritmo sigue colocando los elementos con valor $k$ en las posiciones $C[k-1]+1$ a $C[k]$ lo hace en el orden inverso de su aparición en $A$.\n",
    "\n",
    "Pseudocódigo:\n",
    "```\n",
    "COUNTING-SORT(A, B, k)\n",
    "1  create C[0..k]\n",
    "2  for i = 0 to k\n",
    "3      C[i] = 0\n",
    "4  for j = 1 to n\n",
    "5      C[A[j]] = C[A[j]] + 1\n",
    "6  for i = 1 to k\n",
    "7      C[i] = C[i] + C[i - 1]\n",
    "8  for j = n down to 1       // Este bucle mantiene la estabilidad\n",
    "9      B[C[A[j]]] = A[j]\n",
    "10     C[A[j]] = C[A[j]] - 1\n",
    "```"
   ]
  }
 ],
 "metadata": {
  "kernelspec": {
   "display_name": "Julia 1.10.4",
   "language": "julia",
   "name": "julia-1.10"
  },
  "language_info": {
   "file_extension": ".jl",
   "mimetype": "application/julia",
   "name": "julia",
   "version": "1.10.4"
  }
 },
 "nbformat": 4,
 "nbformat_minor": 5
}
