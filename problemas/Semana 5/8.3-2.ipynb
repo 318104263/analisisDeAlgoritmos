{
 "cells": [
  {
   "cell_type": "markdown",
   "id": "6a5cb223-84d6-4dbd-9956-fc4cbffb69f6",
   "metadata": {},
   "source": [
    "Which of the following sorting algorithms are stable: insertion sort, merge sort,\n",
    "heapsort, and quicksort? Give a simple scheme that makes any comparison sort\n",
    "stable. How much additional time and space does your scheme entail?"
   ]
  },
  {
   "cell_type": "markdown",
   "id": "5c28007a-477a-429d-bce7-e19b4956c78c",
   "metadata": {},
   "source": [
    "### Estabilidad de los Algoritmos de Ordenación\n",
    "\n",
    "1. **Ordenación por Inserción (Insertion Sort)**: **Estable**\n",
    "   - La ordenación por inserción mantiene el orden relativo de los elementos iguales porque solo desplaza elementos cuando es necesario e inserta el nuevo elemento en la posición adecuada sin cambiar el orden de los elementos iguales.\n",
    "\n",
    "2. **Ordenación por Mezcla (Merge Sort)**: **Estable**\n",
    "   - La ordenación por mezcla es estable porque, al fusionar dos subarreglos ordenados, si dos elementos tienen la misma clave, siempre se elige primero el de la subarray izquierda, preservando su orden relativo.\n",
    "\n",
    "3. **Ordenación por Montículo (Heapsort)**: **No Estable**\n",
    "   - Heapsort no es estable porque el proceso de mover elementos hacia arriba y hacia abajo en el montículo puede cambiar el orden relativo de los elementos iguales.\n",
    "\n",
    "4. **Ordenación Rápida (Quicksort)**: **No Estable**\n",
    "   - Quicksort generalmente no es estable. El proceso de particionado puede reorganizar elementos iguales de manera que su orden relativo no se preserve.\n",
    "\n",
    "### Esquema para Hacer que un Algoritmo de Comparación sea Estable\n",
    "\n",
    "Un esquema común para hacer que cualquier algoritmo de comparación sea estable implica aumentar la información de los elementos que se están ordenando.\n",
    "\n",
    "#### Esquema Simple\n",
    "\n",
    "1. **Aumentar los Datos**:\n",
    "   - Modificar cada elemento para que sea un par ( (valor, índice_original) ), donde ( valor ) es el valor original y ( índice_original ) es el índice del elemento en el arreglo original.\n",
    "\n",
    "2. **Ordenación**:\n",
    "   - Ordenar el arreglo aumentado basado en el ( valor ). Si dos elementos tienen el mismo ( valor ), el algoritmo de ordenación naturalmente los ordenará por su ( índice_original ), preservando su orden.\n",
    "\n",
    "### Complejidad Adicional de Tiempo y Espacio\n",
    "\n",
    "1. **Complejidad de Tiempo**:\n",
    "   - El tiempo adicional requerido es típicamente ( $\\theta(n)$ ) para crear la estructura de datos aumentada (asociar cada elemento con su índice original). El paso de ordenación permanecerá en ( $\\theta$(n \\log n) ) para un algoritmo de ordenación basado en comparaciones. Así, la complejidad de tiempo general sigue siendo \\( O(n \\log n) \\).\n",
    "\n",
    "2. **Complejidad de Espacio**:\n",
    "   - El espacio adicional requerido es \\( O(n) \\) para el arreglo aumentado. Por lo tanto, si el algoritmo de ordenación original requiere \\( O(n) \\) de espacio, la complejidad de espacio general sigue siendo \\( O(n) \\).\n",
    "\n",
    "\n",
    "- **Algoritmos de Ordenación Estables**: La ordenación por inserción y la ordenación por mezcla son estables. Heapsort y Quicksort no son estables.\n",
    "- **Esquema de Estabilidad**: Aumentar los elementos con su índice original y ordenar basándose en el valor. Esto agrega \\( O(n) \\) de tiempo para la aumentación y \\( O(n) \\) de espacio para el arreglo aumentado, manteniendo la complejidad de tiempo de \\( O(n \\log n) \\) del proceso de ordenación.\n"
   ]
  },
  {
   "cell_type": "code",
   "execution_count": null,
   "id": "0c20da8e-eb34-4f04-b7fb-ec0704f1782c",
   "metadata": {},
   "outputs": [],
   "source": []
  }
 ],
 "metadata": {
  "kernelspec": {
   "display_name": "Julia 1.10.5",
   "language": "julia",
   "name": "julia-1.10"
  },
  "language_info": {
   "file_extension": ".jl",
   "mimetype": "application/julia",
   "name": "julia",
   "version": "1.10.5"
  }
 },
 "nbformat": 4,
 "nbformat_minor": 5
}
