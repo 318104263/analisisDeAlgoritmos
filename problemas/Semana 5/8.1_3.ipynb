{
 "cells": [
  {
   "cell_type": "markdown",
   "id": "9d44dfeb-3cff-4d96-b9f5-23df2f136eab",
   "metadata": {},
   "source": [
    "## Enunciado \n",
    "\n",
    "Demostrar que no hay un ordenamiento por comparasión cuyo tiempo de ejecución sea lineal para al menos la mitad de las $n!$ entradas de longitud n. ¿Qué sucede con una fracción de $\\frac{1}{n}$? de las entradas de longitud n? ¿Qué sucede con una fracción de $\\frac{1}{2^n}$?"
   ]
  },
  {
   "cell_type": "markdown",
   "id": "f676a1e3-d783-4b89-a76b-07cf6bf039f1",
   "metadata": {},
   "source": [
    "## Solución \n",
    "\n",
    "Sabemos que $\\frac{n!}{2}\\leq n! \\leq r \\leq 2^h$, donde r son las hojas alcanzables y h es la altura del arbol de desición ligado al algoritmo de ordenamiento para n entradas. Extrayendo ambos lados extremos de la desigualdad tenemos que $\\frac{n!}{2}\\leq 2^h$, aplicando logaritmo base 2 a ambos lados $$lg \\left( \\frac{n!}{2}\\right) \\leq lg(2^h)= lg(n!) - 1\\leq h$$ $$lg(n!) = \\Theta(n\\ lg n)$$ Esta ultima parte se ha demostrado en el ejericico 8.1-2. Por lo que al menos para la mitad de las entradas n! de longitud n no hay una ejecucion lineal \n",
    "\n",
    "Siguiendo la misma lógica para $\\frac{1}{n}$ tenemos $\\frac{n!}{n} \\leq 2^h$, por lo tanto $$lg\\left(\\frac{n!}{n}\\right) = lg(n!) - lg(n) \\leq h $$ \n",
    "Concluyendo en el mismo resultado\n",
    "\n",
    "Finalmente para $\\frac{n!}{2^n}$ tenemos $$lg\\left(\\frac{n!}{2^n}\\right) = lg(n!) - lg(2^n) = ln(n!) - n \\leq h $$ Donde mantenemos nuestro resultado"
   ]
  }
 ],
 "metadata": {
  "kernelspec": {
   "display_name": "Julia 1.10.4",
   "language": "julia",
   "name": "julia-1.10"
  },
  "language_info": {
   "file_extension": ".jl",
   "mimetype": "application/julia",
   "name": "julia",
   "version": "1.10.4"
  }
 },
 "nbformat": 4,
 "nbformat_minor": 5
}
