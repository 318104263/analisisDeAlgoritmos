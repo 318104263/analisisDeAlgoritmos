{
 "cells": [
  {
   "cell_type": "markdown",
   "id": "7703c7df-b6d9-4805-9ecf-9a2a7a6f4bfd",
   "metadata": {},
   "source": [
    "## Enunciado\n",
    "\n",
    "Demostar la siguiente bucle invariable para COUNTING-SORT:\n",
    "\n",
    "Al inicio de cada iteración en el bucle for de las lineas 11-13, el último elemento en A con valor i que aún no ha sido copiado en B pertenece a B[C[i]]\n",
    "\n"
   ]
  },
  {
   "cell_type": "markdown",
   "id": "8f410f1f-845b-46aa-9483-8aa157c1f48c",
   "metadata": {},
   "source": [
    "## Solución\n",
    "\n",
    "El bucle al que nos referimos, es el siguiente:\n",
    "```\n",
    "for j = n downto 1\n",
    "    B[C [A[j]]] = A[j]\n",
    "    C [A[j]] = C [A[j]] – 1\n",
    "```\n",
    "Antes de que comience el bucle, el arreglo  𝐶 ya ha sido procesado y contiene, para cada valor i, la posición en 𝐵 donde debe colocarse el último elemento con ese valor. Entonces, al iniciar el bucle con $𝑗 = 𝑛$ el arreglo 𝐵 aún no tiene ningún elemento copiado, y el último elemento de 𝐴 con valor 𝑖 debe colocarse en la posición 𝐶[𝑖]\n",
    "\n",
    "Condición inicial válida: Al inicio del bucle (cuando 𝑗=𝑛, la posición 𝐶[𝐴[𝑗]] es la correcta para el último elemento con valor 𝐴[𝑗] que no ha sido copiado en 𝐵.\n",
    "\n",
    "Durante cada iteración, el bucle hace lo siguiente: Copia el valor 𝐴[𝑗] en la posición 𝐶[𝐴[𝑗]] del arreglo 𝐵 luego, decrementa 𝐶[𝐴[𝑗]] en 1, lo que asegura que la próxima vez que encontremos un elemento con el mismo valor 𝐴[𝑗], lo colocaremos en la siguiente posición isponible. Después de colocar 𝐴[𝑗] en 𝐵[𝐶[𝐴[𝑗]]] y de decrementar 𝐶[𝐴[𝑗]], el próximo elemento con valor 𝐴[𝑗] se colocará en la nueva posición dada por 𝐶[𝐴[𝑗]]−1. Esto garantiza que el invariante siga siendo cierto para la siguiente iteración."
   ]
  },
  {
   "cell_type": "markdown",
   "id": "997f97ff-9b0b-4b24-881e-e130eabdefc5",
   "metadata": {},
   "source": []
  }
 ],
 "metadata": {
  "kernelspec": {
   "display_name": "Julia 1.10.4",
   "language": "julia",
   "name": "julia-1.10"
  },
  "language_info": {
   "file_extension": ".jl",
   "mimetype": "application/julia",
   "name": "julia",
   "version": "1.10.4"
  }
 },
 "nbformat": 4,
 "nbformat_minor": 5
}
