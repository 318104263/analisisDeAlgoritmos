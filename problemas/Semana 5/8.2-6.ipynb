{
 "cells": [
  {
   "cell_type": "markdown",
   "id": "37d00df5-1559-4b47-9847-1717ea953082",
   "metadata": {},
   "source": [
    "## Enunciado"
   ]
  },
  {
   "cell_type": "markdown",
   "id": "34548cba-b88a-4bef-a8fa-45690c88a3f6",
   "metadata": {},
   "source": [
    "Describe un algoritmo que, dados $n$ enteros en el rango de $0$ a $k$, preprocese la entrada y responda cualquier consulta sobre qué tantos de los $n$ enteros están en el rango $[a:b]$ en tiempo $O(1)$. El algoritmo debe tomar $\\Theta(n+k)$ de tiempo de preprocesamiento."
   ]
  },
  {
   "cell_type": "markdown",
   "id": "df45c67e-9363-4155-8873-25a90d9af60e",
   "metadata": {},
   "source": [
    "## Solución"
   ]
  },
  {
   "cell_type": "markdown",
   "id": "a3bb1640-2c01-4199-901d-fff4442d4480",
   "metadata": {},
   "source": [
    "Para esto se hará un algoritmo de preprocesamiento y luego el algoritmo de ejecución."
   ]
  },
  {
   "cell_type": "markdown",
   "id": "29233243-691a-48be-84e7-2eb1dffe6f9e",
   "metadata": {},
   "source": [
    "```\n",
    "CONTEO-PREPROCESO(A, n, k)\n",
    "    Crear un nuevo arreglo C[0:k]\n",
    "    for i = 0 hasta k\n",
    "        C[i] = 0\n",
    "    for j = 1 hasta n\n",
    "        C[A[j]] = C[A[j]] + 1\n",
    "    for i = 1 hasta k\n",
    "        C[i] = C[i] + C[i-1]\n",
    "    return C\n",
    "```"
   ]
  },
  {
   "cell_type": "markdown",
   "id": "7804215c-5591-4d70-84a1-8a4cad825d32",
   "metadata": {},
   "source": [
    "```\n",
    "CONTEO(A,n,k)\n",
    "    C = CONTEO-PREPROCESO(A,n,k)\n",
    "    while se quiera\n",
    "        Leer a\n",
    "        Leer b\n",
    "        Escribir C[b]-C[a]\n",
    "```"
   ]
  }
 ],
 "metadata": {
  "kernelspec": {
   "display_name": "Julia 1.10.5",
   "language": "julia",
   "name": "julia-1.10"
  },
  "language_info": {
   "file_extension": ".jl",
   "mimetype": "application/julia",
   "name": "julia",
   "version": "1.10.5"
  }
 },
 "nbformat": 4,
 "nbformat_minor": 5
}
