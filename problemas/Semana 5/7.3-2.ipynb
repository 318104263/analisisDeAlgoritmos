{
 "cells": [
  {
   "cell_type": "markdown",
   "id": "a5c0e1ec-5cf4-40a2-942d-65325fc785f2",
   "metadata": {},
   "source": [
    "When RANDOMIZED-QUICKSORT runs, how many calls are made to the random-\n",
    "number generator RANDOM in the worst case? How about in the best case? Give your answer in terms of $\\Theta$-notation."
   ]
  },
  {
   "cell_type": "markdown",
   "id": "9cc5a407-12b7-4726-a1d5-eb74ebcef867",
   "metadata": {},
   "source": [
    "## Solución"
   ]
  },
  {
   "cell_type": "markdown",
   "id": "08d39c63-4c0c-4c57-945d-da29634fe7ab",
   "metadata": {},
   "source": [
    "Para analizar el número de llamadas al generador de números aleatorios RANDOM durante la ejecución de RANDOMIZED-QUICKSORT, podemos considerar los escenarios de peor y mejor caso.\n",
    "Análisis del Peor Caso\n",
    "\n",
    "En el peor de los casos para RANDOMIZED-QUICKSORT, podemos suponer que la selección del pivote conduce a las particiones más desequilibradas posibles en cada nivel de recursión.\n",
    "     En cada llamada recursiva, RANDOMIZED-QUICKSORT invoca RANDOM una vez para seleccionar un pivote.\n",
    "    Si consideramos un arreglo de tamaño nn, en el peor caso, el pivote podría ser el elemento más pequeño o más grande. Esto resulta en que un lado de la partición esté vacío y el otro contenga $n-1$ elementos.\n",
    "    Este proceso continúa recursivamente, llevando a la siguiente secuencia de tamaños para las llamadas recursivas: $n,n−1,n−2,…,1$\n",
    "\n",
    "Por lo tanto, la profundidad de la recursión puede ser de hasta n en el peor caso, lo que resulta en: <br>\n",
    "                                        $T(n) = T(n-1) +1 $\n",
    "                                        \n",
    "Esto lleva a un total de nn llamadas a RANDOM. Por lo tanto, en el peor caso, el número de llamadas realizadas al generador de números aleatorios es $\\Theta(n)$\n",
    "                                        "
   ]
  },
  {
   "cell_type": "markdown",
   "id": "b46da478-6e6a-45a9-91e5-7477c0e9edb1",
   "metadata": {},
   "source": [
    "En el mejor de los casos para RANDOMIZED-QUICKSORT, la selección del pivote conduce a particiones perfectamente balanceadas en cada nivel de recursión.\n",
    "\n",
    "    En cada llamada recursiva, RANDOMIZED-QUICKSORT sigue invocando RANDOM una vez para seleccionar un pivote.\n",
    "    Si el pivote se elige de tal manera que divide el arreglo en dos mitades iguales, los tamaños de las llamadas recursivas se convierten en n/2n/2 y n/2n/2.\n",
    "    Esto resulta en una profundidad logarítmica de recursión, específicamente O(log⁡n)O(logn).\n",
    "\n",
    "Dado que RANDOM se llama una vez por cada llamada recursiva, y el número de llamadas recursivas corresponde a la altura del árbol de recursión, encontramos:\n",
    "T(n)=T(n/2)+1\n",
    "T(n)=T(n/2)+1\n",
    "\n",
    "Esto lleva a O(log⁡n)O(logn) llamadas a RANDOM.\n",
    "\n",
    "Por lo tanto, en el mejor caso, el número de llamadas realizadas al generador de números aleatorios es:\n",
    "Θ(log⁡n)\n",
    "Θ(logn)"
   ]
  },
  {
   "cell_type": "code",
   "execution_count": null,
   "id": "586bdb1d-93fd-4ba6-8d55-ab5992e213af",
   "metadata": {},
   "outputs": [],
   "source": []
  }
 ],
 "metadata": {
  "kernelspec": {
   "display_name": "Julia 1.10.5",
   "language": "julia",
   "name": "julia-1.10"
  },
  "language_info": {
   "file_extension": ".jl",
   "mimetype": "application/julia",
   "name": "julia",
   "version": "1.10.5"
  }
 },
 "nbformat": 4,
 "nbformat_minor": 5
}
