{
 "cells": [
  {
   "cell_type": "markdown",
   "id": "00c7ffc1-cbc0-4b04-8192-38246b5d983f",
   "metadata": {},
   "source": [
    "## Enunciado"
   ]
  },
  {
   "cell_type": "markdown",
   "id": "b04cd471-5770-4851-adf5-02bf247311f2",
   "metadata": {},
   "source": [
    "COUNTING-SORT también puede funcionar eficientemente si los valores de entrada tienen partes fraccionarias, pero el número de dígitos en la parte fraccionaria es pequeño. Suponga que se le dan $n$ números en el rango de $0$ a $k$, cada uno con a lo mucho $d$ dígitos decimales (base 10) a la derecha del punto decimal. Modifica COUNTING-SORT para correr en $\\Theta(n+10^dk)$ tiempo."
   ]
  },
  {
   "cell_type": "markdown",
   "id": "f7b8fc8e-24b3-486a-8c73-17706dddde7d",
   "metadata": {},
   "source": [
    "## Solución"
   ]
  },
  {
   "cell_type": "markdown",
   "id": "d13438c6-b80c-4992-ad50-cb49b91ac362",
   "metadata": {},
   "source": [
    "```\n",
    "COUNTING-SORT-DECIMAL(A,n,k,d)\n",
    "    Crear nuevos arreglos B[1:n] y C[0:10ᵈk]\n",
    "    for i=0 hasta 10ᵈk\n",
    "        C[i]=0\n",
    "    for j=1 hasta n\n",
    "        C[A[j]] = C[A[j]] + 1\n",
    "    for i=1 hasta 10ᵈk\n",
    "        C[i] = C[i] + C[i-1]\n",
    "    for j=n hasta 1 hacia abajo\n",
    "        B[C[A[j]]] = A[j]\n",
    "        C[A[j]] = C[A[j]] + 1\n",
    "    return B\n",
    "```"
   ]
  },
  {
   "cell_type": "markdown",
   "id": "52179dc8-d344-4a31-ab14-615d78657997",
   "metadata": {},
   "source": [
    "Es prácticamente el mismo algoritmo, solo se aumentó el tamaño del arreglo $C$ y el tiempo de los ciclos que lo recorren a su vez. No es muy difícil notar, en consecuencia, que su tiempo de ejecución es $\\Theta(n+10^dk)$."
   ]
  }
 ],
 "metadata": {
  "kernelspec": {
   "display_name": "Julia 1.10.5",
   "language": "julia",
   "name": "julia-1.10"
  },
  "language_info": {
   "file_extension": ".jl",
   "mimetype": "application/julia",
   "name": "julia",
   "version": "1.10.5"
  }
 },
 "nbformat": 4,
 "nbformat_minor": 5
}
