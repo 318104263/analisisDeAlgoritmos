{
 "cells": [
  {
   "cell_type": "markdown",
   "id": "ad418a76-0d2d-4bec-946a-b9d24c0eb85b",
   "metadata": {},
   "source": [
    "## Enunciado"
   ]
  },
  {
   "cell_type": "markdown",
   "id": "580deec4-ec8e-4489-9629-87a40f91786a",
   "metadata": {},
   "source": [
    "¿Cuál es el tiempo de ejecución de QUICKSORT cuando todos los elementos del arreglo $A$ tienen el mismo valor?"
   ]
  },
  {
   "cell_type": "markdown",
   "id": "ae8023ff-f429-4b31-9f77-fe4dc5685e8b",
   "metadata": {},
   "source": [
    "## Solución"
   ]
  },
  {
   "cell_type": "markdown",
   "id": "55717a6d-8c0e-4a18-9002-6df2c7c61508",
   "metadata": {},
   "source": [
    "Que todos los elementos sean iguales es el peor tiempo posible para QUICKSORT. Se recorre el arreglo en PARTITION con tiempo $\\Theta(n)$, el índice devuelto $q$ es el valor $r$, que hace un arreglo de tamaño 0 a la derecha y uno de tamaño $n-1$ a la izquierda. Este proceso se repite en cada partición realizada, dando un tiempo de ejecución de\n",
    "$$\n",
    "    n + n-1 + n-2 + \\dots + 2 = \\frac{n(n+1)}{2}-1=\\Theta(n^2)\n",
    "$$\n",
    "Por lo que el tiempo de ejecución es $\\Theta(n^2)$"
   ]
  }
 ],
 "metadata": {
  "kernelspec": {
   "display_name": "Julia 1.10.5",
   "language": "julia",
   "name": "julia-1.10"
  },
  "language_info": {
   "file_extension": ".jl",
   "mimetype": "application/julia",
   "name": "julia",
   "version": "1.10.5"
  }
 },
 "nbformat": 4,
 "nbformat_minor": 5
}
