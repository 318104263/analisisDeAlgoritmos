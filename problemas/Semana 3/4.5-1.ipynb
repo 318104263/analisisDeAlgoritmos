{
 "cells": [
  {
   "cell_type": "markdown",
   "id": "201fc8e2-8b34-4e7e-aeba-e0a331e1bcf8",
   "metadata": {},
   "source": [
    "# Enunciado\n",
    "Usa el método maestro para proporcionar límites asintóticos estrechos para las siguientes recurrencias."
   ]
  },
  {
   "cell_type": "markdown",
   "id": "4359ebae-6767-44cd-90d2-1e5899a1d80e",
   "metadata": {},
   "source": [
    "# Solución"
   ]
  },
  {
   "cell_type": "markdown",
   "id": "9428b249-3d33-4437-976e-9f25951d6422",
   "metadata": {},
   "source": [
    "## a. $T(n)=2T(n/4)+1$\n",
    "Identificamos $a=2$, $b=4$, $f(n)=1$. Calculamos $\\log_ba=\\log_24=1/2$.\n",
    "\\begin{align*}\n",
    " f(n) & \\text{ vs. } n^{\\log_ba} \\\\\n",
    " 1  & \\text{ vs. } n^{1/2}\\\\\n",
    "n^{1/2} &< 1\\\\\n",
    "\\therefore f(n) &= O(n^{\\log_ba})\n",
    "\\end{align*}\n",
    "Por tanto puede tratarse del caso 1. Para verficarlo tomamos $\\epsilon = 0.1$, entonces:\n",
    "$$\n",
    "1 = O(n^{0.5-\\epsilon}) = O(n^{0.4})\n",
    "$$\n",
    "Vemos que sí se cumple la condición para el caso 1, por lo que $T(n)=\\Theta(n^{\\log_ba})=\\Theta(n^{1/2})$.\n"
   ]
  },
  {
   "cell_type": "markdown",
   "id": "04f77977-66c6-4152-b90d-9e8db750c505",
   "metadata": {},
   "source": [
    "## b. $T(n)=2T(n/4)+\\sqrt{n}$\n",
    "Identificamos $a=2$, $b=4$, $f(n)=\\sqrt{n}$. Calculamos $\\log_b{a}=\\log_2{4}=1/2$.\n",
    "\\begin{align*}\n",
    " f(n)  & \\text{ vs. } n^{\\log_ba}\\\\\n",
    " \\sqrt{n} & \\text{ vs. } n^{1/2}  \\\\\n",
    " \\sqrt{n} & = \\sqrt{n} \\\\\n",
    "\\therefore f(n) &= \\Theta(\\sqrt{n})\n",
    "\\end{align*}\n",
    "Por tanto se trata del caso 2, por lo que $T(n)=\\Theta(\\sqrt{n}\\log{n})$."
   ]
  },
  {
   "cell_type": "markdown",
   "id": "beff3529-647e-45c3-8f1a-0d67aea5552d",
   "metadata": {},
   "source": [
    "## c. $T(n)=2T(n/4)+\\sqrt{n}\\log^2{n}$\n",
    "Identificamos $a=2$, $b=4$, $f(n)=\\sqrt{n}\\log^2{n}$. Calculamos $\\log_4{2}=1/2$.\n",
    "\n",
    "\\begin{align*}\n",
    " f(n)  & \\text{ vs. } n^{\\log_ba}\\log^k{n} \\text{, para }k=2\\\\\n",
    " \\sqrt{n}\\log^2{n} & \\text{ vs. } n^{1/2}\\log^2{n}  \\\\\n",
    " \\sqrt{n}\\log^2{n} & = \\sqrt{n}\\log^2{n} \\\\\n",
    "\\therefore f(n) &= \\Theta(\\sqrt{n}\\log^2{n})\n",
    "\\end{align*}\n",
    "Por tanto se trata del caso 2, por lo que $T(n)=\\sqrt{n}\\log^{k+1}{n}=\\sqrt{n}\\log^3{n}$"
   ]
  },
  {
   "cell_type": "markdown",
   "id": "1f6245eb-86c4-4d4c-82ba-d4cb95fc6ab6",
   "metadata": {},
   "source": [
    "## d. $T(n)=2T(n/4)+n$\n",
    "Identificamos $a=2$, $b=4$, $f(n)=n$. Calculamos $\\log_ba=\\log_24=1/2$.\n",
    "\\begin{align*}\n",
    " f(n) & \\text{ vs. } n^{\\log_ba} \\\\\n",
    " n  & \\text{ vs. } n^{1/2}\\\\\n",
    " n & > \\sqrt{n}\\\\\n",
    "\\therefore f(n) &= \\Omega(n^{\\log_ba})\n",
    "\\end{align*}\n",
    "Por tanto puede tratarse del caso 3. Para verficarlo tomamos $\\epsilon = 0.1$, entonces:\n",
    "$$\n",
    "n = \\Omega(n^{0.5+\\epsilon}) = \\Omega(n^{0.6})\n",
    "$$\n",
    "Además:\n",
    "\\begin{align*}\n",
    "af(n/b) & \\text{ vs. } cf(n)\\\\\n",
    "2(n/4) & \\text{ vs. } cn\\\\\n",
    "\\frac{1}{2}n & \\leq cn \\text{, para }c=\\frac{1}{2}<1\n",
    "\\end{align*}\n",
    "Vemos que sí se cumplen las condiciones para el caso 3, por lo que $T(n)=\\Theta(f(n))=\\Theta(n)$."
   ]
  },
  {
   "cell_type": "markdown",
   "id": "b3182850-99c6-4ceb-bad2-7ac1acaeeffe",
   "metadata": {},
   "source": [
    "## e. $T(n)=2T(n/4)+n^2$\n",
    "Identificamos $a=2$, $b=4$, $f(n)=n$. Calculamos $\\log_ba=\\log_24=1/2$.\n",
    "\\begin{align*}\n",
    " f(n) & \\text{ vs. } n^{\\log_ba} \\\\\n",
    " n^2  & \\text{ vs. } n^{1/2}\\\\\n",
    " n^2 & > \\sqrt{n}\\\\\n",
    "\\therefore f(n) &= \\Omega(n^{\\log_ba})\n",
    "\\end{align*}\n",
    "Por tanto puede tratarse del caso 3. Para verficarlo tomamos $\\epsilon = 0.1$, entonces:\n",
    "$$\n",
    "n^2 = \\Omega(n^{0.5+\\epsilon}) = \\Omega(n^{0.6})\n",
    "$$\n",
    "Además:\n",
    "\\begin{align*}\n",
    "af(n/b) & \\text{ vs. } cf(n)\\\\\n",
    "2(n/4)^2 & \\text{ vs. } cn^2\\\\\n",
    "\\frac{1}{8}n^2 & \\leq cn^2 \\text{, para }c=\\frac{1}{8}<1\n",
    "\\end{align*}\n",
    "Vemos que sí se cumplen las condiciones para el caso 3, por lo que $T(n)=\\Theta(f(n))=\\Theta(n^2)$."
   ]
  }
 ],
 "metadata": {
  "kernelspec": {
   "display_name": "Julia 1.10.4",
   "language": "julia",
   "name": "julia-1.10"
  },
  "language_info": {
   "file_extension": ".jl",
   "mimetype": "application/julia",
   "name": "julia",
   "version": "1.10.4"
  }
 },
 "nbformat": 4,
 "nbformat_minor": 5
}
