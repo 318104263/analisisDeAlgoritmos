{
 "cells": [
  {
   "cell_type": "markdown",
   "id": "c6feb6a0-beac-4521-b958-93369e5fac1c",
   "metadata": {},
   "source": [
    "Use the substitution method to prove that recurrence (4.14) has the solution T(n) = $ \\Omega(n lg n) $. Conclude that T(n) = $ \\Theta(n lg n)$"
   ]
  },
  {
   "cell_type": "markdown",
   "id": "c11001b6-f40a-40e2-b06a-063c6eac8dc8",
   "metadata": {},
   "source": [
    "T(n) = T($ \\frac{n}{3}) + T(\\frac{2n}{3}) + \\Theta(n)$"
   ]
  },
  {
   "cell_type": "markdown",
   "id": "e951116f-df91-4733-b160-b00e3c9082c6",
   "metadata": {},
   "source": [
    "\n",
    "\n",
    "Queremos probar que la recurrencia:\n",
    "\n",
    "    T(n) = T(n / 3) + T(2n / 3) + Θ(n)\n",
    "\n",
    "tiene la solución T(n) = Ω(n log n), y luego concluir que T(n) = Θ(n log n).\n",
    "\n",
    "\n",
    "Suponemos que T(n) = Ω(n log n), por lo que vamos a intentar con T(n) = c * n * log(n), donde c es una constante.\n",
    "\n",
    "\n",
    "\n",
    "Sustituimos T(n) = c * n * log(n) en la recurrencia:\n",
    "\n",
    "    T(n) = T(n / 3) + T(2n / 3) + Θ(n)\n",
    "\n",
    "Para los dos términos en el lado derecho, sustituimos:\n",
    "\n",
    "    T(n / 3) = (c * n / 3) * log(n / 3) = (c * n / 3) * (log(n) - log(3))\n",
    "    T(2n / 3) = (c * 2n / 3) * log(2n / 3) = (c * 2n / 3) * (log(n) - log(3 / 2))\n",
    "\n",
    "Sumamos los dos términos:\n",
    "\n",
    "    T(n / 3) + T(2n / 3) = (c * n / 3) * (log(n) - log(3)) + (c * 2n / 3) * (log(n) - log(3 / 2))\n",
    "\n",
    "Simplificando:\n",
    "\n",
    "    = c * n * log(n) - (c * n / 3) * log(3) - (c * 2n / 3) * log(3 / 2)\n",
    "\n",
    "Entonces, la recurrencia se convierte en:\n",
    "\n",
    "    T(n) = c * n * log(n) - (c * n / 3) * log(3) - (c * 2n / 3) * log(3 / 2) + Θ(n)\n",
    "\n",
    "\n",
    "\n",
    "El término dominante en el lado derecho es c * n * log(n), mientras que los otros términos son de orden inferior. El término Θ(n) también es de orden inferior en comparación con n log(n).\n",
    "\n",
    "Por lo tanto, hemos demostrado que:\n",
    "\n",
    "    T(n) ≤ c * n * log(n)\n",
    "\n",
    "Esto prueba que T(n) = O(n * log(n)).\n",
    "\n",
    "\n",
    "Para probar que T(n) = Ω(n log n), asumimos que T(n) ≥ c * n * log(n) y seguimos un argumento similar al anterior. La clave es que la recurrencia se comporta de manera similar en cada paso, y el término Θ(n) asegura que la tasa de crecimiento es al menos n log(n).\n",
    "\n",
    "\n",
    "Combinando las cotas superior e inferior, concluimos que:\n",
    "\n",
    "    T(n) = Θ(n * log(n))\n"
   ]
  },
  {
   "cell_type": "code",
   "execution_count": null,
   "id": "6515c3d2-bbc6-4f95-9993-426152785a16",
   "metadata": {},
   "outputs": [],
   "source": []
  }
 ],
 "metadata": {
  "kernelspec": {
   "display_name": "Julia 1.10.5",
   "language": "julia",
   "name": "julia-1.10"
  },
  "language_info": {
   "file_extension": ".jl",
   "mimetype": "application/julia",
   "name": "julia",
   "version": "1.10.5"
  }
 },
 "nbformat": 4,
 "nbformat_minor": 5
}
