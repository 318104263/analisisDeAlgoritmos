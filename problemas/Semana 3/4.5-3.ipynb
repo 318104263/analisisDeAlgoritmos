{
 "cells": [
  {
   "cell_type": "markdown",
   "id": "eda0dde8-5e5c-43d5-8480-fab458e45ee6",
   "metadata": {},
   "source": [
    "# Enunciado\n",
    "Utilizando el método maestro, miestra que la solución de la recurrencia de la búsqueda binaria $T(n)=T(n/2)+\\Theta(1)$ es $T(n)=\\Theta(\\lg{n})$."
   ]
  },
  {
   "cell_type": "markdown",
   "id": "75d14517-05dd-4a88-932a-f84bdf3aef41",
   "metadata": {},
   "source": [
    "# Solución\n",
    "\n",
    "### Forma estándar de la recurrencia:\n",
    "\n",
    "La recurrencia tiene la forma general:\n",
    "\n",
    "$$\n",
    "T(n) = aT\\left(\\frac{n}{b}\\right) + f(n)\n",
    "$$\n",
    "\n",
    "Comparando $ T(n) = T(n/2) + \\Theta(1) $ con esta forma, obtenemos:\n",
    "- $ a = 1 $ (ya que hay una sola llamada recursiva)\n",
    "- $ b = 2 $ (ya que el tamaño del subproblema es $ n/2 $)\n",
    "- $ f(n) = \\Theta(1) $\n",
    "\n",
    "Ahora aplicamos el método maestro, que depende de la relación entre $ f(n) $ y $ n^{\\log_b{a}} $.\n",
    "\n",
    "### Paso 1: Calcular $ \\log_b{a} $\n",
    "\n",
    "$$\n",
    "\\log_b{a} = \\log_2{1} = 0\n",
    "$$\n",
    "\n",
    "### Paso 2: Comparar $ f(n) = \\Theta(1) $ con $ n^{\\log_b{a}} = n^0 = 1 $\n",
    "\n",
    "Tenemos tres casos posibles en el método maestro:\n",
    "\n",
    "1. **Si $ f(n) = O(n^{\\log_b{a} - \\epsilon}) $ para alguna $ \\epsilon > 0 $:**\n",
    "   - El tiempo de ejecución es $ T(n) = \\Theta(n^{\\log_b{a}}) $.\n",
    "   \n",
    "2. **Si $ f(n) = \\Theta(n^{\\log_b{a}}) $:**\n",
    "   - El tiempo de ejecución es $ T(n) = \\Theta(n^{\\log_b{a}} \\log n) $.\n",
    "   \n",
    "3. **Si $ f(n) = \\Omega(n^{\\log_b{a} + \\epsilon}) $ para alguna $ \\epsilon > 0 $:**\n",
    "   - El tiempo de ejecución es $ T(n) = \\Theta(f(n)) $, siempre que se cumpla la condición del caso 3 del método maestro.\n",
    "\n",
    "### Paso 3: Aplicar el caso correspondiente\n",
    "\n",
    "En este caso, $ f(n) = \\Theta(1) $ y $ n^{\\log_b{a}} = n^0 = 1 $, lo que nos lleva al **caso 2** del método maestro, ya que $ f(n) = \\Theta(n^{\\log_b{a}}) $.\n",
    "\n",
    "Por lo tanto, el tiempo de ejecución es:\n",
    "\n",
    "$$\n",
    "T(n) = \\Theta(n^0 \\log n) = \\Theta(\\log n)\n",
    "$$\n",
    "\n",
    "### Conclusión\n",
    "\n",
    "La solución de la recurrencia $ T(n) = T(n/2) + \\Theta(1) $ es $ T(n) = \\Theta(\\log n) $.\n",
    "\n",
    "Este resultado concuerda con lo que esperamos de la búsqueda binaria, ya que en cada paso se reduce el tamaño del problema a la mitad, lo que implica un crecimiento logarítmico en el tiempo de ejecución."
   ]
  }
 ],
 "metadata": {
  "kernelspec": {
   "display_name": "Julia 1.10.4",
   "language": "julia",
   "name": "julia-1.10"
  },
  "language_info": {
   "file_extension": ".jl",
   "mimetype": "application/julia",
   "name": "julia",
   "version": "1.10.4"
  }
 },
 "nbformat": 4,
 "nbformat_minor": 5
}
