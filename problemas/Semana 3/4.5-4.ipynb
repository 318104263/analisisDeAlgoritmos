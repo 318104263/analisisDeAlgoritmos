{
 "cells": [
  {
   "cell_type": "markdown",
   "id": "70b68436-d8f2-4961-b0b5-9b886ae7a78f",
   "metadata": {},
   "source": [
    "## Enunciado\n",
    "\n",
    "Considera la función $f(n)=lg\\ n$. Argumenta que aunque $f(n/2)<f(n)$, la condición de regularidad $af(n/b)\\leq cf(n)$ con a=1 y b=2 no se cumple para ninguna constante $c<1$. Argumenta ademas que para cualquier $\\epsilon > 0$, la condición en el caso 3 de que $f(n)=\\Omega (n^{log_b a+\\epsilon})$ no se cumple"
   ]
  },
  {
   "cell_type": "markdown",
   "id": "ff906a10-f1bd-45f7-86af-a3e9cebe1957",
   "metadata": {},
   "source": [
    "## Solución\n",
    "\n",
    "Tenemos $lg(n/2) = lg(n)-lg(2) = lg(n)-1$. \\\n",
    "La desigualdad se convierte en \\\n",
    "$lg(n)-1\\leq c\\ lg(n)$ \\\n",
    "$lg(n)-c\\ lg(n)\\leq 1$ \\\n",
    "$lg(n)(1-c)\\leq 1$ \n",
    "\n",
    "Aunque la función lg(n) crece muy lentamente, puede existir un número lo suficientementen grande que donde lg(n)(1-c) sea mayor a 1\n",
    "\n",
    "Por otro lado $f(n)=\\Omega (n^{log_b a+\\epsilon})$ lo reescribimos como $f(n)=\\Omega (n^{log_2 1+\\epsilon})=\\Omega (n^{\\epsilon})$, esto implica que $lg(n) = \\Omega(n^\\epsilon)$, pero esto no puede ser cierto ya que $lg(n)$ crece mucho más lentamente que cualquier pootencia positiva de n."
   ]
  },
  {
   "cell_type": "markdown",
   "id": "85153bf3-ed0d-45ad-9b18-fbffc0a4e503",
   "metadata": {},
   "source": []
  }
 ],
 "metadata": {
  "kernelspec": {
   "display_name": "Julia 1.10.4",
   "language": "julia",
   "name": "julia-1.10"
  },
  "language_info": {
   "file_extension": ".jl",
   "mimetype": "application/julia",
   "name": "julia",
   "version": "1.10.4"
  }
 },
 "nbformat": 4,
 "nbformat_minor": 5
}
