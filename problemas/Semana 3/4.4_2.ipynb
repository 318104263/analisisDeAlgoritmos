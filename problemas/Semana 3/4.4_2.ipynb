{
 "cells": [
  {
   "cell_type": "markdown",
   "id": "a5395b5d-f31b-4340-be55-fc039f97851a",
   "metadata": {},
   "source": [
    "## Enunciado"
   ]
  },
  {
   "cell_type": "markdown",
   "id": "b3b2114f-acd9-4ef6-8c17-3f1c7ccb4b92",
   "metadata": {},
   "source": [
    "Usa el método de sustitución para probar que la recurrencia (4.15) tiene la cota asintótica inferior $L(n)=\\Omega(n)$. Concluye que $L(n)=\\Theta(n)$."
   ]
  },
  {
   "cell_type": "markdown",
   "id": "4daf815d-375f-4ec8-8f11-c5e5e9f5cc11",
   "metadata": {},
   "source": [
    "$$L(n)\\begin{cases}1 &&, n<n_0\\\\L(\\frac{n}{3})+L(\\frac{2n}{3})&&,n\\geq n_0\\end{cases}$$"
   ]
  },
  {
   "cell_type": "markdown",
   "id": "9ad0f322-3dc3-478a-ba01-9a9b7130f4e2",
   "metadata": {},
   "source": [
    "## Solución"
   ]
  },
  {
   "cell_type": "markdown",
   "id": "bb59f65f-2652-4c31-aec2-d312ee0889c4",
   "metadata": {},
   "source": [
    "Para demostrarla, lo tomaremos por casos. Primero recordemos que $L(n)=\\Omega(n)$ significa que existe algún $d>0$ y $n_\\emptyset$ tal que $L(n)\\geq dn,\\quad \\forall n\\geq n_\\emptyset$"
   ]
  },
  {
   "cell_type": "markdown",
   "id": "8033996f-7875-49c6-bc04-eb51aa67e437",
   "metadata": {},
   "source": [
    "Para $n<n_0$, por definición $L(n)=1$, por lo que $d=\\frac{1}{n_0}$ es una cota suficiente, pues\n",
    "$$1\\leq n<n_0 \\implies \\frac{1}{n_0}<1=L(n)$$"
   ]
  },
  {
   "cell_type": "markdown",
   "id": "0350cdc0-dd74-4640-8ad4-6595fe8010b5",
   "metadata": {},
   "source": [
    "Para $n\\geq n_0$, se demostrará por inducción sobre $n$. Con el caso inicial: $n=n_0$, usamos $d=n_0$, por lo que\n",
    "\n",
    "$$L(n_0)=L(\\frac{n_0}{3})+L(\\frac{2n_0}{3})=1+1=2>1>\\frac{1}{n_0}$$"
   ]
  },
  {
   "cell_type": "markdown",
   "id": "75df8d27-d7cf-49c8-be02-757a08a3a3b3",
   "metadata": {},
   "source": [
    "Supongamos que para todo $k<n$ se cumple que $L(k)\\geq \\frac{k}{n_0}$. Entonces para $n$:"
   ]
  },
  {
   "cell_type": "markdown",
   "id": "834be25f-6380-40c4-ad11-1a5f6a08e56b",
   "metadata": {},
   "source": [
    "$$\n",
    "    \\begin{equation}\\begin{split}\n",
    "        L(n) & =L(\\frac{n}{3})+L(\\frac{2n}{3})\\\\\n",
    "             & \\geq \\frac{n}{3n_0} + \\frac{2n}{3n_0}\\\\\n",
    "             & \\geq \\frac{n}{n_0}\n",
    "    \\end{split}\\end{equation}\n",
    "$$"
   ]
  },
  {
   "cell_type": "markdown",
   "id": "913144a7-5278-4217-80bb-bf483fdfc87a",
   "metadata": {},
   "source": [
    "$\\therefore L(n)=\\Omega(n)$, y por lo realizado en el libro, $L(n)=\\Theta(n)$"
   ]
  }
 ],
 "metadata": {
  "kernelspec": {
   "display_name": "Julia 1.10.5",
   "language": "julia",
   "name": "julia-1.10"
  },
  "language_info": {
   "file_extension": ".jl",
   "mimetype": "application/julia",
   "name": "julia",
   "version": "1.10.5"
  }
 },
 "nbformat": 4,
 "nbformat_minor": 5
}
