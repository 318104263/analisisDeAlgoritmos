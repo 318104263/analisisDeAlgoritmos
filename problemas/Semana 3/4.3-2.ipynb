{
 "cells": [
  {
   "cell_type": "markdown",
   "id": "ad4d40fe-f5ee-415a-88cf-dff60fc011c4",
   "metadata": {},
   "source": [
    "# Enunciado \n",
    "La solución de la recurrencia $T(n)=4T(n/2)+n$ es $T(n)=\\Theta(n^2)$. Muestra que una prueba de sustitución considerando $T(n) \\leq cn^2$ fallaría. Luego muestra que sustraer un término de menor orden al hacer una prueba de sustitución sí funcionaría. "
   ]
  },
  {
   "cell_type": "markdown",
   "id": "8141678f-2f7f-40e0-ada7-b4b86e55b3e2",
   "metadata": {},
   "source": [
    "# Solución\n",
    "1. Muestra que una prueba de sustitución considerando $T(n) \\leq cn^2$ fallaría.\n",
    "\n",
    "Tenemos que $T(n/2) \\leq c(n/2)^2$. Por tanto:\n",
    "\n",
    "$$\n",
    "\\begin{align*}\n",
    "T(n)&=4T(n/2)+n\\\\\n",
    "& \\leq 4(c(n/2)^2)+n \\\\\n",
    "& = (4/2^2)cn^2+n\\\\\n",
    "& = cn^2 + n\n",
    "\\end{align*}\n",
    "$$\n",
    "\n",
    "$\\therefore T(n) \\leq cn^2+n$, pero esto contradice la hipótesis $T(n) \\leq cn^2$, por tanto no se puede realizar la sustitución de esta forma.\n",
    "\n",
    "2. Muestra que sustraer un término de orden menor para hacer la prueba de sustitución sí funcionaría.\n",
    "\n",
    "Tomaremos $dn$ como el término de orden menor, donde $d\\geq0$ es constante. Realizaremos la prueba de sustitución considerando $T(n) \\leq cn^2 - dn$. Así, tenemos que $T(n/2)=c(n/2)^2 - d(n/2)$.\n",
    "\n",
    "$$\n",
    "\\begin{align*}\n",
    "T(n)&=4T(n/2)+n\\\\\n",
    "& \\leq 4(c(n/2)^2 - d(n/2))+n\\\\\n",
    "& = cn^2-2dn+n\\\\\n",
    "& = cn^2+(1-2d)n\\\\\n",
    "& \\leq cn^2\n",
    "\\end{align*}\n",
    "$$\n",
    "Esto para cualquier $d \\geq 1/2$.\n",
    "\n",
    "$\\therefore T(n)\\leq cn^2$, por lo que $T(n)=O(n^2)$. Luego, considerando $T(n) \\geq cn^2$, tenemos que $T(n/2) \\geq c(n/2)^2$:\n",
    "\n",
    "$$\n",
    "\\begin{align*}\n",
    "T(n)&=4T(n/2)+n\\\\\n",
    "& \\geq 4(c(n/2)^2)+n\\\\\n",
    "& = cn^2 + n \\\\\n",
    "& \\geq cn^2\n",
    "\\end{align*}\n",
    "$$\n",
    "$\\therefore T(n) \\geq cn^2$, por lo que $T(n) = \\Omega(n^2)$.\n",
    "\n",
    "$\\therefore T(n)=\\Theta(n^2)$"
   ]
  }
 ],
 "metadata": {
  "kernelspec": {
   "display_name": "Julia 1.10.4",
   "language": "julia",
   "name": "julia-1.10"
  },
  "language_info": {
   "file_extension": ".jl",
   "mimetype": "application/julia",
   "name": "julia",
   "version": "1.10.4"
  }
 },
 "nbformat": 4,
 "nbformat_minor": 5
}
