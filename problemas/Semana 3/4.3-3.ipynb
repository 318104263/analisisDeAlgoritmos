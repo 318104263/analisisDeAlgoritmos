{
  "nbformat": 4,
  "nbformat_minor": 0,
  "metadata": {
    "colab": {
      "provenance": []
    },
    "kernelspec": {
      "name": "python3",
      "display_name": "Python 3"
    },
    "language_info": {
      "name": "python"
    }
  },
  "cells": [
    {
      "cell_type": "code",
      "execution_count": null,
      "metadata": {
        "id": "-UW8wK_W-bju"
      },
      "outputs": [],
      "source": []
    },
    {
      "cell_type": "markdown",
      "source": [
        "**ENUNCIADO**\n",
        "\n",
        "La recurrencia $T(n) = 2T(n-1)+1$ tiene como solucion $T(n) = O(n^2)$ Muestra que la prueba de la sustitución falla al asumir que $T(n) \\leqslant c 2^n $, donde $c>0$ es constante. Después demuestra que al extraer un elemento de orden menor al realizar la sustitución funciona.\n",
        "\n",
        "**Resolución**\n",
        "\n",
        "$T(n) = 2 T(n-1)+1$\n",
        "\n",
        "$T(n) = O(2^n)$\n",
        "\n",
        "$T(n) \\leqslant c2^n , c>0$\n",
        "\n",
        "$T(n) = 2T(n-1) + 1$\n",
        "\n",
        "$ \\leqslant 2 c^(n-1) +1 $\n",
        "\n",
        "$\\leqslant c 2^n +1$\n",
        "Esto contradice nuestra supocisión de que $ T(n) \\leqslant c2^n $ ya que  $ T(n) \\leqslant c2^n +1 $\n",
        "\n",
        "Ahora, tenemos que demostrar que al restar un elemento de orden menor la prueba de sustitución funciona correctamente.\n",
        "\n",
        "Restando \"d\" a ambos términos de la desigualdad, donde $d>0$.\n",
        "\n",
        " $ T(n) \\leqslant c2^n -d $\n",
        "\n",
        " Ahora supondremos que $ T(n-1) \\leqslant c2^(n-1) -d $\n",
        "\n",
        " Entonces\n",
        "\n",
        "$ T(n) = 2T(n-1) +1 \\leqslant 2(2c^(n-d) +1$\n",
        "\n",
        "$\\leqslant c2^n -2d +1 $\n",
        "\n",
        "$\\leqslant c2^n$, para cualquier $d>\\frac{1}{2}$\n",
        "\n",
        "$\\therefore T(n) \\leqslant c2^n$\n",
        "\n",
        "Por lo tanto hemos mostrado que al extraer un término de menor orden, la prueba funciona.\n",
        "\n",
        "$\\therefore T(n) = O(2^n)$\n",
        "\n"
      ],
      "metadata": {
        "id": "QeTQryel-f7C"
      }
    },
    {
      "cell_type": "markdown",
      "source": [],
      "metadata": {
        "id": "S94gY_kyAC13"
      }
    },
    {
      "cell_type": "code",
      "source": [],
      "metadata": {
        "id": "G3JOXzm-__2n"
      },
      "execution_count": null,
      "outputs": []
    }
  ]
}